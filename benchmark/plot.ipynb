{
 "cells": [
  {
   "cell_type": "code",
   "execution_count": null,
   "metadata": {},
   "outputs": [],
   "source": [
    "library(RBGL)\n",
    "library(ggplot2)\n",
    "library(dplyr, warn.conflicts = FALSE)\n",
    "#library(tibble)\n",
    "library(\"rjson\")\n",
    "\n",
    "source(\"lib/code_for_binary_simulations/blip_vs_bidag_plot.R\")\n",
    "source(\"lib/code_for_binary_simulations/summarySE.R\")"
   ]
  },
  {
   "cell_type": "code",
   "execution_count": null,
   "metadata": {},
   "outputs": [],
   "source": [
    "config <- fromJSON(file = \"config.json\")"
   ]
  },
  {
   "cell_type": "code",
   "execution_count": null,
   "metadata": {},
   "outputs": [],
   "source": [
    "directory <- config$output_dir\n",
    "dims <- config$dims[[1]]\n",
    "sample_sizes <- config$sample_sizes[[1]]\n",
    "replicates <- config$replicates$start:config$replicates$end\n",
    "dag_avparents <-config$av_parents[[1]]"
   ]
  },
  {
   "cell_type": "code",
   "execution_count": null,
   "metadata": {},
   "outputs": [],
   "source": [
    "sample_sizes"
   ]
  },
  {
   "cell_type": "code",
   "execution_count": null,
   "metadata": {},
   "outputs": [],
   "source": [
    "rjson::fromJSON('[[[1,0], [0,1]]]', simplify = TRUE)\n"
   ]
  },
  {
   "cell_type": "code",
   "execution_count": null,
   "metadata": {},
   "outputs": [],
   "source": [
    "config"
   ]
  },
  {
   "cell_type": "markdown",
   "metadata": {},
   "source": [
    "### Order MCMC"
   ]
  },
  {
   "cell_type": "code",
   "execution_count": null,
   "metadata": {},
   "outputs": [],
   "source": [
    "filenames <- list.files(pattern = \"^(res_orderMCMC)\", path = directory)\n",
    "ROCdf_order_mcmc_itsearch_map <- data.frame()\n",
    "ROCdf_order_mcmc_itsearch_sample <- data.frame()\n",
    "ROCdf_order_mcmc <- data.frame()\n",
    "\n",
    "tmpdf <- NULL\n",
    "for (filename in filenames) {\n",
    "    tmpdf <- read.csv(file.path(directory, filename))\n",
    "    \n",
    "#    tmpdf$algorithm <- apply(tmpdf[\"itsearch_MAP\"], 1, \n",
    "# function(a){\n",
    "#    if(a==TRUE){ \n",
    "#        return(\"order_mcmc_itsearch_map\")\n",
    "#     }else {\n",
    "#        return(\"order_mcmc_itsearch_sample\")\n",
    "#      }\n",
    "#  })   \n",
    "#     tmpdf$itsearch_plus1it <- apply(tmpdf[\"itsearch_plus1it\"], 1, \n",
    "#         function(a){\n",
    "#    if(a==\"None\"){ \n",
    "#        return(NA)\n",
    "#     }else {\n",
    "#        return(a)\n",
    "#     }\n",
    "#     })  \n",
    "    ROCdf_order_mcmc <- dplyr::bind_rows(ROCdf_order_mcmc, tmpdf)\n",
    "}\n",
    "print(tmpdf)"
   ]
  },
  {
   "cell_type": "code",
   "execution_count": null,
   "metadata": {},
   "outputs": [],
   "source": [
    "tmpdf"
   ]
  },
  {
   "cell_type": "code",
   "execution_count": null,
   "metadata": {},
   "outputs": [],
   "source": [
    "ROCdf_order_mcmc"
   ]
  },
  {
   "cell_type": "code",
   "execution_count": null,
   "metadata": {},
   "outputs": [],
   "source": [
    "sumROC_order_mcmc = ROCdf_order_mcmc %>%\n",
    "                    filter(dim %in% dims) %>%\n",
    "                    filter(sample_size %in% sample_sizes) %>%\n",
    "                    filter(avparents %in% dag_avparents) %>%\n",
    "                    filter(replicate %in% replicates) %>%\n",
    "                    # filter(is.na(itsearch_plus1it) | (itsearch_plus1it %in% config$itsearch_sample$optional$plus1it)) %>%\n",
    "                    group_by(legend, threshold, sample_size, dim, avparents) %>% \n",
    "                    summarise(SHD_mean = mean(SHD),\n",
    "                              TPR_mean = mean(TPR), \n",
    "                              TPR_median = median(TPR), \n",
    "                              FPRn_median = median(FPRn), \n",
    "                              TPR_q1 = quantile(TPR, probs = c(0.05)), \n",
    "                              TPR_q3 = quantile(TPR, probs = c(0.95)),\n",
    "                              time_mean = mean(time),\n",
    "                              logscore_mean = mean(logscore),\n",
    "                              N = n()) #%>%\n",
    "                    #filter(N %in% length(replicates))"
   ]
  },
  {
   "cell_type": "code",
   "execution_count": null,
   "metadata": {},
   "outputs": [],
   "source": [
    "labels <- apply(sumROC_order_mcmc, 1, function(row) {\n",
    "    paste(\"p=\",row[\"dim\"], \", n=\",row[\"sample_size\"], \", avparents=\", row[\"avparents\"], \", N=\",row[\"N\"] , sep=\"\")\n",
    "})\n",
    "\n",
    "sumROC_order_mcmc[\"labels\"] <- labels "
   ]
  },
  {
   "cell_type": "code",
   "execution_count": null,
   "metadata": {},
   "outputs": [],
   "source": [
    "sumROC_order_mcmc"
   ]
  },
  {
   "cell_type": "markdown",
   "metadata": {},
   "source": [
    "### Iterative MCMC"
   ]
  },
  {
   "cell_type": "code",
   "execution_count": null,
   "metadata": {},
   "outputs": [],
   "source": [
    "filenames <- list.files(pattern = \"^(res_itsearch)\", path = directory)\n",
    "ROCdf_itsearch <- data.frame()\n",
    "for (filename in filenames) {\n",
    "  tmpdf <- read.csv(file.path(directory, filename))\n",
    "  # Convert \"None\" string to NA\n",
    "    tmpdf[\"plus1it\"] <- na_if(tmpdf[\"plus1it\"], \"None\")\n",
    "   tmpdf[\"posterior\"] <- na_if(tmpdf[\"posterior\"], \"None\")\n",
    "    ROCdf_itsearch <- dplyr::bind_rows(ROCdf_itsearch, tmpdf)\n",
    "  \n",
    "}"
   ]
  },
  {
   "cell_type": "code",
   "execution_count": null,
   "metadata": {},
   "outputs": [],
   "source": [
    "ROCdf_itsearch"
   ]
  },
  {
   "cell_type": "code",
   "execution_count": null,
   "metadata": {},
   "outputs": [],
   "source": [
    "#ROCdf_itsearch$algorithm <- apply(ROCdf_itsearch[\"MAP\"], 1, \n",
    "# function(a){\n",
    "#    if(a==TRUE){ \n",
    "#        return(\"itsearch_map\")\n",
    "#     }else {\n",
    "#        return(\"itsearch_sample\")\n",
    "#      }\n",
    "#  })                                          "
   ]
  },
  {
   "cell_type": "code",
   "execution_count": null,
   "metadata": {},
   "outputs": [],
   "source": [
    "sum_roc_itsearch <- ROCdf_itsearch %>% \n",
    "                filter(dim %in% dims) %>%\n",
    "                filter(sample_size %in% sample_sizes) %>%\n",
    "                filter(avparents %in% dag_avparents) %>%\n",
    "                filter(is.na(plus1it) | (plus1it %in% config$itsearch_sample$optional$plus1it)) %>%\n",
    "                 group_by(legend, sample_size, dim, avparents) %>% \n",
    "                 summarise( SHD_mean = mean(SHD),\n",
    "                           TPR_mean = mean(TPR), \n",
    "                          TPR_median = median(TPR), \n",
    "                          FPRn_median = median(FPRn), \n",
    "                          TPR_q1 = quantile(TPR, probs = c(0.05)), \n",
    "                          TPR_q3 = quantile(TPR, probs = c(0.95)),\n",
    "                          logscore_mean =  mean(logscore),\n",
    "                           time_mean = mean(time),\n",
    "                         #  it_mean = mean(it),\n",
    "                          N = n()) #%>%\n",
    "                    #filter(N %in% length(replicates))0\n",
    "\n",
    "labels <- apply(sum_roc_itsearch, 1, function(row) {\n",
    "    paste(\"p=\",row[\"dim\"],\", n=\",row[\"sample_size\"], \", avparents=\", row[\"avparents\"], \", N=\",row[\"N\"] , sep=\"\")\n",
    "})\n",
    "\n",
    "sum_roc_itsearch[\"labels\"] <- labels "
   ]
  },
  {
   "cell_type": "code",
   "execution_count": null,
   "metadata": {},
   "outputs": [],
   "source": [
    "labels"
   ]
  },
  {
   "cell_type": "code",
   "execution_count": null,
   "metadata": {},
   "outputs": [],
   "source": [
    "sum_roc_itsearch"
   ]
  },
  {
   "cell_type": "markdown",
   "metadata": {},
   "source": [
    "### PC algorithm"
   ]
  },
  {
   "cell_type": "code",
   "execution_count": null,
   "metadata": {},
   "outputs": [],
   "source": [
    "filenames <- list.files(pattern = \"^(res_pcalg)\", path = directory)\n",
    "roc_pcalg <- data.frame()\n",
    "for (filename in filenames) {\n",
    "  tmpdf <- read.csv(file.path(directory, filename))\n",
    "  roc_pcalg <- dplyr::bind_rows(roc_pcalg, tmpdf)\n",
    "}"
   ]
  },
  {
   "cell_type": "code",
   "execution_count": null,
   "metadata": {},
   "outputs": [],
   "source": [
    "sum_roc_pcalg <- roc_pcalg %>% \n",
    "                 filter(dim %in% dims) %>%\n",
    "                 filter(sample_size %in% sample_sizes) %>%         \n",
    "                 filter(avparents %in% dag_avparents) %>%\n",
    "                filter(replicate %in% replicates) %>%\n",
    "                 group_by(legend, alpha, sample_size, dim, avparents) %>% \n",
    "                 summarise(\n",
    "                          SHD_mean = mean(SHD),\n",
    "                          TPR_mean = mean(TPR), \n",
    "                          TPR_median = median(TPR), \n",
    "                          FPRn_median = median(FPRn), \n",
    "                          TPR_q1 = quantile(TPR, probs = c(0.05)), \n",
    "                          TPR_q3 = quantile(TPR, probs = c(0.95)),\n",
    "                          time_mean = mean(time),\n",
    "                          N = n())# %>% ungroup() %>%\n",
    "#                 filter(N %in% replicates)\n",
    "labels <- apply(sum_roc_pcalg, 1, function(row) {\n",
    "    paste(\"p=\",row[\"dim\"], \", n=\",row[\"sample_size\"], \", avparents=\", row[\"avparents\"], \", N=\",row[\"N\"] , sep=\"\")\n",
    "})\n",
    "\n",
    "sum_roc_pcalg[\"labels\"] <- labels "
   ]
  },
  {
   "cell_type": "code",
   "execution_count": null,
   "metadata": {},
   "outputs": [],
   "source": [
    "sum_roc_pcalg"
   ]
  },
  {
   "cell_type": "markdown",
   "metadata": {},
   "source": [
    "### Max-Min hill climbing"
   ]
  },
  {
   "cell_type": "code",
   "execution_count": null,
   "metadata": {},
   "outputs": [],
   "source": [
    "filenames <- list.files(pattern = \"^(res_mmhc)\", path = directory)\n",
    "roc_mmhc <- data.frame()\n",
    "for (filename in filenames) {\n",
    "  tmpdf <- read.csv(file.path(directory, filename))\n",
    "  roc_mmhc <- dplyr::bind_rows(roc_mmhc, tmpdf)\n",
    "}"
   ]
  },
  {
   "cell_type": "code",
   "execution_count": null,
   "metadata": {},
   "outputs": [],
   "source": [
    "sum_roc_mmhc <- roc_mmhc %>% \n",
    "                filter(dim %in% dims) %>%\n",
    "                filter(sample_size %in% sample_sizes) %>%\n",
    "                    filter(avparents %in% dag_avparents) %>% \n",
    "                filter(replicate %in% replicates) %>%\n",
    "                 group_by(legend, alpha, sample_size, dim, avparents) %>% \n",
    "                 summarise( SHD_mean = mean(SHD),\n",
    "                           TPR_mean = mean(TPR), \n",
    "                          TPR_median = median(TPR), \n",
    "                          FPRn_median = median(FPRn), \n",
    "                          TPR_q1 = quantile(TPR, probs = c(0.05)), \n",
    "                          TPR_q3 = quantile(TPR, probs = c(0.95)),\n",
    "                           time_mean = mean(time),\n",
    "                          N = n()) #%>% ungroup() %>%\n",
    "                    #filter(N %in% replicates)\n",
    "\n",
    "labels <- apply(sum_roc_mmhc, 1, function(row) {\n",
    "    paste(\"p=\",row[\"dim\"], \", n=\",row[\"sample_size\"], \", avparents=\", row[\"avparents\"], \", N=\",row[\"N\"] , sep=\"\")\n",
    "})\n",
    "\n",
    "sum_roc_mmhc[\"labels\"] <- labels "
   ]
  },
  {
   "cell_type": "code",
   "execution_count": null,
   "metadata": {},
   "outputs": [],
   "source": [
    "sum_roc_mmhc"
   ]
  },
  {
   "cell_type": "markdown",
   "metadata": {},
   "source": [
    "## FGES"
   ]
  },
  {
   "cell_type": "code",
   "execution_count": null,
   "metadata": {},
   "outputs": [],
   "source": [
    "filenames <- list.files(pattern = \"^(res_fges)\", path = directory)\n",
    "roc_fges <- data.frame()\n",
    "for (filename in filenames) {\n",
    "  tmpdf <- read.csv(file.path(directory, filename))\n",
    "  roc_fges <- dplyr::bind_rows(roc_fges, tmpdf)\n",
    "}"
   ]
  },
  {
   "cell_type": "code",
   "execution_count": null,
   "metadata": {},
   "outputs": [],
   "source": [
    "roc_fges"
   ]
  },
  {
   "cell_type": "code",
   "execution_count": null,
   "metadata": {},
   "outputs": [],
   "source": [
    "sum_roc_fges <- roc_fges %>% \n",
    "                filter(dim %in% dims) %>%\n",
    "                filter(sample_size %in% sample_sizes) %>%\n",
    "                    filter(avparents %in% dag_avparents) %>% \n",
    "                filter(replicate %in% replicates) %>%\n",
    "                 group_by(legend, sample_size, dim, avparents) %>% \n",
    "                 summarise( SHD_mean = mean(SHD),\n",
    "                           TPR_mean = mean(TPR), \n",
    "                          TPR_median = median(TPR), \n",
    "                          FPRn_median = median(FPRn), \n",
    "                          TPR_q1 = quantile(TPR, probs = c(0.05)), \n",
    "                          TPR_q3 = quantile(TPR, probs = c(0.95)),\n",
    "                           time_mean = mean(time),\n",
    "                          N = n()) #%>% ungroup() %>%\n",
    "                    #filter(N %in% replicates)\n",
    "\n",
    "labels <- apply(sum_roc_fges, 1, function(row) {\n",
    "    paste(\"p=\",row[\"dim\"], \", n=\",row[\"sample_size\"], \", avparents=\", row[\"avparents\"], \", N=\",row[\"N\"] , sep=\"\")\n",
    "})\n",
    "\n",
    "sum_roc_fges[\"labels\"] <- labels "
   ]
  },
  {
   "cell_type": "code",
   "execution_count": null,
   "metadata": {},
   "outputs": [],
   "source": [
    "sum_roc_fges"
   ]
  },
  {
   "cell_type": "markdown",
   "metadata": {},
   "source": [
    "### Blip"
   ]
  },
  {
   "cell_type": "code",
   "execution_count": null,
   "metadata": {},
   "outputs": [],
   "source": [
    "filenames <- list.files(pattern = \"^(res_blip)\", path = directory)\n",
    "ROCdf_blip <- data.frame()\n",
    "for (filename in filenames) {\n",
    "  tmpdf <- read.csv(file.path(directory, filename))\n",
    "  ROCdf_blip <- dplyr::bind_rows(ROCdf_blip, tmpdf)\n",
    "}"
   ]
  },
  {
   "cell_type": "markdown",
   "metadata": {},
   "source": [
    "# Fix so that scores are calculated on the same data set"
   ]
  },
  {
   "cell_type": "code",
   "execution_count": null,
   "metadata": {},
   "outputs": [],
   "source": [
    "blip_scores <- ROCdf_blip %>% \n",
    "                select(c(\"legend\",\"replicate\", \"avparents\", \"sample_size\", \"dim\", \"logscore\")) %>%\n",
    "                filter(dim %in% dims) %>%\n",
    "                filter(sample_size %in% sample_sizes) %>%\n",
    "                filter(avparents %in% dag_avparents) %>% \n",
    "                filter(replicate %in% replicates)\n",
    "rename(blip_scores, logscore_blip=logscore)"
   ]
  },
  {
   "cell_type": "code",
   "execution_count": null,
   "metadata": {},
   "outputs": [],
   "source": [
    "blip_scores <- ROCdf_blip %>% \n",
    "                select(c(\"legend\",\"replicate\", \"avparents\", \"sample_size\", \"dim\", \"logscore\", \"max_time\")) %>%\n",
    "                filter(dim %in% dims) %>%\n",
    "                filter(sample_size %in% sample_sizes) %>%\n",
    "                filter(avparents %in% dag_avparents) %>% \n",
    "                filter(replicate %in% replicates) \n",
    "blip_scores <- rename(blip_scores, logscore_blip=logscore)\n",
    "blip_scores <- rename(blip_scores, legend_blip=legend)\n",
    "\n",
    "\n",
    "itsearch_scores <- ROCdf_itsearch %>% \n",
    "                select(c(\"legend\",\"replicate\", \"avparents\", \"sample_size\", \"dim\", \"logscore\")) %>%\n",
    "                filter(dim %in% dims) %>%\n",
    "                filter(sample_size %in% sample_sizes) %>%\n",
    "                filter(avparents %in% dag_avparents) %>% \n",
    "                filter(replicate %in% replicates) \n",
    "itsearch_scores <- rename(itsearch_scores, logscore_itsearch=logscore)\n",
    "itsearch_scores <- rename(itsearch_scores, legend_itsearch=legend)\n",
    "\n",
    "order_mcmc_scores <- ROCdf_order_mcmc %>% \n",
    "                select(c(\"legend\",\"replicate\", \"avparents\", \"sample_size\", \"dim\", \"logscore\")) %>%\n",
    "                filter(dim %in% dims) %>%\n",
    "                filter(sample_size %in% sample_sizes) %>%\n",
    "                filter(avparents %in% dag_avparents) %>% \n",
    "                filter(replicate %in% replicates) \n",
    "order_mcmc_scores <- rename(order_mcmc_scores, logscore_order_mcmc=logscore)\n",
    "order_mcmc_scores <- rename(order_mcmc_scores, legend_order_mcmc=legend)\n",
    "\n",
    "#blip_scores\n",
    "#itsearch_scores\n",
    "#order_mcmc_scores\n",
    "\n",
    "cols <- c(\"replicate\", \"avparents\", \"sample_size\", \"dim\")\n",
    "\n",
    "scores <- left_join(blip_scores, itsearch_scores, by=cols)\n",
    "scores$blip_minus_itsearch <- scores$logscore_blip - scores$logscore_itsearch\n",
    "difflogscore_itsearch <- scores\n",
    "\n",
    "#print(difflogscore_itsearch)\n",
    "#scores <- blip_scores %>% left_join(itsearch_scores,by=c(\"replicate\", \"avparents\", \"sample_size\", \"dim\"), suffix = c(\".blip\",\".itsearch\")) %>%\n",
    "#        left_join(order_mcmc_scores,by=c(\"replicate\", \"avparents\", \"sample_size\", \"dim\"), suffix = c(\".blip\",\".itsearch\"), name=\"test\")\n",
    "difflogscore_itsearch <- difflogscore_itsearch %>% \n",
    "                         group_by(legend_itsearch, sample_size, dim, avparents) %>% \n",
    "                         summarise(logscore_mean=mean(blip_minus_itsearch),        \n",
    "                        N=n())\n",
    "\n",
    "labels <- apply(difflogscore_itsearch, 1, function(row) {\n",
    "    paste(\"p=\",row[\"dim\"], \", n=\",row[\"sample_size\"], \", avparents=\", row[\"avparents\"], \", N=\",row[\"N\"] , sep=\"\")\n",
    "})\n",
    "\n",
    "\n",
    "# TODO: Compare to one of the blip max_times\n",
    "difflogscore_itsearch[\"labels\"] <- labels \n",
    "\n",
    "difflogscore_itsearch"
   ]
  },
  {
   "cell_type": "code",
   "execution_count": null,
   "metadata": {},
   "outputs": [],
   "source": [
    "ggplot() + \n",
    "geom_point(data = sumROC_order_mcmc,\n",
    "          aes(x = algorithm,\n",
    "              y = logscore_mean,\n",
    "              col = algorithm)) +\n",
    "geom_text(data = sumROC_order_mcmc,\n",
    "          aes(x = algorithm, \n",
    "               y = logscore_mean,               \n",
    "                col = algorithm, label=threshold),\n",
    "            check_overlap = TRUE,\n",
    "           nudge_x=0.2,\n",
    "          nudge_y=0.9) +\n",
    "\n",
    "#geom_point(data = sum_roc_pcalg,\n",
    "#          aes(x = algorithm,\n",
    "#              y = logscore_mean,\n",
    "#              col = algorithm)) +\n",
    "#geom_point(data = sum_roc_mmhc,\n",
    "#          aes(x = algorithm,\n",
    "#              y = logscore_mean,\n",
    "#              col = algorithm)) +\n",
    "geom_point(data = sum_roc_blip,\n",
    "          aes(x = algorithm,\n",
    "              y = logscore_mean,\n",
    "              col = algorithm)) +\n",
    "geom_point(data = sum_roc_itsearch,\n",
    "          aes(x = algorithm,\n",
    "              y = logscore_mean,\n",
    "              col = algorithm)) +\n",
    "theme(axis.text.x = element_text(angle = 10),\n",
    "      legend.position = \"none\") +\n",
    "facet_wrap(. ~ labels, scales=\"free_y\") +\n",
    "ylab(\"Mean log-score\") +\n",
    "xlab(\"Algorithm\") +\n",
    "ggsave(file=file.path(\"logscore.eps\"))\n"
   ]
  },
  {
   "cell_type": "code",
   "execution_count": null,
   "metadata": {},
   "outputs": [],
   "source": [
    "sum_roc_blip <- ROCdf_blip %>% \n",
    "                filter(dim %in% dims) %>%\n",
    "                filter(sample_size %in% sample_sizes) %>%\n",
    "                filter(avparents %in% dag_avparents) %>%      \n",
    "                filter(replicate %in% replicates) %>%\n",
    "                filter(indeg %in% config$blip$indeg) %>%\n",
    "                 group_by(legend, sample_size, dim,max_time, avparents) %>% \n",
    "                 summarise( SHD_mean = mean(SHD),\n",
    "                           TPR_mean = mean(TPR),\n",
    "                          time_mean=mean(time),\n",
    "                          TPR_median = median(TPR), \n",
    "                          FPRn_median = median(FPRn), \n",
    "                          TPR_q1 = quantile(TPR, probs = c(0.05)),\n",
    "                          TPR_q3 = quantile(TPR, probs = c(0.95)),\n",
    "                           logscore_mean = mean(logscore),\n",
    "                          N = n())#%>%\n",
    "                    #filter(N %in% replicates)\n",
    "labels <- apply(sum_roc_blip, 1, function(row) {\n",
    "    paste(\"p=\",row[\"dim\"], \", n=\",row[\"sample_size\"], \", avparents=\", row[\"avparents\"], \", N=\",row[\"N\"] , sep=\"\")\n",
    "})\n",
    "\n",
    "sum_roc_blip[\"labels\"] <- labels "
   ]
  },
  {
   "cell_type": "code",
   "execution_count": null,
   "metadata": {},
   "outputs": [],
   "source": [
    "sum_roc_blip"
   ]
  },
  {
   "cell_type": "markdown",
   "metadata": {},
   "source": [
    "### GoBNiLP"
   ]
  },
  {
   "cell_type": "code",
   "execution_count": null,
   "metadata": {},
   "outputs": [],
   "source": [
    "filenames <- list.files(pattern = \"^(res_gobnilp)\", path = directory)\n",
    "ROCdf_gobnilp <- data.frame()\n",
    "for (filename in filenames) {\n",
    "  tmpdf <- read.csv(file.path(directory, filename))\n",
    "  ROCdf_gobnilp <- dplyr::bind_rows(ROCdf_gobnilp, tmpdf)\n",
    "}"
   ]
  },
  {
   "cell_type": "code",
   "execution_count": null,
   "metadata": {},
   "outputs": [],
   "source": [
    "ROCdf_gobnilp"
   ]
  },
  {
   "cell_type": "code",
   "execution_count": null,
   "metadata": {},
   "outputs": [],
   "source": [
    "sum_roc_gobnilp <- ROCdf_gobnilp %>% \n",
    "                filter(dim %in% dims) %>%\n",
    "                    filter(sample_size %in% sample_sizes) %>%\n",
    "                    filter(avparents %in% avparents) %>%          \n",
    "                filter(replicate %in% replicates) %>%\n",
    "                   group_by(legend, sample_size, dim, avparents, palim) %>% \n",
    "                 summarise( SHD_mean = mean(SHD),\n",
    "                     TPR_mean = mean(TPR), \n",
    "                          TPR_median = median(TPR), \n",
    "                          FPRn_median = median(FPRn), \n",
    "                          TPR_q1 = quantile(TPR, probs = c(0.05)),\n",
    "                          TPR_q3 = quantile(TPR, probs = c(0.95)),\n",
    "                           time_mean = mean(time),\n",
    "                          N = n())#%>%\n",
    "                    #filter(N %in% length(replicates))\n",
    "labels <- apply(sum_roc_gobnilp, 1, function(row) {\n",
    "    paste(\"p=\",row[\"dim\"], \", n=\",row[\"sample_size\"], \", avparents=\", row[\"avparents\"], \", N=\",row[\"N\"] , sep=\"\")\n",
    "})\n",
    "\n",
    "sum_roc_gobnilp[\"labels\"] <- labels "
   ]
  },
  {
   "cell_type": "code",
   "execution_count": null,
   "metadata": {},
   "outputs": [],
   "source": [
    "sum_roc_gobnilp"
   ]
  },
  {
   "cell_type": "code",
   "execution_count": null,
   "metadata": {},
   "outputs": [],
   "source": [
    "sumROC_order_mcmc"
   ]
  },
  {
   "cell_type": "markdown",
   "metadata": {},
   "source": [
    "## Plot ROC curves"
   ]
  },
  {
   "cell_type": "code",
   "execution_count": null,
   "metadata": {},
   "outputs": [],
   "source": [
    "ggplot() +\n",
    "# PC algorithm\n",
    "geom_errorbar(data = sum_roc_pcalg,\n",
    "              aes(x = FPRn_median,\n",
    "                  ymin = TPR_q1, \n",
    "                  ymax = TPR_q3, \n",
    "                  col = legend), \n",
    "              width = 0.01) +\n",
    "geom_path(data = sum_roc_pcalg,\n",
    "          aes(x = FPRn_median, \n",
    "              y = TPR_median,\n",
    "              col = legend)) +\n",
    "geom_point(data = sum_roc_pcalg,\n",
    "           aes(x = FPRn_median, \n",
    "               y = TPR_median,               \n",
    "               col = legend, \n",
    "               shape = legend), \n",
    "               size = 1) + \n",
    " geom_text(data = sum_roc_pcalg,\n",
    "            aes(x = FPRn_median, \n",
    "                y = TPR_q3,               \n",
    "                label=alpha, col=legend),\n",
    "          check_overlap = TRUE,\n",
    "           nudge_x=-0.02,\n",
    "          nudge_y=0.02\n",
    "          ) +\n",
    "\n",
    "# Max-min hill- climbing \n",
    "geom_errorbar(data = sum_roc_mmhc,\n",
    "              aes(x = FPRn_median,\n",
    "                  ymin = TPR_q1, \n",
    "                  ymax = TPR_q3, \n",
    "                  col = legend), \n",
    "              width = 0.01) +\n",
    "geom_path(data = sum_roc_mmhc,\n",
    "          aes(x = FPRn_median, \n",
    "              y = TPR_median,\n",
    "              col = legend)) +\n",
    "geom_point(data = sum_roc_mmhc,\n",
    "           aes(x = FPRn_median, \n",
    "               y = TPR_median,               \n",
    "               col = legend, \n",
    "               shape = legend), \n",
    "               size = 1) + \n",
    " geom_text(data = sum_roc_mmhc,\n",
    "            aes(x = FPRn_median, \n",
    "                y = TPR_q3,               \n",
    "                label=alpha, col=legend),\n",
    "          check_overlap = TRUE,\n",
    "           nudge_x=-0.02,\n",
    "          nudge_y=0.02\n",
    "          ) +\n",
    "\n",
    "# Order mcmc\n",
    "geom_errorbar(data = sumROC_order_mcmc,\n",
    "              aes(x = FPRn_median,\n",
    "                  ymin = TPR_q1, \n",
    "                  ymax = TPR_q3, \n",
    "                  col = legend), \n",
    "              width = 0.01) +\n",
    "geom_path(data = sumROC_order_mcmc,\n",
    "          aes(x = FPRn_median, \n",
    "              y = TPR_median,\n",
    "              col = legend)) +\n",
    "geom_point(data = sumROC_order_mcmc,\n",
    "           aes(x = FPRn_median, \n",
    "               y = TPR_median,               \n",
    "               col = legend, \n",
    "               shape = legend), \n",
    "               size = 2) +\n",
    " geom_text(data = sumROC_order_mcmc,\n",
    "            aes(x = FPRn_median, \n",
    "                y = TPR_q3,               \n",
    "                col = legend, label=threshold),\n",
    "            check_overlap = TRUE,\n",
    "           nudge_x=-0.02,\n",
    "          nudge_y=0.02) +\n",
    "\n",
    "# Iterative search\n",
    "geom_errorbar(data = sum_roc_itsearch,\n",
    "              aes(x = FPRn_median,\n",
    "                  ymin = TPR_q1, \n",
    "                  ymax = TPR_q3, \n",
    "                  col = legend), \n",
    "              width = 0.01) +\n",
    "geom_path(data = sum_roc_itsearch,\n",
    "          aes(x = FPRn_median, \n",
    "              y = TPR_median,\n",
    "              col = legend)) +\n",
    "geom_point(data = sum_roc_itsearch,\n",
    "           aes(x = FPRn_median, \n",
    "               y = TPR_median,               \n",
    "               col = legend, \n",
    "               shape = legend), \n",
    "               size = 1) +\n",
    "# Blip\n",
    "geom_errorbar(data = sum_roc_blip,\n",
    "              aes(x = FPRn_median,\n",
    "                  ymin = TPR_q1, \n",
    "                  ymax = TPR_q3, \n",
    "                  col = legend), \n",
    "              width = 0.01) +\n",
    "geom_path(data = sum_roc_blip,\n",
    "          aes(x = FPRn_median, \n",
    "              y = TPR_median,\n",
    "              col = legend)) +\n",
    "geom_point(data = sum_roc_blip,\n",
    "           aes(x = FPRn_median, \n",
    "               y = TPR_median,               \n",
    "               col = legend, \n",
    "               shape = legend), \n",
    "               size = 1) +\n",
    "# Gobnilp\n",
    " geom_errorbar(data = sum_roc_gobnilp,\n",
    "               aes(x = FPRn_median,\n",
    "                   ymin = TPR_q1, \n",
    "                   ymax = TPR_q3, \n",
    "                   col = legend), \n",
    "               width = 0.01) +\n",
    " geom_path(data = sum_roc_gobnilp,\n",
    "           aes(x = FPRn_median, \n",
    "               y = TPR_median,\n",
    "               col = legend)) +\n",
    " geom_point(data = sum_roc_gobnilp,\n",
    "            aes(x = FPRn_median, \n",
    "                y = TPR_median,               \n",
    "                col = legend, \n",
    "                shape = legend), \n",
    "                size = 1) +\n",
    "# FGES\n",
    " geom_errorbar(data = sum_roc_fges,\n",
    "               aes(x = FPRn_median,\n",
    "                   ymin = TPR_q1, \n",
    "                   ymax = TPR_q3, \n",
    "                   col = legend), \n",
    "               width = 0.01) +\n",
    " geom_path(data = sum_roc_fges,\n",
    "           aes(x = FPRn_median, \n",
    "               y = TPR_median,\n",
    "               col = legend)) +\n",
    " geom_point(data = sum_roc_fges,\n",
    "            aes(x = FPRn_median, \n",
    "                y = TPR_median,               \n",
    "                col = legend, \n",
    "                shape = legend), \n",
    "                size = 1) +\n",
    "# Subplot\n",
    "# \n",
    "\n",
    "# put full label in the dataframe and save it as label.\n",
    "# then write  facet_wrap(. ~ label)\n",
    "\n",
    "#facet_wrap(. ~ dim + avparents + sample_size + N, scales=\"free_x\", nrow = 2) +\n",
    "facet_wrap(. ~ labels, scales=\"free_x\", nrow = 2) +\n",
    "\n",
    "# Titles etc\n",
    "xlab(\"FPRn\") +\n",
    "ylab(\"TPR\") +\n",
    "ggtitle(\"ROC\") +\n",
    "theme(plot.title = element_text(hjust = 0.5))\n",
    "ggsave(file=file.path(\"ROC.eps\"))"
   ]
  },
  {
   "cell_type": "code",
   "execution_count": null,
   "metadata": {},
   "outputs": [],
   "source": []
  },
  {
   "cell_type": "code",
   "execution_count": null,
   "metadata": {},
   "outputs": [],
   "source": [
    "ggplot() + \n",
    "geom_point(data = sumROC_order_mcmc,\n",
    "          aes(x = algorithm,\n",
    "              y = SHD_mean,\n",
    "              col = algorithm)) +\n",
    "geom_text(data = sumROC_order_mcmc,\n",
    "          aes(x = algorithm, \n",
    "               y = SHD_mean,               \n",
    "                col = algorithm, label=threshold),\n",
    "            check_overlap = TRUE,\n",
    "           nudge_x=0.2,\n",
    "          nudge_y=0.9) +\n",
    "\n",
    "geom_point(data = sum_roc_pcalg,\n",
    "          aes(x = algorithm,\n",
    "              y = SHD_mean,\n",
    "              col = algorithm)) +\n",
    "geom_text(data = sum_roc_pcalg,\n",
    "          aes(x = algorithm, \n",
    "               y = SHD_mean,               \n",
    "                col = algorithm, label=alpha),\n",
    "            check_overlap = TRUE,\n",
    "           nudge_x=0.2,\n",
    "          nudge_y=0.9) +\n",
    "\n",
    "geom_point(data = sum_roc_mmhc,\n",
    "          aes(x = algorithm,\n",
    "              y = SHD_mean,\n",
    "              col = algorithm)) +\n",
    "geom_text(data = sum_roc_mmhc,\n",
    "          aes(x = algorithm, \n",
    "               y = SHD_mean,               \n",
    "                col = algorithm, label=alpha),\n",
    "            check_overlap = TRUE,\n",
    "           nudge_x=0.2,\n",
    "          nudge_y=0.9) +\n",
    "\n",
    "geom_point(data = sum_roc_blip,\n",
    "          aes(x = algorithm,\n",
    "              y = SHD_mean,\n",
    "              col = algorithm)) +\n",
    "geom_point(data = sum_roc_itsearch,\n",
    "          aes(x = algorithm,\n",
    "              y = SHD_mean,\n",
    "              col = algorithm)) +\n",
    "theme(axis.text.x = element_text(angle = 15), legend.position = \"none\") +\n",
    "facet_wrap(. ~ labels, scales=\"free_x\") +\n",
    "ylab(\"Mean SHD\") +\n",
    "xlab(\"Algorithm\") \n",
    "ggsave(file=file.path(\"SHD.eps\"))"
   ]
  },
  {
   "cell_type": "markdown",
   "metadata": {},
   "source": [
    "## Logscores"
   ]
  },
  {
   "cell_type": "code",
   "execution_count": null,
   "metadata": {},
   "outputs": [],
   "source": []
  },
  {
   "cell_type": "code",
   "execution_count": null,
   "metadata": {},
   "outputs": [],
   "source": [
    "ggplot() + \n",
    "geom_point(data = sumROC_order_mcmc,\n",
    "          aes(x = algorithm,\n",
    "              y = logscore_mean,\n",
    "              col = algorithm)) +\n",
    "geom_text(data = sumROC_order_mcmc,\n",
    "          aes(x = algorithm, \n",
    "               y = logscore_mean,               \n",
    "                col = algorithm, label=threshold),\n",
    "            check_overlap = TRUE,\n",
    "           nudge_x=0.2,\n",
    "          nudge_y=0.9) +\n",
    "\n",
    "#geom_point(data = sum_roc_pcalg,\n",
    "#          aes(x = algorithm,\n",
    "#              y = logscore_mean,\n",
    "#              col = algorithm)) +\n",
    "#geom_point(data = sum_roc_mmhc,\n",
    "#          aes(x = algorithm,\n",
    "#              y = logscore_mean,\n",
    "#              col = algorithm)) +\n",
    "geom_point(data = sum_roc_blip,\n",
    "          aes(x = algorithm,\n",
    "              y = logscore_mean,\n",
    "              col = algorithm)) +\n",
    "geom_point(data = sum_roc_itsearch,\n",
    "          aes(x = algorithm,\n",
    "              y = logscore_mean,\n",
    "              col = algorithm)) +\n",
    "theme(axis.text.x = element_text(angle = 10),\n",
    "      legend.position = \"none\") +\n",
    "facet_wrap(. ~ labels, scales=\"free_y\") +\n",
    "ylab(\"Mean log-score\") +\n",
    "xlab(\"Algorithm\") +\n",
    "ggsave(file=file.path(\"logscore.eps\"))\n"
   ]
  },
  {
   "cell_type": "markdown",
   "metadata": {},
   "source": [
    "## Times"
   ]
  },
  {
   "cell_type": "code",
   "execution_count": null,
   "metadata": {},
   "outputs": [],
   "source": [
    "ggplot() + \n",
    "geom_point(data = sumROC_order_mcmc,\n",
    "          aes(x = algorithm,\n",
    "              y = time_mean,\n",
    "              col = algorithm)) +\n",
    "geom_point(data = sum_roc_pcalg,\n",
    "          aes(x = algorithm,\n",
    "              y = time_mean,\n",
    "              col = algorithm)) +\n",
    "geom_text(data = sum_roc_pcalg,\n",
    "          aes(x = algorithm, \n",
    "               y = time_mean,               \n",
    "                col = algorithm, label=alpha),\n",
    "            check_overlap = TRUE,\n",
    "           nudge_x=0.2,\n",
    "          nudge_y=0.9) +\n",
    "\n",
    "geom_point(data = sum_roc_mmhc,\n",
    "          aes(x = algorithm,\n",
    "              y = time_mean,\n",
    "              col = algorithm)) +\n",
    "geom_point(data = sum_roc_blip,\n",
    "          aes(x = algorithm,\n",
    "              y = time_mean,\n",
    "              col = algorithm)) +\n",
    "geom_point(data = sum_roc_itsearch,\n",
    "          aes(x = algorithm,\n",
    "              y = time_mean,\n",
    "             col = algorithm)) +\n",
    "theme(axis.text.x = element_text(angle = 10), legend.position = \"none\") +\n",
    "facet_wrap(dim ~ sample_size + N + avparents, scales=\"free_x\") +\n",
    "ylab(\"Mean run time (s)\") +\n",
    "xlab(\"Algorithm\") \n",
    "ggsave(file=file.path(\"runtimes.eps\"))"
   ]
  },
  {
   "cell_type": "code",
   "execution_count": null,
   "metadata": {},
   "outputs": [],
   "source": []
  }
 ],
 "metadata": {
  "kernelspec": {
   "display_name": "R",
   "language": "R",
   "name": "ir"
  },
  "language_info": {
   "codemirror_mode": "r",
   "file_extension": ".r",
   "mimetype": "text/x-r-source",
   "name": "R",
   "pygments_lexer": "r",
   "version": "3.6.3"
  }
 },
 "nbformat": 4,
 "nbformat_minor": 4
}
