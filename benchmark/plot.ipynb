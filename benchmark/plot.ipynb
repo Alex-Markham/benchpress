{
 "cells": [
  {
   "cell_type": "code",
   "execution_count": null,
   "metadata": {},
   "outputs": [],
   "source": [
    "library(RBGL)\n",
    "library(ggplot2)\n",
    "library(dplyr)\n",
    "\n",
    "source(\"lib/code_for_binary_simulations/blip_vs_bidag_plot.R\")\n",
    "source(\"lib/code_for_binary_simulations/summarySE.R\")"
   ]
  },
  {
   "cell_type": "code",
   "execution_count": null,
   "metadata": {},
   "outputs": [],
   "source": [
    "directory <- \"simresults\""
   ]
  },
  {
   "cell_type": "code",
   "execution_count": null,
   "metadata": {},
   "outputs": [],
   "source": [
    "filenames <- list.files(pattern = \"^(res_orderMCMC)\", path = directory)\n",
    "ROCdf_order_mcmc <- data.frame()\n",
    "for (filename in filenames) {\n",
    "  tmpdf <- read.csv(file.path(directory, filename))\n",
    "  ROCdf_order_mcmc <- dplyr::bind_rows(ROCdf_order_mcmc, tmpdf)\n",
    "}"
   ]
  },
  {
   "cell_type": "code",
   "execution_count": null,
   "metadata": {},
   "outputs": [],
   "source": [
    "ROCdf_order_mcmc"
   ]
  },
  {
   "cell_type": "code",
   "execution_count": null,
   "metadata": {},
   "outputs": [],
   "source": [
    "sumROC_order_mcmc = ROCdf_order_mcmc %>% \n",
    "                    group_by(algorithm, threshold, sample_size, dim) %>% \n",
    "                    summarise(TPR_mean = mean(TPR), \n",
    "                              TPR_median = median(TPR), \n",
    "                              FPRn_median = median(FPRn), \n",
    "                              TPR_q1 = quantile(TPR, probs = c(0.05)), \n",
    "                              TPR_q3 = quantile(TPR, probs = c(0.95)),\n",
    "                              time = mean(time),\n",
    "                              logscore_mean = mean(logscore),\n",
    "                              N = n())"
   ]
  },
  {
   "cell_type": "code",
   "execution_count": null,
   "metadata": {},
   "outputs": [],
   "source": [
    "sumROC_order_mcmc"
   ]
  },
  {
   "cell_type": "code",
   "execution_count": null,
   "metadata": {},
   "outputs": [],
   "source": [
    "filenames <- list.files(pattern = \"^(res_pcalg)\", path = directory)\n",
    "roc_pcalg <- data.frame()\n",
    "for (filename in filenames) {\n",
    "  tmpdf <- read.csv(file.path(directory, filename))\n",
    "  roc_pcalg <- dplyr::bind_rows(roc_pcalg, tmpdf)\n",
    "}"
   ]
  },
  {
   "cell_type": "code",
   "execution_count": null,
   "metadata": {},
   "outputs": [],
   "source": [
    "roc_pcalg"
   ]
  },
  {
   "cell_type": "code",
   "execution_count": null,
   "metadata": {},
   "outputs": [],
   "source": [
    "sum_roc_pcalg <- roc_pcalg %>% \n",
    "                 group_by(algorithm, alpha, sample_size, dim) %>% \n",
    "                 summarise(TPR_mean = mean(TPR), \n",
    "                          TPR_median = median(TPR), \n",
    "                          FPRn_median = median(FPRn), \n",
    "                          TPR_q1 = quantile(TPR, probs = c(0.05)), \n",
    "                          TPR_q3 = quantile(TPR, probs = c(0.95)),\n",
    "                          N = n()) %>% ungroup()"
   ]
  },
  {
   "cell_type": "code",
   "execution_count": null,
   "metadata": {},
   "outputs": [],
   "source": [
    "sum_roc_pcalg"
   ]
  },
  {
   "cell_type": "code",
   "execution_count": null,
   "metadata": {},
   "outputs": [],
   "source": [
    "filenames <- list.files(pattern = \"^(res_mmhc)\", path = directory)\n",
    "roc_mmhc <- data.frame()\n",
    "for (filename in filenames) {\n",
    "  tmpdf <- read.csv(file.path(directory, filename))\n",
    "  roc_mmhc <- dplyr::bind_rows(roc_mmhc, tmpdf)\n",
    "}"
   ]
  },
  {
   "cell_type": "code",
   "execution_count": null,
   "metadata": {},
   "outputs": [],
   "source": [
    "roc_mmhc"
   ]
  },
  {
   "cell_type": "code",
   "execution_count": null,
   "metadata": {},
   "outputs": [],
   "source": [
    "sum_roc_mmhc <- roc_mmhc %>% \n",
    "                 group_by(algorithm, alpha, sample_size, dim) %>% \n",
    "                 summarise(TPR_mean = mean(TPR), \n",
    "                          TPR_median = median(TPR), \n",
    "                          FPRn_median = median(FPRn), \n",
    "                          TPR_q1 = quantile(TPR, probs = c(0.05)), \n",
    "                          TPR_q3 = quantile(TPR, probs = c(0.95)),\n",
    "                          N = n()) %>% ungroup()"
   ]
  },
  {
   "cell_type": "code",
   "execution_count": null,
   "metadata": {},
   "outputs": [],
   "source": [
    "sum_roc_mmhc"
   ]
  },
  {
   "cell_type": "code",
   "execution_count": null,
   "metadata": {},
   "outputs": [],
   "source": [
    "filenames <- list.files(pattern = \"^(res_itsearch)\", path = directory)\n",
    "ROCdf_itsearch <- data.frame()\n",
    "for (filename in filenames) {\n",
    "  tmpdf <- read.csv(file.path(directory, filename))\n",
    "  ROCdf_itsearch <- dplyr::bind_rows(ROCdf_itsearch, tmpdf)\n",
    "}"
   ]
  },
  {
   "cell_type": "code",
   "execution_count": null,
   "metadata": {},
   "outputs": [],
   "source": [
    "ROCdf_itsearch"
   ]
  },
  {
   "cell_type": "code",
   "execution_count": null,
   "metadata": {},
   "outputs": [],
   "source": [
    "sum_roc_itsearch <- ROCdf_itsearch %>% \n",
    "                 group_by(algorithm, sample_size, dim) %>% \n",
    "                 summarise(TPR_mean = mean(TPR), \n",
    "                          TPR_median = median(TPR), \n",
    "                          FPRn_median = median(FPRn), \n",
    "                          TPR_q1 = quantile(TPR, probs = c(0.05)), \n",
    "                          TPR_q3 = quantile(TPR, probs = c(0.95)),\n",
    "                          logscore_mean =  mean(logscore),\n",
    "                          N = n())"
   ]
  },
  {
   "cell_type": "code",
   "execution_count": null,
   "metadata": {},
   "outputs": [],
   "source": [
    "sum_roc_itsearch"
   ]
  },
  {
   "cell_type": "code",
   "execution_count": null,
   "metadata": {},
   "outputs": [],
   "source": [
    "filenames <- list.files(pattern = \"^(res_blip)\", path = directory)\n",
    "ROCdf_blip <- data.frame()\n",
    "for (filename in filenames) {\n",
    "  tmpdf <- read.csv(file.path(directory, filename))\n",
    "  ROCdf_blip <- dplyr::bind_rows(ROCdf_blip, tmpdf)\n",
    "}"
   ]
  },
  {
   "cell_type": "code",
   "execution_count": null,
   "metadata": {},
   "outputs": [],
   "source": [
    "ROCdf_blip"
   ]
  },
  {
   "cell_type": "code",
   "execution_count": null,
   "metadata": {},
   "outputs": [],
   "source": [
    "sum_roc_blip <- ROCdf_blip %>% \n",
    "                 group_by(algorithm, sample_size, dim) %>% \n",
    "                 summarise(TPR_mean = mean(TPR), \n",
    "                          TPR_median = median(TPR), \n",
    "                          FPRn_median = median(FPRn), \n",
    "                          TPR_q1 = quantile(TPR, probs = c(0.05)),\n",
    "                          TPR_q3 = quantile(TPR, probs = c(0.95)),\n",
    "                          N = n())"
   ]
  },
  {
   "cell_type": "code",
   "execution_count": null,
   "metadata": {},
   "outputs": [],
   "source": [
    "sum_roc_blip"
   ]
  },
  {
   "cell_type": "markdown",
   "metadata": {},
   "source": [
    "## Plot ROC curves"
   ]
  },
  {
   "cell_type": "code",
   "execution_count": null,
   "metadata": {},
   "outputs": [],
   "source": [
    "setEPS()\n",
    "postscript(file.path(directory, \"ROC.eps\"))\n",
    "\n",
    "ggplot() +\n",
    "# PC algorithm\n",
    "geom_errorbar(data = sum_roc_pcalg,\n",
    "              aes(x = FPRn_median,\n",
    "                  ymin = TPR_q1, \n",
    "                  ymax = TPR_q3, \n",
    "                  col = algorithm), \n",
    "              width = 0.01) +\n",
    "geom_path(data = sum_roc_pcalg,\n",
    "          aes(x = FPRn_median, \n",
    "              y = TPR_median,\n",
    "              col = algorithm)) +\n",
    "geom_point(data = sum_roc_pcalg,\n",
    "           aes(x = FPRn_median, \n",
    "               y = TPR_median,               \n",
    "               col = algorithm, \n",
    "               shape = algorithm), \n",
    "               size = 1) + \n",
    "geom_text(data = sum_roc_pcalg,\n",
    "           aes(x = FPRn_median, \n",
    "               y = TPR_q3,               \n",
    "               label=alpha, col=algorithm),\n",
    "         check_overlap = TRUE,\n",
    "          nudge_x=-0.02,\n",
    "         nudge_y=0.02\n",
    "         ) +\n",
    "\n",
    "# Max-min hill- climbing \n",
    "geom_errorbar(data = sum_roc_mmhc,\n",
    "              aes(x = FPRn_median,\n",
    "                  ymin = TPR_q1, \n",
    "                  ymax = TPR_q3, \n",
    "                  col = algorithm), \n",
    "              width = 0.01) +\n",
    "geom_path(data = sum_roc_mmhc,\n",
    "          aes(x = FPRn_median, \n",
    "              y = TPR_median,\n",
    "              col = algorithm)) +\n",
    "geom_point(data = sum_roc_mmhc,\n",
    "           aes(x = FPRn_median, \n",
    "               y = TPR_median,               \n",
    "               col = algorithm, \n",
    "               shape = algorithm), \n",
    "               size = 1) + \n",
    "geom_text(data = sum_roc_mmhc,\n",
    "           aes(x = FPRn_median, \n",
    "               y = TPR_q3,               \n",
    "               label=alpha, col=algorithm),\n",
    "         check_overlap = TRUE,\n",
    "          nudge_x=-0.02,\n",
    "         nudge_y=0.02\n",
    "         ) +\n",
    "\n",
    "# Order mcmc\n",
    "geom_errorbar(data = sumROC_order_mcmc,\n",
    "              aes(x = FPRn_median,\n",
    "                  ymin = TPR_q1, \n",
    "                  ymax = TPR_q3, \n",
    "                  col = algorithm), \n",
    "              width = 0.01) +\n",
    "geom_path(data = sumROC_order_mcmc,\n",
    "          aes(x = FPRn_median, \n",
    "              y = TPR_median,\n",
    "              col = algorithm)) +\n",
    "geom_point(data = sumROC_order_mcmc,\n",
    "           aes(x = FPRn_median, \n",
    "               y = TPR_median,               \n",
    "               col = algorithm, \n",
    "               shape = algorithm), \n",
    "               size = 2) +\n",
    "geom_text(data = sumROC_order_mcmc,\n",
    "           aes(x = FPRn_median, \n",
    "               y = TPR_q3,               \n",
    "               col = algorithm, label=threshold),\n",
    "           check_overlap = TRUE,\n",
    "          nudge_x=-0.02,\n",
    "         nudge_y=0.02) +\n",
    "\n",
    "# Iterative search\n",
    "geom_errorbar(data = sum_roc_itsearch,\n",
    "              aes(x = FPRn_median,\n",
    "                  ymin = TPR_q1, \n",
    "                  ymax = TPR_q3, \n",
    "                  col = algorithm), \n",
    "              width = 0.01) +\n",
    "geom_path(data = sum_roc_itsearch,\n",
    "          aes(x = FPRn_median, \n",
    "              y = TPR_median,\n",
    "              col = algorithm)) +\n",
    "geom_point(data = sum_roc_itsearch,\n",
    "           aes(x = FPRn_median, \n",
    "               y = TPR_median,               \n",
    "               col = algorithm, \n",
    "               shape = algorithm), \n",
    "               size = 1) +\n",
    "# Blip\n",
    "geom_errorbar(data = sum_roc_blip,\n",
    "              aes(x = FPRn_median,\n",
    "                  ymin = TPR_q1, \n",
    "                  ymax = TPR_q3, \n",
    "                  col = algorithm), \n",
    "              width = 0.01) +\n",
    "geom_path(data = sum_roc_blip,\n",
    "          aes(x = FPRn_median, \n",
    "              y = TPR_median,\n",
    "              col = algorithm)) +\n",
    "geom_point(data = sum_roc_blip,\n",
    "           aes(x = FPRn_median, \n",
    "               y = TPR_median,               \n",
    "               col = algorithm, \n",
    "               shape = algorithm), \n",
    "               size = 1) +\n",
    "## Subplot\n",
    "facet_wrap(~ dim + sample_size, scales=\"free\") +\n",
    "# Titles and stuff\n",
    "xlab(\"FPRn\") +\n",
    "ylab(\"TPR\") +\n",
    "ggtitle(\"ROC\") +\n",
    "theme(plot.title = element_text(hjust = 0.5))\n",
    "dev.off()\n"
   ]
  },
  {
   "cell_type": "markdown",
   "metadata": {},
   "source": [
    "## Logscores"
   ]
  },
  {
   "cell_type": "code",
   "execution_count": null,
   "metadata": {},
   "outputs": [],
   "source": [
    "# Order mcmc\n",
    "ggplot() + \n",
    "geom_path(data = sumROC_order_mcmc,\n",
    "          aes(x = FPRn_median, \n",
    "              y = logscore_mean,\n",
    "              col = algorithm)) +\n",
    "geom_point(data = sumROC_order_mcmc,\n",
    "           aes(x = FPRn_median, \n",
    "               y = logscore_mean,               \n",
    "               col = algorithm, \n",
    "               shape = algorithm), \n",
    "               size = 2) +\n",
    "geom_text(data = sumROC_order_mcmc,\n",
    "           aes(x = FPRn_median, \n",
    "               y = logscore_mean,               \n",
    "               col = algorithm, label=threshold))"
   ]
  },
  {
   "cell_type": "code",
   "execution_count": null,
   "metadata": {},
   "outputs": [],
   "source": [
    "# Order mcmc\n",
    "ggplot() + \n",
    "geom_path(data = sumROC_order_mcmc,\n",
    "          aes(x = threshold, \n",
    "              y = logscore_mean,\n",
    "              col = algorithm)) +\n",
    "geom_point(data = sumROC_order_mcmc,\n",
    "           aes(x = threshold, \n",
    "               y = logscore_mean,               \n",
    "               col = algorithm, \n",
    "               shape = algorithm), \n",
    "               size = 2) +\n",
    "geom_text(data = sumROC_order_mcmc,\n",
    "           aes(x = threshold, \n",
    "               y = logscore_mean,               \n",
    "               col = algorithm, \n",
    "               label=threshold))"
   ]
  }
 ],
 "metadata": {
  "kernelspec": {
   "display_name": "R",
   "language": "R",
   "name": "ir"
  },
  "language_info": {
   "codemirror_mode": "r",
   "file_extension": ".r",
   "mimetype": "text/x-r-source",
   "name": "R",
   "pygments_lexer": "r",
   "version": "3.6.2"
  }
 },
 "nbformat": 4,
 "nbformat_minor": 4
}
