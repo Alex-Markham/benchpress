{
 "cells": [
  {
   "cell_type": "code",
   "execution_count": null,
   "metadata": {},
   "outputs": [],
   "source": [
    "library(RBGL)\n",
    "library(ggplot2)\n",
    "library(dplyr, warn.conflicts = FALSE)\n",
    "#library(tibble)\n",
    "library(\"rjson\")\n",
    "\n",
    "source(\"lib/code_for_binary_simulations/blip_vs_bidag_plot.R\")\n",
    "source(\"lib/code_for_binary_simulations/summarySE.R\")"
   ]
  },
  {
   "cell_type": "code",
   "execution_count": null,
   "metadata": {},
   "outputs": [],
   "source": []
  },
  {
   "cell_type": "code",
   "execution_count": null,
   "metadata": {},
   "outputs": [],
   "source": [
    "config <- fromJSON(file = \"config.json\")"
   ]
  },
  {
   "cell_type": "code",
   "execution_count": null,
   "metadata": {},
   "outputs": [],
   "source": [
    "directory <- config$output_dir\n",
    "dims <- config$dims\n",
    "sample_sizes <- config$sample_sizes[[1]]\n",
    "replicates <- config$replicates$start:config$replicates$end\n",
    "avparents <-config$av_parents"
   ]
  },
  {
   "cell_type": "code",
   "execution_count": null,
   "metadata": {},
   "outputs": [],
   "source": [
    "sample_sizes"
   ]
  },
  {
   "cell_type": "code",
   "execution_count": null,
   "metadata": {},
   "outputs": [],
   "source": [
    "config"
   ]
  },
  {
   "cell_type": "markdown",
   "metadata": {},
   "source": [
    "### Order MCMC"
   ]
  },
  {
   "cell_type": "code",
   "execution_count": null,
   "metadata": {},
   "outputs": [],
   "source": [
    "filenames <- list.files(pattern = \"^(res_orderMCMC)\", path = directory)\n",
    "ROCdf_order_mcmc <- data.frame()\n",
    "tmpdf <- 1\n",
    "for (filename in filenames) {\n",
    "    tmpdf <- read.csv(file.path(directory, filename))\n",
    "    ROCdf_order_mcmc <- dplyr::bind_rows(ROCdf_order_mcmc, tmpdf)\n",
    "}"
   ]
  },
  {
   "cell_type": "code",
   "execution_count": null,
   "metadata": {},
   "outputs": [],
   "source": []
  },
  {
   "cell_type": "code",
   "execution_count": null,
   "metadata": {},
   "outputs": [],
   "source": [
    "ROCdf_order_mcmc$algorithm <- apply(ROCdf_order_mcmc[\"itsearch_MAP\"], 1, \n",
    " function(a){\n",
    "    if(a==TRUE){ \n",
    "        return(\"order_mcmc_itsearch_map\")\n",
    "     }else {\n",
    "        return(\"order_mcmc_itsearch_sample\")\n",
    "      }\n",
    "  })                                          "
   ]
  },
  {
   "cell_type": "code",
   "execution_count": null,
   "metadata": {},
   "outputs": [],
   "source": [
    "ROCdf_order_mcmc"
   ]
  },
  {
   "cell_type": "code",
   "execution_count": null,
   "metadata": {},
   "outputs": [],
   "source": [
    "sumROC_order_mcmc = ROCdf_order_mcmc %>%\n",
    "                    filter(dim %in% dims) %>%\n",
    "                    filter(sample_size %in% sample_sizes) %>%                    \n",
    "                    filter(avparents %in% avparents) %>%       \n",
    "                    filter(replicate %in% replicates) %>%\n",
    "                    group_by(algorithm, threshold, sample_size, dim, avparents) %>% \n",
    "                    summarise( SHD_mean = mean(SHD),\n",
    "                                TPR_mean = mean(TPR), \n",
    "                              TPR_median = median(TPR), \n",
    "                              FPRn_median = median(FPRn), \n",
    "                              TPR_q1 = quantile(TPR, probs = c(0.05)), \n",
    "                              TPR_q3 = quantile(TPR, probs = c(0.95)),\n",
    "                              time_mean = mean(time),\n",
    "                              logscore_mean = mean(logscore),\n",
    "                              N = n())#%>%\n",
    "                    #filter(N %in% replicates)"
   ]
  },
  {
   "cell_type": "code",
   "execution_count": null,
   "metadata": {},
   "outputs": [],
   "source": [
    "sumROC_order_mcmc"
   ]
  },
  {
   "cell_type": "markdown",
   "metadata": {},
   "source": [
    "### PC algorithm"
   ]
  },
  {
   "cell_type": "code",
   "execution_count": null,
   "metadata": {},
   "outputs": [],
   "source": [
    "filenames <- list.files(pattern = \"^(res_pcalg)\", path = directory)\n",
    "roc_pcalg <- data.frame()\n",
    "for (filename in filenames) {\n",
    "  tmpdf <- read.csv(file.path(directory, filename))\n",
    "  roc_pcalg <- dplyr::bind_rows(roc_pcalg, tmpdf)\n",
    "}"
   ]
  },
  {
   "cell_type": "code",
   "execution_count": null,
   "metadata": {},
   "outputs": [],
   "source": [
    "sum_roc_pcalg <- roc_pcalg %>% \n",
    "                 filter(dim %in% dims) %>%\n",
    "                 filter(sample_size %in% sample_sizes) %>%         \n",
    "                 filter(avparents %in% avparents) %>%\n",
    "                filter(replicate %in% replicates) %>%\n",
    "                 group_by(algorithm, alpha, sample_size, dim, avparents) %>% \n",
    "                 summarise(\n",
    "                          SHD_mean = mean(SHD),\n",
    "                          TPR_mean = mean(TPR), \n",
    "                          TPR_median = median(TPR), \n",
    "                          FPRn_median = median(FPRn), \n",
    "                          TPR_q1 = quantile(TPR, probs = c(0.05)), \n",
    "                          TPR_q3 = quantile(TPR, probs = c(0.95)),\n",
    "                          time_mean = mean(time),\n",
    "                          N = n())# %>% ungroup() %>%\n",
    "#                 filter(N %in% replicates)"
   ]
  },
  {
   "cell_type": "code",
   "execution_count": null,
   "metadata": {},
   "outputs": [],
   "source": [
    "is(sample_sizes)"
   ]
  },
  {
   "cell_type": "code",
   "execution_count": null,
   "metadata": {},
   "outputs": [],
   "source": [
    "sum_roc_pcalg"
   ]
  },
  {
   "cell_type": "markdown",
   "metadata": {},
   "source": [
    "### Max-Min hill climbing"
   ]
  },
  {
   "cell_type": "code",
   "execution_count": null,
   "metadata": {},
   "outputs": [],
   "source": [
    "filenames <- list.files(pattern = \"^(res_mmhc)\", path = directory)\n",
    "roc_mmhc <- data.frame()\n",
    "for (filename in filenames) {\n",
    "  tmpdf <- read.csv(file.path(directory, filename))\n",
    "  roc_mmhc <- dplyr::bind_rows(roc_mmhc, tmpdf)\n",
    "}"
   ]
  },
  {
   "cell_type": "code",
   "execution_count": null,
   "metadata": {},
   "outputs": [],
   "source": [
    "sum_roc_mmhc <- roc_mmhc %>% \n",
    "                filter(dim %in% dims) %>%\n",
    "                filter(sample_size %in% sample_sizes) %>%\n",
    "                    filter(avparents %in% avparents) %>% \n",
    "                filter(replicate %in% replicates) %>%\n",
    "                 group_by(algorithm, alpha, sample_size, dim) %>% \n",
    "                 summarise( SHD_mean = mean(SHD),\n",
    "                           TPR_mean = mean(TPR), \n",
    "                          TPR_median = median(TPR), \n",
    "                          FPRn_median = median(FPRn), \n",
    "                          TPR_q1 = quantile(TPR, probs = c(0.05)), \n",
    "                          TPR_q3 = quantile(TPR, probs = c(0.95)),\n",
    "                           time_mean = mean(time),\n",
    "                          N = n()) #%>% ungroup() %>%\n",
    "                    #filter(N %in% replicates)"
   ]
  },
  {
   "cell_type": "code",
   "execution_count": null,
   "metadata": {},
   "outputs": [],
   "source": [
    "sum_roc_mmhc"
   ]
  },
  {
   "cell_type": "markdown",
   "metadata": {},
   "source": [
    "### Iterative MCMC"
   ]
  },
  {
   "cell_type": "code",
   "execution_count": null,
   "metadata": {},
   "outputs": [],
   "source": [
    "filenames <- list.files(pattern = \"^(res_itsearch)\", path = directory)\n",
    "ROCdf_itsearch <- data.frame()\n",
    "for (filename in filenames) {\n",
    "  tmpdf <- read.csv(file.path(directory, filename))\n",
    "  # Convert \"None\" string to NA\n",
    "    tmpdf[\"plus1it\"] <- na_if(tmpdf[\"plus1it\"], \"None\")\n",
    "   tmpdf[\"posterior\"] <- na_if(tmpdf[\"posterior\"], \"None\")\n",
    "    ROCdf_itsearch <- dplyr::bind_rows(ROCdf_itsearch, tmpdf)\n",
    "  \n",
    "}"
   ]
  },
  {
   "cell_type": "code",
   "execution_count": null,
   "metadata": {},
   "outputs": [],
   "source": [
    "ROCdf_itsearch$algorithm <- apply(ROCdf_itsearch[\"MAP\"], 1, \n",
    " function(a){\n",
    "    if(a==TRUE){ \n",
    "        return(\"itsearch_map\")\n",
    "     }else {\n",
    "        return(\"itsearch_sample\")\n",
    "      }\n",
    "  })                                          "
   ]
  },
  {
   "cell_type": "code",
   "execution_count": null,
   "metadata": {},
   "outputs": [],
   "source": [
    "ROCdf_itsearch"
   ]
  },
  {
   "cell_type": "code",
   "execution_count": null,
   "metadata": {
    "jupyter": {
     "source_hidden": true
    }
   },
   "outputs": [],
   "source": [
    "sum_roc_itsearch <- ROCdf_itsearch %>% \n",
    "                filter(dim %in% dims) %>%\n",
    "                filter(sample_size %in% sample_sizes) %>%\n",
    "                filter(avparents %in% avparents) %>%\n",
    "                filter(replicate %in% replicates) %>%\n",
    "                 group_by(algorithm, sample_size, dim, avparents) %>% \n",
    "                 summarise( SHD_mean = mean(SHD),\n",
    "                           TPR_mean = mean(TPR), \n",
    "                          TPR_median = median(TPR), \n",
    "                          FPRn_median = median(FPRn), \n",
    "                          TPR_q1 = quantile(TPR, probs = c(0.05)), \n",
    "                          TPR_q3 = quantile(TPR, probs = c(0.95)),\n",
    "                          logscore_mean =  mean(logscore),\n",
    "                           time_mean = mean(time),\n",
    "                           it_mean = mean(it),\n",
    "                          N = n())#%>%\n",
    "                    #filter(N %in% replicates)"
   ]
  },
  {
   "cell_type": "code",
   "execution_count": null,
   "metadata": {},
   "outputs": [],
   "source": [
    "sum_roc_itsearch"
   ]
  },
  {
   "cell_type": "markdown",
   "metadata": {},
   "source": [
    "### Blip"
   ]
  },
  {
   "cell_type": "code",
   "execution_count": null,
   "metadata": {},
   "outputs": [],
   "source": [
    "filenames <- list.files(pattern = \"^(res_blip)\", path = directory)\n",
    "ROCdf_blip <- data.frame()\n",
    "for (filename in filenames) {\n",
    "  tmpdf <- read.csv(file.path(directory, filename))\n",
    "  ROCdf_blip <- dplyr::bind_rows(ROCdf_blip, tmpdf)\n",
    "}"
   ]
  },
  {
   "cell_type": "code",
   "execution_count": null,
   "metadata": {},
   "outputs": [],
   "source": [
    "ROCdf_blip"
   ]
  },
  {
   "cell_type": "code",
   "execution_count": null,
   "metadata": {},
   "outputs": [],
   "source": [
    "sum_roc_blip <- ROCdf_blip %>% \n",
    "                filter(dim %in% dims) %>%\n",
    "                filter(sample_size %in% sample_sizes) %>%\n",
    "                filter(avparents %in% avparents) %>%      \n",
    "                filter(replicate %in% replicates) %>%\n",
    "                filter(indeg %in% config$blip$indeg) %>%\n",
    "                 group_by(algorithm, sample_size, dim,max_time, avparents) %>% \n",
    "                 summarise( SHD_mean = mean(SHD),\n",
    "                           TPR_mean = mean(TPR),\n",
    "                          time_mean=mean(time),\n",
    "                          TPR_median = median(TPR), \n",
    "                          FPRn_median = median(FPRn), \n",
    "                          TPR_q1 = quantile(TPR, probs = c(0.05)),\n",
    "                          TPR_q3 = quantile(TPR, probs = c(0.95)),\n",
    "                           logscore_mean = mean(logscore),\n",
    "                          N = n())#%>%\n",
    "                    #filter(N %in% replicates)"
   ]
  },
  {
   "cell_type": "code",
   "execution_count": null,
   "metadata": {},
   "outputs": [],
   "source": [
    "sum_roc_blip"
   ]
  },
  {
   "cell_type": "markdown",
   "metadata": {},
   "source": [
    "### GoBNiLP"
   ]
  },
  {
   "cell_type": "code",
   "execution_count": null,
   "metadata": {},
   "outputs": [],
   "source": [
    "filenames <- list.files(pattern = \"^(res_gobnilp)\", path = directory)\n",
    "ROCdf_gobnilp <- data.frame()\n",
    "for (filename in filenames) {\n",
    "  tmpdf <- read.csv(file.path(directory, filename))\n",
    "  ROCdf_gobnilp <- dplyr::bind_rows(ROCdf_gobnilp, tmpdf)\n",
    "}"
   ]
  },
  {
   "cell_type": "code",
   "execution_count": null,
   "metadata": {},
   "outputs": [],
   "source": [
    "ROCdf_gobnilp"
   ]
  },
  {
   "cell_type": "code",
   "execution_count": null,
   "metadata": {},
   "outputs": [],
   "source": [
    "#sum_roc_gobnilp <- ROCdf_gobnilp %>% \n",
    "#                filter(dim %in% dims) %>%\n",
    "3                    filter(sample_size %in% sample_sizes) %>%\n",
    "#                    filter(avparents %in% avparents) %>%          \n",
    "#                filter(replicate %in% replicates) %>%\n",
    "#                   group_by(algorithm, sample_size, dim, avparents, palim) %>% \n",
    "#                 summarise( SHD_mean = mean(SHD),\n",
    "#                     TPR_mean = mean(TPR), \n",
    "#                          TPR_median = median(TPR), \n",
    "#                          FPRn_median = median(FPRn), \n",
    "#                          TPR_q1 = quantile(TPR, probs = c(0.05)),\n",
    "#                          TPR_q3 = quantile(TPR, probs = c(0.95)),\n",
    "#                           time_mean = mean(time),\n",
    "#                          N = n())%>%\n",
    "#                    filter(N %in% length(replicates))"
   ]
  },
  {
   "cell_type": "code",
   "execution_count": null,
   "metadata": {},
   "outputs": [],
   "source": [
    "sum_roc_gobnilp"
   ]
  },
  {
   "cell_type": "markdown",
   "metadata": {},
   "source": [
    "## Plot ROC curves"
   ]
  },
  {
   "cell_type": "code",
   "execution_count": null,
   "metadata": {},
   "outputs": [],
   "source": [
    "ggplot() +\n",
    "# PC algorithm\n",
    "geom_errorbar(data = sum_roc_pcalg,\n",
    "              aes(x = FPRn_median,\n",
    "                  ymin = TPR_q1, \n",
    "                  ymax = TPR_q3, \n",
    "                  col = algorithm), \n",
    "              width = 0.01) +\n",
    "geom_path(data = sum_roc_pcalg,\n",
    "          aes(x = FPRn_median, \n",
    "              y = TPR_median,\n",
    "              col = algorithm)) +\n",
    "geom_point(data = sum_roc_pcalg,\n",
    "           aes(x = FPRn_median, \n",
    "               y = TPR_median,               \n",
    "               col = algorithm, \n",
    "               shape = algorithm), \n",
    "               size = 1) + \n",
    "# geom_text(data = sum_roc_pcalg,\n",
    "#            aes(x = FPRn_median, \n",
    "#                y = TPR_q3,               \n",
    "#                label=alpha, col=algorithm),\n",
    "#          check_overlap = TRUE,\n",
    "#           nudge_x=-0.02,\n",
    "#          nudge_y=0.02\n",
    "#          ) +\n",
    "\n",
    "# Max-min hill- climbing \n",
    "geom_errorbar(data = sum_roc_mmhc,\n",
    "              aes(x = FPRn_median,\n",
    "                  ymin = TPR_q1, \n",
    "                  ymax = TPR_q3, \n",
    "                  col = algorithm), \n",
    "              width = 0.01) +\n",
    "geom_path(data = sum_roc_mmhc,\n",
    "          aes(x = FPRn_median, \n",
    "              y = TPR_median,\n",
    "              col = algorithm)) +\n",
    "geom_point(data = sum_roc_mmhc,\n",
    "           aes(x = FPRn_median, \n",
    "               y = TPR_median,               \n",
    "               col = algorithm, \n",
    "               shape = algorithm), \n",
    "               size = 1) + \n",
    "# geom_text(data = sum_roc_mmhc,\n",
    "#            aes(x = FPRn_median, \n",
    "#                y = TPR_q3,               \n",
    "#                label=alpha, col=algorithm),\n",
    "#          check_overlap = TRUE,\n",
    "#           nudge_x=-0.02,\n",
    "#          nudge_y=0.02\n",
    "#          ) +\n",
    "\n",
    "# Order mcmc\n",
    "geom_errorbar(data = sumROC_order_mcmc,\n",
    "              aes(x = FPRn_median,\n",
    "                  ymin = TPR_q1, \n",
    "                  ymax = TPR_q3, \n",
    "                  col = algorithm), \n",
    "              width = 0.01) +\n",
    "geom_path(data = sumROC_order_mcmc,\n",
    "          aes(x = FPRn_median, \n",
    "              y = TPR_median,\n",
    "              col = algorithm)) +\n",
    "geom_point(data = sumROC_order_mcmc,\n",
    "           aes(x = FPRn_median, \n",
    "               y = TPR_median,               \n",
    "               col = algorithm, \n",
    "               shape = algorithm), \n",
    "               size = 2) +\n",
    "# geom_text(data = sumROC_order_mcmc,\n",
    "#            aes(x = FPRn_median, \n",
    "#                y = TPR_q3,               \n",
    "#                col = algorithm, label=threshold),\n",
    "#            check_overlap = TRUE,\n",
    "#           nudge_x=-0.02,\n",
    "#          nudge_y=0.02) +\n",
    "\n",
    "# Iterative search\n",
    "geom_errorbar(data = sum_roc_itsearch,\n",
    "              aes(x = FPRn_median,\n",
    "                  ymin = TPR_q1, \n",
    "                  ymax = TPR_q3, \n",
    "                  col = algorithm), \n",
    "              width = 0.01) +\n",
    "geom_path(data = sum_roc_itsearch,\n",
    "          aes(x = FPRn_median, \n",
    "              y = TPR_median,\n",
    "              col = algorithm)) +\n",
    "geom_point(data = sum_roc_itsearch,\n",
    "           aes(x = FPRn_median, \n",
    "               y = TPR_median,               \n",
    "               col = algorithm, \n",
    "               shape = algorithm), \n",
    "               size = 1) +\n",
    "# Blip\n",
    "geom_errorbar(data = sum_roc_blip,\n",
    "              aes(x = FPRn_median,\n",
    "                  ymin = TPR_q1, \n",
    "                  ymax = TPR_q3, \n",
    "                  col = algorithm), \n",
    "              width = 0.01) +\n",
    "geom_path(data = sum_roc_blip,\n",
    "          aes(x = FPRn_median, \n",
    "              y = TPR_median,\n",
    "              col = algorithm)) +\n",
    "geom_point(data = sum_roc_blip,\n",
    "           aes(x = FPRn_median, \n",
    "               y = TPR_median,               \n",
    "               col = algorithm, \n",
    "               shape = algorithm), \n",
    "               size = 1) +\n",
    "# Gobnilp\n",
    "#geom_errorbar(data = sum_roc_gobnilp,\n",
    "#               aes(x = FPRn_median,\n",
    "#                   ymin = TPR_q1, \n",
    "#                   ymax = TPR_q3, \n",
    "#                   col = algorithm), \n",
    "#               width = 0.01) +\n",
    "# geom_path(data = sum_roc_gobnilp,\n",
    "#           aes(x = FPRn_median, \n",
    "#               y = TPR_median,\n",
    "#               col = algorithm)) +\n",
    "# geom_point(data = sum_roc_gobnilp,\n",
    "#            aes(x = FPRn_median, \n",
    "#                y = TPR_median,               \n",
    "#                col = algorithm, \n",
    "#                shape = algorithm), \n",
    "#                size = 1) +\n",
    "## Subplot\n",
    "facet_wrap(dim ~ sample_size + N + avparents, scales=\"free_x\") +\n",
    "# Titles etc\n",
    "xlab(\"FPRn\") +\n",
    "ylab(\"TPR\") +\n",
    "ggtitle(\"ROC\") +\n",
    "theme(plot.title = element_text(hjust = 0.5))\n",
    "ggsave(file=file.path(\"ROC.eps\"))"
   ]
  },
  {
   "cell_type": "code",
   "execution_count": null,
   "metadata": {},
   "outputs": [],
   "source": [
    "ggplot() +\n",
    "# PC algorithm\n",
    "\n",
    "\n",
    "geom_errorbar(data = sum_roc_blip,\n",
    "              aes(x = FPRn_median,\n",
    "                  ymin = TPR_q1, \n",
    "                  ymax = TPR_q3, \n",
    "                  col = algorithm), \n",
    "              width = 0.01) +\n",
    "geom_path(data = sum_roc_blip,\n",
    "          aes(x = FPRn_median, \n",
    "              y = TPR_median,\n",
    "              col = algorithm)) +\n",
    "geom_point(data = sum_roc_blip,\n",
    "           aes(x = FPRn_median, \n",
    "               y = TPR_median,               \n",
    "               col = algorithm, \n",
    "               shape = algorithm), \n",
    "               size = 1) +\n",
    "# Gobnilp\n",
    "geom_errorbar(data = sum_roc_gobnilp,\n",
    "               aes(x = FPRn_median,\n",
    "                   ymin = TPR_q1, \n",
    "                   ymax = TPR_q3, \n",
    "                   col = algorithm), \n",
    "               width = 0.01) +\n",
    " geom_path(data = sum_roc_gobnilp,\n",
    "           aes(x = FPRn_median, \n",
    "               y = TPR_median,\n",
    "               col = algorithm)) +\n",
    " geom_point(data = sum_roc_gobnilp,\n",
    "            aes(x = FPRn_median, \n",
    "                y = TPR_median,               \n",
    "                col = algorithm, \n",
    "                shape = algorithm), \n",
    "                size = 1) +\n",
    "## Subplot\n",
    "facet_wrap(dim ~ sample_size + N + avparents, scales=\"free_x\") +\n",
    "# Titles etc\n",
    "xlab(\"FPRn\") +\n",
    "ylab(\"TPR\") +\n",
    "ggtitle(\"ROC\") +\n",
    "theme(plot.title = element_text(hjust = 0.5))\n",
    "ggsave(file=file.path(\"ROC.eps\"))"
   ]
  },
  {
   "cell_type": "code",
   "execution_count": null,
   "metadata": {},
   "outputs": [],
   "source": [
    "ggplot() + \n",
    "geom_point(data = sumROC_order_mcmc,\n",
    "          aes(x = algorithm,\n",
    "              y = SHD_mean,\n",
    "              col = algorithm)) +\n",
    "geom_text(data = sumROC_order_mcmc,\n",
    "          aes(x = algorithm, \n",
    "               y = SHD_mean,               \n",
    "                col = algorithm, label=threshold),\n",
    "            check_overlap = TRUE,\n",
    "           nudge_x=0.2,\n",
    "          nudge_y=0.9) +\n",
    "\n",
    "geom_point(data = sum_roc_pcalg,\n",
    "          aes(x = algorithm,\n",
    "              y = SHD_mean,\n",
    "              col = algorithm)) +\n",
    "geom_text(data = sum_roc_pcalg,\n",
    "          aes(x = algorithm, \n",
    "               y = SHD_mean,               \n",
    "                col = algorithm, label=alpha),\n",
    "            check_overlap = TRUE,\n",
    "           nudge_x=0.2,\n",
    "          nudge_y=0.9) +\n",
    "\n",
    "geom_point(data = sum_roc_mmhc,\n",
    "          aes(x = algorithm,\n",
    "              y = SHD_mean,\n",
    "              col = algorithm)) +\n",
    "geom_text(data = sum_roc_mmhc,\n",
    "          aes(x = algorithm, \n",
    "               y = SHD_mean,               \n",
    "                col = algorithm, label=alpha),\n",
    "            check_overlap = TRUE,\n",
    "           nudge_x=0.2,\n",
    "          nudge_y=0.9) +\n",
    "\n",
    "geom_point(data = sum_roc_blip,\n",
    "          aes(x = algorithm,\n",
    "              y = SHD_mean,\n",
    "              col = algorithm)) +\n",
    "geom_point(data = sum_roc_itsearch,\n",
    "          aes(x = algorithm,\n",
    "              y = SHD_mean,\n",
    "              col = algorithm)) +\n",
    "theme(axis.text.x = element_text(angle = 10), legend.position = \"none\") +\n",
    "facet_wrap(dim ~ sample_size + N , scales=\"free_x\") +\n",
    "ylab(\"Mean SHD\") +\n",
    "xlab(\"Algorithm\") \n",
    "ggsave(file=file.path(\"SHD.eps\"))"
   ]
  },
  {
   "cell_type": "markdown",
   "metadata": {},
   "source": [
    "## Logscores"
   ]
  },
  {
   "cell_type": "code",
   "execution_count": null,
   "metadata": {},
   "outputs": [],
   "source": [
    "ggplot() + \n",
    "geom_point(data = sumROC_order_mcmc,\n",
    "          aes(x = algorithm,\n",
    "              y = logscore_mean,\n",
    "              col = algorithm)) +\n",
    "geom_text(data = sumROC_order_mcmc,\n",
    "          aes(x = algorithm, \n",
    "               y = logscore_mean,               \n",
    "                col = algorithm, label=threshold),\n",
    "            check_overlap = TRUE,\n",
    "           nudge_x=0.2,\n",
    "          nudge_y=0.9) +\n",
    "\n",
    "#geom_point(data = sum_roc_pcalg,\n",
    "#          aes(x = algorithm,\n",
    "#              y = logscore_mean,\n",
    "#              col = algorithm)) +\n",
    "#geom_point(data = sum_roc_mmhc,\n",
    "#          aes(x = algorithm,\n",
    "#              y = logscore_mean,\n",
    "#              col = algorithm)) +\n",
    "geom_point(data = sum_roc_blip,\n",
    "          aes(x = algorithm,\n",
    "              y = logscore_mean,\n",
    "              col = algorithm)) +\n",
    "geom_point(data = sum_roc_itsearch,\n",
    "          aes(x = algorithm,\n",
    "              y = logscore_mean,\n",
    "              col = algorithm)) +\n",
    "theme(axis.text.x = element_text(angle = 90),\n",
    "      legend.position = \"none\") +\n",
    "#facet_wrap(dim ~ sample_size + N , scales=\"free_x\") +\n",
    "ylab(\"Mean log-score\") +\n",
    "xlab(\"Algorithm\") \n",
    "ggsave(file=file.path(\"logscore.eps\"))\n"
   ]
  },
  {
   "cell_type": "markdown",
   "metadata": {},
   "source": [
    "## Times"
   ]
  },
  {
   "cell_type": "code",
   "execution_count": null,
   "metadata": {},
   "outputs": [],
   "source": [
    "ggplot() + \n",
    "geom_point(data = sumROC_order_mcmc,\n",
    "          aes(x = algorithm,\n",
    "              y = time_mean,\n",
    "              col = algorithm)) +\n",
    "geom_point(data = sum_roc_pcalg,\n",
    "          aes(x = algorithm,\n",
    "              y = time_mean,\n",
    "              col = algorithm)) +\n",
    "geom_text(data = sum_roc_pcalg,\n",
    "          aes(x = algorithm, \n",
    "               y = time_mean,               \n",
    "                col = algorithm, label=alpha),\n",
    "            check_overlap = TRUE,\n",
    "           nudge_x=0.2,\n",
    "          nudge_y=0.9) +\n",
    "\n",
    "geom_point(data = sum_roc_mmhc,\n",
    "          aes(x = algorithm,\n",
    "              y = time_mean,\n",
    "              col = algorithm)) +\n",
    "geom_point(data = sum_roc_blip,\n",
    "          aes(x = algorithm,\n",
    "              y = time_mean,\n",
    "              col = algorithm)) +\n",
    "geom_point(data = sum_roc_itsearch,\n",
    "          aes(x = algorithm,\n",
    "              y = time_mean,\n",
    "             col = algorithm)) +\n",
    "theme(axis.text.x = element_text(angle = 10), legend.position = \"none\") +\n",
    "facet_wrap(dim ~ sample_size + N , scales=\"free_x\") +\n",
    "ylab(\"Mean run time (s)\") +\n",
    "xlab(\"Algorithm\") \n",
    "ggsave(file=file.path(\"runtimes.eps\"))"
   ]
  },
  {
   "cell_type": "code",
   "execution_count": null,
   "metadata": {},
   "outputs": [],
   "source": [
    "sum_roc_pcalg"
   ]
  },
  {
   "cell_type": "code",
   "execution_count": null,
   "metadata": {},
   "outputs": [],
   "source": []
  }
 ],
 "metadata": {
  "kernelspec": {
   "display_name": "R",
   "language": "R",
   "name": "ir"
  },
  "language_info": {
   "codemirror_mode": "r",
   "file_extension": ".r",
   "mimetype": "text/x-r-source",
   "name": "R",
   "pygments_lexer": "r",
   "version": "3.6.3"
  }
 },
 "nbformat": 4,
 "nbformat_minor": 4
}
