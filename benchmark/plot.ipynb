{
 "cells": [
  {
   "cell_type": "code",
   "execution_count": 46,
   "metadata": {},
   "outputs": [],
   "source": [
    "library(RBGL)\n",
    "library(ggplot2)\n",
    "library(dplyr, warn.conflicts = FALSE)\n",
    "#library(tibble)\n",
    "library(\"rjson\")\n",
    "\n",
    "source(\"lib/code_for_binary_simulations/blip_vs_bidag_plot.R\")\n",
    "source(\"lib/code_for_binary_simulations/summarySE.R\")"
   ]
  },
  {
   "cell_type": "code",
   "execution_count": 80,
   "metadata": {},
   "outputs": [
    {
     "data": {
      "text/html": [
       "<style>\n",
       ".list-inline {list-style: none; margin:0; padding: 0}\n",
       ".list-inline>li {display: inline-block}\n",
       ".list-inline>li:not(:last-child)::after {content: \"\\00b7\"; padding: 0 .5ex}\n",
       "</style>\n",
       "<ol class=list-inline><li>3</li><li>4</li><li>5</li><li>6</li></ol>\n"
      ],
      "text/latex": [
       "\\begin{enumerate*}\n",
       "\\item 3\n",
       "\\item 4\n",
       "\\item 5\n",
       "\\item 6\n",
       "\\end{enumerate*}\n"
      ],
      "text/markdown": [
       "1. 3\n",
       "2. 4\n",
       "3. 5\n",
       "4. 6\n",
       "\n",
       "\n"
      ],
      "text/plain": [
       "[1] 3 4 5 6"
      ]
     },
     "metadata": {},
     "output_type": "display_data"
    }
   ],
   "source": [
    "3:6"
   ]
  },
  {
   "cell_type": "code",
   "execution_count": 83,
   "metadata": {},
   "outputs": [],
   "source": [
    "config <- fromJSON(file = \"config.json\")"
   ]
  },
  {
   "cell_type": "code",
   "execution_count": 89,
   "metadata": {},
   "outputs": [],
   "source": [
    "directory <- config$output_dir\n",
    "dims <- config$dims\n",
    "sample_sizes <- config$sample_sizes\n",
    "replicates <- config$replicates$start:config$replicates$end\n",
    "avparents <-config$av_parents"
   ]
  },
  {
   "cell_type": "code",
   "execution_count": 88,
   "metadata": {},
   "outputs": [
    {
     "data": {
      "text/html": [
       "<style>\n",
       ".list-inline {list-style: none; margin:0; padding: 0}\n",
       ".list-inline>li {display: inline-block}\n",
       ".list-inline>li:not(:last-child)::after {content: \"\\00b7\"; padding: 0 .5ex}\n",
       "</style>\n",
       "<ol class=list-inline><li>1</li><li>2</li></ol>\n"
      ],
      "text/latex": [
       "\\begin{enumerate*}\n",
       "\\item 1\n",
       "\\item 2\n",
       "\\end{enumerate*}\n"
      ],
      "text/markdown": [
       "1. 1\n",
       "2. 2\n",
       "\n",
       "\n"
      ],
      "text/plain": [
       "[1] 1 2"
      ]
     },
     "metadata": {},
     "output_type": "display_data"
    }
   ],
   "source": [
    "replicates"
   ]
  },
  {
   "cell_type": "markdown",
   "metadata": {},
   "source": [
    "### Order MCMC"
   ]
  },
  {
   "cell_type": "code",
   "execution_count": 13,
   "metadata": {},
   "outputs": [
    {
     "name": "stderr",
     "output_type": "stream",
     "text": [
      "Warning message in bind_rows_(x, .id):\n",
      "“Unequal factor levels: coercing to character”\n",
      "Warning message in bind_rows_(x, .id):\n",
      "“binding character and factor vector, coercing into character vector”\n",
      "Warning message in bind_rows_(x, .id):\n",
      "“binding character and factor vector, coercing into character vector”\n",
      "Warning message in bind_rows_(x, .id):\n",
      "“binding character and factor vector, coercing into character vector”\n",
      "Warning message in bind_rows_(x, .id):\n",
      "“binding character and factor vector, coercing into character vector”\n",
      "Warning message in bind_rows_(x, .id):\n",
      "“binding character and factor vector, coercing into character vector”\n",
      "Warning message in bind_rows_(x, .id):\n",
      "“binding character and factor vector, coercing into character vector”\n",
      "Warning message in bind_rows_(x, .id):\n",
      "“binding character and factor vector, coercing into character vector”\n",
      "Warning message in bind_rows_(x, .id):\n",
      "“binding character and factor vector, coercing into character vector”\n",
      "Warning message in bind_rows_(x, .id):\n",
      "“binding character and factor vector, coercing into character vector”\n",
      "Warning message in bind_rows_(x, .id):\n",
      "“binding character and factor vector, coercing into character vector”\n",
      "Warning message in bind_rows_(x, .id):\n",
      "“binding character and factor vector, coercing into character vector”\n"
     ]
    }
   ],
   "source": [
    "filenames <- list.files(pattern = \"^(res_orderMCMC)\", path = directory)\n",
    "ROCdf_order_mcmc <- data.frame()\n",
    "tmpdf <- 1\n",
    "for (filename in filenames) {\n",
    "    tmpdf <- read.csv(file.path(directory, filename))\n",
    "    ROCdf_order_mcmc <- dplyr::bind_rows(ROCdf_order_mcmc, tmpdf)\n",
    "}"
   ]
  },
  {
   "cell_type": "code",
   "execution_count": 16,
   "metadata": {},
   "outputs": [
    {
     "data": {
      "text/html": [
       "<table>\n",
       "<caption>A data.frame: 200 × 11</caption>\n",
       "<thead>\n",
       "\t<tr><th scope=col>TPR</th><th scope=col>FPRn</th><th scope=col>logscore</th><th scope=col>threshold</th><th scope=col>SHD</th><th scope=col>time</th><th scope=col>avparents</th><th scope=col>replicate</th><th scope=col>algorithm</th><th scope=col>dim</th><th scope=col>sample_size</th></tr>\n",
       "\t<tr><th scope=col>&lt;dbl&gt;</th><th scope=col>&lt;dbl&gt;</th><th scope=col>&lt;dbl&gt;</th><th scope=col>&lt;dbl&gt;</th><th scope=col>&lt;int&gt;</th><th scope=col>&lt;dbl&gt;</th><th scope=col>&lt;int&gt;</th><th scope=col>&lt;int&gt;</th><th scope=col>&lt;chr&gt;</th><th scope=col>&lt;int&gt;</th><th scope=col>&lt;int&gt;</th></tr>\n",
       "</thead>\n",
       "<tbody>\n",
       "\t<tr><td>0.3291139</td><td>0.2658228</td><td>-3494.228</td><td>0.99</td><td> 85</td><td>25.41092</td><td>2</td><td> 1</td><td>orderMCMC_map</td><td>80</td><td>80</td></tr>\n",
       "\t<tr><td>0.4177215</td><td>0.3291139</td><td>-3352.472</td><td>0.95</td><td> 87</td><td>25.41092</td><td>2</td><td> 1</td><td>orderMCMC_map</td><td>80</td><td>80</td></tr>\n",
       "\t<tr><td>0.4936709</td><td>0.4556962</td><td>-3252.458</td><td>0.90</td><td> 93</td><td>25.41092</td><td>2</td><td> 1</td><td>orderMCMC_map</td><td>80</td><td>80</td></tr>\n",
       "\t<tr><td>0.5822785</td><td>0.6708861</td><td>-3160.120</td><td>0.80</td><td>110</td><td>25.41092</td><td>2</td><td> 1</td><td>orderMCMC_map</td><td>80</td><td>80</td></tr>\n",
       "\t<tr><td>0.6202532</td><td>0.8481013</td><td>-3107.847</td><td>0.70</td><td>124</td><td>25.41092</td><td>2</td><td> 1</td><td>orderMCMC_map</td><td>80</td><td>80</td></tr>\n",
       "\t<tr><td>0.6455696</td><td>0.9746835</td><td>-3073.538</td><td>0.60</td><td>134</td><td>25.41092</td><td>2</td><td> 1</td><td>orderMCMC_map</td><td>80</td><td>80</td></tr>\n",
       "\t<tr><td>0.6708861</td><td>1.1139241</td><td>-3041.878</td><td>0.50</td><td>145</td><td>25.41092</td><td>2</td><td> 1</td><td>orderMCMC_map</td><td>80</td><td>80</td></tr>\n",
       "\t<tr><td>0.6962025</td><td>1.2658228</td><td>       NA</td><td>0.40</td><td>156</td><td>25.41092</td><td>2</td><td> 1</td><td>orderMCMC_map</td><td>80</td><td>80</td></tr>\n",
       "\t<tr><td>0.7088608</td><td>1.4050633</td><td>       NA</td><td>0.30</td><td>167</td><td>25.41092</td><td>2</td><td> 1</td><td>orderMCMC_map</td><td>80</td><td>80</td></tr>\n",
       "\t<tr><td>0.7341772</td><td>1.6075949</td><td>       NA</td><td>0.20</td><td>180</td><td>25.41092</td><td>2</td><td> 1</td><td>orderMCMC_map</td><td>80</td><td>80</td></tr>\n",
       "\t<tr><td>0.4216867</td><td>0.1084337</td><td>-3536.789</td><td>0.99</td><td> 66</td><td>24.75775</td><td>2</td><td>10</td><td>orderMCMC_map</td><td>80</td><td>80</td></tr>\n",
       "\t<tr><td>0.5301205</td><td>0.2289157</td><td>-3411.278</td><td>0.95</td><td> 72</td><td>24.75775</td><td>2</td><td>10</td><td>orderMCMC_map</td><td>80</td><td>80</td></tr>\n",
       "\t<tr><td>0.5662651</td><td>0.3855422</td><td>-3359.394</td><td>0.90</td><td> 84</td><td>24.75775</td><td>2</td><td>10</td><td>orderMCMC_map</td><td>80</td><td>80</td></tr>\n",
       "\t<tr><td>0.6385542</td><td>0.5783133</td><td>-3275.954</td><td>0.80</td><td> 99</td><td>24.75775</td><td>2</td><td>10</td><td>orderMCMC_map</td><td>80</td><td>80</td></tr>\n",
       "\t<tr><td>0.6987952</td><td>0.7228916</td><td>-3189.604</td><td>0.70</td><td>110</td><td>24.75775</td><td>2</td><td>10</td><td>orderMCMC_map</td><td>80</td><td>80</td></tr>\n",
       "\t<tr><td>0.7710843</td><td>0.7831325</td><td>-3112.907</td><td>0.60</td><td>112</td><td>24.75775</td><td>2</td><td>10</td><td>orderMCMC_map</td><td>80</td><td>80</td></tr>\n",
       "\t<tr><td>0.8313253</td><td>0.8674699</td><td>-3023.329</td><td>0.50</td><td>116</td><td>24.75775</td><td>2</td><td>10</td><td>orderMCMC_map</td><td>80</td><td>80</td></tr>\n",
       "\t<tr><td>0.8554217</td><td>1.0120482</td><td>       NA</td><td>0.40</td><td>126</td><td>24.75775</td><td>2</td><td>10</td><td>orderMCMC_map</td><td>80</td><td>80</td></tr>\n",
       "\t<tr><td>0.8554217</td><td>1.1445783</td><td>       NA</td><td>0.30</td><td>139</td><td>24.75775</td><td>2</td><td>10</td><td>orderMCMC_map</td><td>80</td><td>80</td></tr>\n",
       "\t<tr><td>0.8674699</td><td>1.3614458</td><td>       NA</td><td>0.20</td><td>155</td><td>24.75775</td><td>2</td><td>10</td><td>orderMCMC_map</td><td>80</td><td>80</td></tr>\n",
       "\t<tr><td>0.2098765</td><td>0.1234568</td><td>-3834.973</td><td>0.99</td><td> 80</td><td>19.62409</td><td>2</td><td> 2</td><td>orderMCMC_map</td><td>80</td><td>80</td></tr>\n",
       "\t<tr><td>0.3580247</td><td>0.2222222</td><td>-3652.687</td><td>0.95</td><td> 81</td><td>19.62409</td><td>2</td><td> 2</td><td>orderMCMC_map</td><td>80</td><td>80</td></tr>\n",
       "\t<tr><td>0.4567901</td><td>0.2962963</td><td>-3530.535</td><td>0.90</td><td> 84</td><td>19.62409</td><td>2</td><td> 2</td><td>orderMCMC_map</td><td>80</td><td>80</td></tr>\n",
       "\t<tr><td>0.5308642</td><td>0.4320988</td><td>-3456.178</td><td>0.80</td><td> 93</td><td>19.62409</td><td>2</td><td> 2</td><td>orderMCMC_map</td><td>80</td><td>80</td></tr>\n",
       "\t<tr><td>0.5925926</td><td>0.5432099</td><td>-3355.194</td><td>0.70</td><td>101</td><td>19.62409</td><td>2</td><td> 2</td><td>orderMCMC_map</td><td>80</td><td>80</td></tr>\n",
       "\t<tr><td>0.6543210</td><td>0.6419753</td><td>-3292.844</td><td>0.60</td><td>109</td><td>19.62409</td><td>2</td><td> 2</td><td>orderMCMC_map</td><td>80</td><td>80</td></tr>\n",
       "\t<tr><td>0.6913580</td><td>0.8148148</td><td>-3235.868</td><td>0.50</td><td>121</td><td>19.62409</td><td>2</td><td> 2</td><td>orderMCMC_map</td><td>80</td><td>80</td></tr>\n",
       "\t<tr><td>0.7037037</td><td>1.0246914</td><td>       NA</td><td>0.40</td><td>139</td><td>19.62409</td><td>2</td><td> 2</td><td>orderMCMC_map</td><td>80</td><td>80</td></tr>\n",
       "\t<tr><td>0.7407407</td><td>1.1234568</td><td>       NA</td><td>0.30</td><td>143</td><td>19.62409</td><td>2</td><td> 2</td><td>orderMCMC_map</td><td>80</td><td>80</td></tr>\n",
       "\t<tr><td>0.7777778</td><td>1.2716049</td><td>       NA</td><td>0.20</td><td>152</td><td>19.62409</td><td>2</td><td> 2</td><td>orderMCMC_map</td><td>80</td><td>80</td></tr>\n",
       "\t<tr><td>⋮</td><td>⋮</td><td>⋮</td><td>⋮</td><td>⋮</td><td>⋮</td><td>⋮</td><td>⋮</td><td>⋮</td><td>⋮</td><td>⋮</td></tr>\n",
       "\t<tr><td>0.1375000</td><td>0.00000000</td><td>-3668.143</td><td>0.99</td><td> 70</td><td>20.01914</td><td>2</td><td>7</td><td>orderMCMC_sample</td><td>80</td><td>80</td></tr>\n",
       "\t<tr><td>0.3000000</td><td>0.00000000</td><td>-3499.973</td><td>0.95</td><td> 61</td><td>20.01914</td><td>2</td><td>7</td><td>orderMCMC_sample</td><td>80</td><td>80</td></tr>\n",
       "\t<tr><td>0.3625000</td><td>0.03750000</td><td>-3425.353</td><td>0.90</td><td> 60</td><td>20.01914</td><td>2</td><td>7</td><td>orderMCMC_sample</td><td>80</td><td>80</td></tr>\n",
       "\t<tr><td>0.4500000</td><td>0.05000000</td><td>-3336.952</td><td>0.80</td><td> 59</td><td>20.01914</td><td>2</td><td>7</td><td>orderMCMC_sample</td><td>80</td><td>80</td></tr>\n",
       "\t<tr><td>0.5875000</td><td>0.10000000</td><td>-3202.156</td><td>0.70</td><td> 59</td><td>20.01914</td><td>2</td><td>7</td><td>orderMCMC_sample</td><td>80</td><td>80</td></tr>\n",
       "\t<tr><td>0.6625000</td><td>0.13750000</td><td>-3121.188</td><td>0.60</td><td> 60</td><td>20.01914</td><td>2</td><td>7</td><td>orderMCMC_sample</td><td>80</td><td>80</td></tr>\n",
       "\t<tr><td>0.7625000</td><td>0.18750000</td><td>-3003.267</td><td>0.50</td><td> 63</td><td>20.01914</td><td>2</td><td>7</td><td>orderMCMC_sample</td><td>80</td><td>80</td></tr>\n",
       "\t<tr><td>0.7750000</td><td>0.23750000</td><td>       NA</td><td>0.40</td><td> 63</td><td>20.01914</td><td>2</td><td>7</td><td>orderMCMC_sample</td><td>80</td><td>80</td></tr>\n",
       "\t<tr><td>0.8000000</td><td>0.30000000</td><td>       NA</td><td>0.30</td><td> 67</td><td>20.01914</td><td>2</td><td>7</td><td>orderMCMC_sample</td><td>80</td><td>80</td></tr>\n",
       "\t<tr><td>0.8250000</td><td>0.56250000</td><td>       NA</td><td>0.20</td><td> 85</td><td>20.01914</td><td>2</td><td>7</td><td>orderMCMC_sample</td><td>80</td><td>80</td></tr>\n",
       "\t<tr><td>0.0750000</td><td>0.06250000</td><td>-3789.252</td><td>0.99</td><td> 81</td><td>20.49166</td><td>2</td><td>8</td><td>orderMCMC_sample</td><td>80</td><td>80</td></tr>\n",
       "\t<tr><td>0.2250000</td><td>0.07500000</td><td>-3644.768</td><td>0.95</td><td> 77</td><td>20.49166</td><td>2</td><td>8</td><td>orderMCMC_sample</td><td>80</td><td>80</td></tr>\n",
       "\t<tr><td>0.2750000</td><td>0.08750000</td><td>-3552.160</td><td>0.90</td><td> 77</td><td>20.49166</td><td>2</td><td>8</td><td>orderMCMC_sample</td><td>80</td><td>80</td></tr>\n",
       "\t<tr><td>0.3875000</td><td>0.13750000</td><td>-3417.887</td><td>0.80</td><td> 76</td><td>20.49166</td><td>2</td><td>8</td><td>orderMCMC_sample</td><td>80</td><td>80</td></tr>\n",
       "\t<tr><td>0.5000000</td><td>0.18750000</td><td>-3334.140</td><td>0.70</td><td> 75</td><td>20.49166</td><td>2</td><td>8</td><td>orderMCMC_sample</td><td>80</td><td>80</td></tr>\n",
       "\t<tr><td>0.5750000</td><td>0.25000000</td><td>-3252.539</td><td>0.60</td><td> 78</td><td>20.49166</td><td>2</td><td>8</td><td>orderMCMC_sample</td><td>80</td><td>80</td></tr>\n",
       "\t<tr><td>0.6500000</td><td>0.28750000</td><td>-3157.669</td><td>0.50</td><td> 81</td><td>20.49166</td><td>2</td><td>8</td><td>orderMCMC_sample</td><td>80</td><td>80</td></tr>\n",
       "\t<tr><td>0.6625000</td><td>0.32500000</td><td>       NA</td><td>0.40</td><td> 79</td><td>20.49166</td><td>2</td><td>8</td><td>orderMCMC_sample</td><td>80</td><td>80</td></tr>\n",
       "\t<tr><td>0.6875000</td><td>0.50000000</td><td>       NA</td><td>0.30</td><td> 93</td><td>20.49166</td><td>2</td><td>8</td><td>orderMCMC_sample</td><td>80</td><td>80</td></tr>\n",
       "\t<tr><td>0.7125000</td><td>0.67500000</td><td>       NA</td><td>0.20</td><td>106</td><td>20.49166</td><td>2</td><td>8</td><td>orderMCMC_sample</td><td>80</td><td>80</td></tr>\n",
       "\t<tr><td>0.1518987</td><td>0.00000000</td><td>-3638.864</td><td>0.99</td><td> 67</td><td>20.34381</td><td>2</td><td>9</td><td>orderMCMC_sample</td><td>80</td><td>80</td></tr>\n",
       "\t<tr><td>0.2405063</td><td>0.00000000</td><td>-3590.718</td><td>0.95</td><td> 61</td><td>20.34381</td><td>2</td><td>9</td><td>orderMCMC_sample</td><td>80</td><td>80</td></tr>\n",
       "\t<tr><td>0.3544304</td><td>0.05063291</td><td>-3501.288</td><td>0.90</td><td> 59</td><td>20.34381</td><td>2</td><td>9</td><td>orderMCMC_sample</td><td>80</td><td>80</td></tr>\n",
       "\t<tr><td>0.4177215</td><td>0.10126582</td><td>-3426.163</td><td>0.80</td><td> 60</td><td>20.34381</td><td>2</td><td>9</td><td>orderMCMC_sample</td><td>80</td><td>80</td></tr>\n",
       "\t<tr><td>0.4556962</td><td>0.13924051</td><td>-3360.352</td><td>0.70</td><td> 62</td><td>20.34381</td><td>2</td><td>9</td><td>orderMCMC_sample</td><td>80</td><td>80</td></tr>\n",
       "\t<tr><td>0.5822785</td><td>0.15189873</td><td>-3144.994</td><td>0.60</td><td> 60</td><td>20.34381</td><td>2</td><td>9</td><td>orderMCMC_sample</td><td>80</td><td>80</td></tr>\n",
       "\t<tr><td>0.6708861</td><td>0.18987342</td><td>-3034.888</td><td>0.50</td><td> 63</td><td>20.34381</td><td>2</td><td>9</td><td>orderMCMC_sample</td><td>80</td><td>80</td></tr>\n",
       "\t<tr><td>0.6962025</td><td>0.24050633</td><td>       NA</td><td>0.40</td><td> 60</td><td>20.34381</td><td>2</td><td>9</td><td>orderMCMC_sample</td><td>80</td><td>80</td></tr>\n",
       "\t<tr><td>0.7341772</td><td>0.34177215</td><td>       NA</td><td>0.30</td><td> 63</td><td>20.34381</td><td>2</td><td>9</td><td>orderMCMC_sample</td><td>80</td><td>80</td></tr>\n",
       "\t<tr><td>0.7468354</td><td>0.64556962</td><td>       NA</td><td>0.20</td><td> 87</td><td>20.34381</td><td>2</td><td>9</td><td>orderMCMC_sample</td><td>80</td><td>80</td></tr>\n",
       "</tbody>\n",
       "</table>\n"
      ],
      "text/latex": [
       "A data.frame: 200 × 11\n",
       "\\begin{tabular}{lllllllllll}\n",
       " TPR & FPRn & logscore & threshold & SHD & time & avparents & replicate & algorithm & dim & sample\\_size\\\\\n",
       " <dbl> & <dbl> & <dbl> & <dbl> & <int> & <dbl> & <int> & <int> & <chr> & <int> & <int>\\\\\n",
       "\\hline\n",
       "\t 0.3291139 & 0.2658228 & -3494.228 & 0.99 &  85 & 25.41092 & 2 &  1 & orderMCMC\\_map & 80 & 80\\\\\n",
       "\t 0.4177215 & 0.3291139 & -3352.472 & 0.95 &  87 & 25.41092 & 2 &  1 & orderMCMC\\_map & 80 & 80\\\\\n",
       "\t 0.4936709 & 0.4556962 & -3252.458 & 0.90 &  93 & 25.41092 & 2 &  1 & orderMCMC\\_map & 80 & 80\\\\\n",
       "\t 0.5822785 & 0.6708861 & -3160.120 & 0.80 & 110 & 25.41092 & 2 &  1 & orderMCMC\\_map & 80 & 80\\\\\n",
       "\t 0.6202532 & 0.8481013 & -3107.847 & 0.70 & 124 & 25.41092 & 2 &  1 & orderMCMC\\_map & 80 & 80\\\\\n",
       "\t 0.6455696 & 0.9746835 & -3073.538 & 0.60 & 134 & 25.41092 & 2 &  1 & orderMCMC\\_map & 80 & 80\\\\\n",
       "\t 0.6708861 & 1.1139241 & -3041.878 & 0.50 & 145 & 25.41092 & 2 &  1 & orderMCMC\\_map & 80 & 80\\\\\n",
       "\t 0.6962025 & 1.2658228 &        NA & 0.40 & 156 & 25.41092 & 2 &  1 & orderMCMC\\_map & 80 & 80\\\\\n",
       "\t 0.7088608 & 1.4050633 &        NA & 0.30 & 167 & 25.41092 & 2 &  1 & orderMCMC\\_map & 80 & 80\\\\\n",
       "\t 0.7341772 & 1.6075949 &        NA & 0.20 & 180 & 25.41092 & 2 &  1 & orderMCMC\\_map & 80 & 80\\\\\n",
       "\t 0.4216867 & 0.1084337 & -3536.789 & 0.99 &  66 & 24.75775 & 2 & 10 & orderMCMC\\_map & 80 & 80\\\\\n",
       "\t 0.5301205 & 0.2289157 & -3411.278 & 0.95 &  72 & 24.75775 & 2 & 10 & orderMCMC\\_map & 80 & 80\\\\\n",
       "\t 0.5662651 & 0.3855422 & -3359.394 & 0.90 &  84 & 24.75775 & 2 & 10 & orderMCMC\\_map & 80 & 80\\\\\n",
       "\t 0.6385542 & 0.5783133 & -3275.954 & 0.80 &  99 & 24.75775 & 2 & 10 & orderMCMC\\_map & 80 & 80\\\\\n",
       "\t 0.6987952 & 0.7228916 & -3189.604 & 0.70 & 110 & 24.75775 & 2 & 10 & orderMCMC\\_map & 80 & 80\\\\\n",
       "\t 0.7710843 & 0.7831325 & -3112.907 & 0.60 & 112 & 24.75775 & 2 & 10 & orderMCMC\\_map & 80 & 80\\\\\n",
       "\t 0.8313253 & 0.8674699 & -3023.329 & 0.50 & 116 & 24.75775 & 2 & 10 & orderMCMC\\_map & 80 & 80\\\\\n",
       "\t 0.8554217 & 1.0120482 &        NA & 0.40 & 126 & 24.75775 & 2 & 10 & orderMCMC\\_map & 80 & 80\\\\\n",
       "\t 0.8554217 & 1.1445783 &        NA & 0.30 & 139 & 24.75775 & 2 & 10 & orderMCMC\\_map & 80 & 80\\\\\n",
       "\t 0.8674699 & 1.3614458 &        NA & 0.20 & 155 & 24.75775 & 2 & 10 & orderMCMC\\_map & 80 & 80\\\\\n",
       "\t 0.2098765 & 0.1234568 & -3834.973 & 0.99 &  80 & 19.62409 & 2 &  2 & orderMCMC\\_map & 80 & 80\\\\\n",
       "\t 0.3580247 & 0.2222222 & -3652.687 & 0.95 &  81 & 19.62409 & 2 &  2 & orderMCMC\\_map & 80 & 80\\\\\n",
       "\t 0.4567901 & 0.2962963 & -3530.535 & 0.90 &  84 & 19.62409 & 2 &  2 & orderMCMC\\_map & 80 & 80\\\\\n",
       "\t 0.5308642 & 0.4320988 & -3456.178 & 0.80 &  93 & 19.62409 & 2 &  2 & orderMCMC\\_map & 80 & 80\\\\\n",
       "\t 0.5925926 & 0.5432099 & -3355.194 & 0.70 & 101 & 19.62409 & 2 &  2 & orderMCMC\\_map & 80 & 80\\\\\n",
       "\t 0.6543210 & 0.6419753 & -3292.844 & 0.60 & 109 & 19.62409 & 2 &  2 & orderMCMC\\_map & 80 & 80\\\\\n",
       "\t 0.6913580 & 0.8148148 & -3235.868 & 0.50 & 121 & 19.62409 & 2 &  2 & orderMCMC\\_map & 80 & 80\\\\\n",
       "\t 0.7037037 & 1.0246914 &        NA & 0.40 & 139 & 19.62409 & 2 &  2 & orderMCMC\\_map & 80 & 80\\\\\n",
       "\t 0.7407407 & 1.1234568 &        NA & 0.30 & 143 & 19.62409 & 2 &  2 & orderMCMC\\_map & 80 & 80\\\\\n",
       "\t 0.7777778 & 1.2716049 &        NA & 0.20 & 152 & 19.62409 & 2 &  2 & orderMCMC\\_map & 80 & 80\\\\\n",
       "\t ⋮ & ⋮ & ⋮ & ⋮ & ⋮ & ⋮ & ⋮ & ⋮ & ⋮ & ⋮ & ⋮\\\\\n",
       "\t 0.1375000 & 0.00000000 & -3668.143 & 0.99 &  70 & 20.01914 & 2 & 7 & orderMCMC\\_sample & 80 & 80\\\\\n",
       "\t 0.3000000 & 0.00000000 & -3499.973 & 0.95 &  61 & 20.01914 & 2 & 7 & orderMCMC\\_sample & 80 & 80\\\\\n",
       "\t 0.3625000 & 0.03750000 & -3425.353 & 0.90 &  60 & 20.01914 & 2 & 7 & orderMCMC\\_sample & 80 & 80\\\\\n",
       "\t 0.4500000 & 0.05000000 & -3336.952 & 0.80 &  59 & 20.01914 & 2 & 7 & orderMCMC\\_sample & 80 & 80\\\\\n",
       "\t 0.5875000 & 0.10000000 & -3202.156 & 0.70 &  59 & 20.01914 & 2 & 7 & orderMCMC\\_sample & 80 & 80\\\\\n",
       "\t 0.6625000 & 0.13750000 & -3121.188 & 0.60 &  60 & 20.01914 & 2 & 7 & orderMCMC\\_sample & 80 & 80\\\\\n",
       "\t 0.7625000 & 0.18750000 & -3003.267 & 0.50 &  63 & 20.01914 & 2 & 7 & orderMCMC\\_sample & 80 & 80\\\\\n",
       "\t 0.7750000 & 0.23750000 &        NA & 0.40 &  63 & 20.01914 & 2 & 7 & orderMCMC\\_sample & 80 & 80\\\\\n",
       "\t 0.8000000 & 0.30000000 &        NA & 0.30 &  67 & 20.01914 & 2 & 7 & orderMCMC\\_sample & 80 & 80\\\\\n",
       "\t 0.8250000 & 0.56250000 &        NA & 0.20 &  85 & 20.01914 & 2 & 7 & orderMCMC\\_sample & 80 & 80\\\\\n",
       "\t 0.0750000 & 0.06250000 & -3789.252 & 0.99 &  81 & 20.49166 & 2 & 8 & orderMCMC\\_sample & 80 & 80\\\\\n",
       "\t 0.2250000 & 0.07500000 & -3644.768 & 0.95 &  77 & 20.49166 & 2 & 8 & orderMCMC\\_sample & 80 & 80\\\\\n",
       "\t 0.2750000 & 0.08750000 & -3552.160 & 0.90 &  77 & 20.49166 & 2 & 8 & orderMCMC\\_sample & 80 & 80\\\\\n",
       "\t 0.3875000 & 0.13750000 & -3417.887 & 0.80 &  76 & 20.49166 & 2 & 8 & orderMCMC\\_sample & 80 & 80\\\\\n",
       "\t 0.5000000 & 0.18750000 & -3334.140 & 0.70 &  75 & 20.49166 & 2 & 8 & orderMCMC\\_sample & 80 & 80\\\\\n",
       "\t 0.5750000 & 0.25000000 & -3252.539 & 0.60 &  78 & 20.49166 & 2 & 8 & orderMCMC\\_sample & 80 & 80\\\\\n",
       "\t 0.6500000 & 0.28750000 & -3157.669 & 0.50 &  81 & 20.49166 & 2 & 8 & orderMCMC\\_sample & 80 & 80\\\\\n",
       "\t 0.6625000 & 0.32500000 &        NA & 0.40 &  79 & 20.49166 & 2 & 8 & orderMCMC\\_sample & 80 & 80\\\\\n",
       "\t 0.6875000 & 0.50000000 &        NA & 0.30 &  93 & 20.49166 & 2 & 8 & orderMCMC\\_sample & 80 & 80\\\\\n",
       "\t 0.7125000 & 0.67500000 &        NA & 0.20 & 106 & 20.49166 & 2 & 8 & orderMCMC\\_sample & 80 & 80\\\\\n",
       "\t 0.1518987 & 0.00000000 & -3638.864 & 0.99 &  67 & 20.34381 & 2 & 9 & orderMCMC\\_sample & 80 & 80\\\\\n",
       "\t 0.2405063 & 0.00000000 & -3590.718 & 0.95 &  61 & 20.34381 & 2 & 9 & orderMCMC\\_sample & 80 & 80\\\\\n",
       "\t 0.3544304 & 0.05063291 & -3501.288 & 0.90 &  59 & 20.34381 & 2 & 9 & orderMCMC\\_sample & 80 & 80\\\\\n",
       "\t 0.4177215 & 0.10126582 & -3426.163 & 0.80 &  60 & 20.34381 & 2 & 9 & orderMCMC\\_sample & 80 & 80\\\\\n",
       "\t 0.4556962 & 0.13924051 & -3360.352 & 0.70 &  62 & 20.34381 & 2 & 9 & orderMCMC\\_sample & 80 & 80\\\\\n",
       "\t 0.5822785 & 0.15189873 & -3144.994 & 0.60 &  60 & 20.34381 & 2 & 9 & orderMCMC\\_sample & 80 & 80\\\\\n",
       "\t 0.6708861 & 0.18987342 & -3034.888 & 0.50 &  63 & 20.34381 & 2 & 9 & orderMCMC\\_sample & 80 & 80\\\\\n",
       "\t 0.6962025 & 0.24050633 &        NA & 0.40 &  60 & 20.34381 & 2 & 9 & orderMCMC\\_sample & 80 & 80\\\\\n",
       "\t 0.7341772 & 0.34177215 &        NA & 0.30 &  63 & 20.34381 & 2 & 9 & orderMCMC\\_sample & 80 & 80\\\\\n",
       "\t 0.7468354 & 0.64556962 &        NA & 0.20 &  87 & 20.34381 & 2 & 9 & orderMCMC\\_sample & 80 & 80\\\\\n",
       "\\end{tabular}\n"
      ],
      "text/markdown": [
       "\n",
       "A data.frame: 200 × 11\n",
       "\n",
       "| TPR &lt;dbl&gt; | FPRn &lt;dbl&gt; | logscore &lt;dbl&gt; | threshold &lt;dbl&gt; | SHD &lt;int&gt; | time &lt;dbl&gt; | avparents &lt;int&gt; | replicate &lt;int&gt; | algorithm &lt;chr&gt; | dim &lt;int&gt; | sample_size &lt;int&gt; |\n",
       "|---|---|---|---|---|---|---|---|---|---|---|\n",
       "| 0.3291139 | 0.2658228 | -3494.228 | 0.99 |  85 | 25.41092 | 2 |  1 | orderMCMC_map | 80 | 80 |\n",
       "| 0.4177215 | 0.3291139 | -3352.472 | 0.95 |  87 | 25.41092 | 2 |  1 | orderMCMC_map | 80 | 80 |\n",
       "| 0.4936709 | 0.4556962 | -3252.458 | 0.90 |  93 | 25.41092 | 2 |  1 | orderMCMC_map | 80 | 80 |\n",
       "| 0.5822785 | 0.6708861 | -3160.120 | 0.80 | 110 | 25.41092 | 2 |  1 | orderMCMC_map | 80 | 80 |\n",
       "| 0.6202532 | 0.8481013 | -3107.847 | 0.70 | 124 | 25.41092 | 2 |  1 | orderMCMC_map | 80 | 80 |\n",
       "| 0.6455696 | 0.9746835 | -3073.538 | 0.60 | 134 | 25.41092 | 2 |  1 | orderMCMC_map | 80 | 80 |\n",
       "| 0.6708861 | 1.1139241 | -3041.878 | 0.50 | 145 | 25.41092 | 2 |  1 | orderMCMC_map | 80 | 80 |\n",
       "| 0.6962025 | 1.2658228 |        NA | 0.40 | 156 | 25.41092 | 2 |  1 | orderMCMC_map | 80 | 80 |\n",
       "| 0.7088608 | 1.4050633 |        NA | 0.30 | 167 | 25.41092 | 2 |  1 | orderMCMC_map | 80 | 80 |\n",
       "| 0.7341772 | 1.6075949 |        NA | 0.20 | 180 | 25.41092 | 2 |  1 | orderMCMC_map | 80 | 80 |\n",
       "| 0.4216867 | 0.1084337 | -3536.789 | 0.99 |  66 | 24.75775 | 2 | 10 | orderMCMC_map | 80 | 80 |\n",
       "| 0.5301205 | 0.2289157 | -3411.278 | 0.95 |  72 | 24.75775 | 2 | 10 | orderMCMC_map | 80 | 80 |\n",
       "| 0.5662651 | 0.3855422 | -3359.394 | 0.90 |  84 | 24.75775 | 2 | 10 | orderMCMC_map | 80 | 80 |\n",
       "| 0.6385542 | 0.5783133 | -3275.954 | 0.80 |  99 | 24.75775 | 2 | 10 | orderMCMC_map | 80 | 80 |\n",
       "| 0.6987952 | 0.7228916 | -3189.604 | 0.70 | 110 | 24.75775 | 2 | 10 | orderMCMC_map | 80 | 80 |\n",
       "| 0.7710843 | 0.7831325 | -3112.907 | 0.60 | 112 | 24.75775 | 2 | 10 | orderMCMC_map | 80 | 80 |\n",
       "| 0.8313253 | 0.8674699 | -3023.329 | 0.50 | 116 | 24.75775 | 2 | 10 | orderMCMC_map | 80 | 80 |\n",
       "| 0.8554217 | 1.0120482 |        NA | 0.40 | 126 | 24.75775 | 2 | 10 | orderMCMC_map | 80 | 80 |\n",
       "| 0.8554217 | 1.1445783 |        NA | 0.30 | 139 | 24.75775 | 2 | 10 | orderMCMC_map | 80 | 80 |\n",
       "| 0.8674699 | 1.3614458 |        NA | 0.20 | 155 | 24.75775 | 2 | 10 | orderMCMC_map | 80 | 80 |\n",
       "| 0.2098765 | 0.1234568 | -3834.973 | 0.99 |  80 | 19.62409 | 2 |  2 | orderMCMC_map | 80 | 80 |\n",
       "| 0.3580247 | 0.2222222 | -3652.687 | 0.95 |  81 | 19.62409 | 2 |  2 | orderMCMC_map | 80 | 80 |\n",
       "| 0.4567901 | 0.2962963 | -3530.535 | 0.90 |  84 | 19.62409 | 2 |  2 | orderMCMC_map | 80 | 80 |\n",
       "| 0.5308642 | 0.4320988 | -3456.178 | 0.80 |  93 | 19.62409 | 2 |  2 | orderMCMC_map | 80 | 80 |\n",
       "| 0.5925926 | 0.5432099 | -3355.194 | 0.70 | 101 | 19.62409 | 2 |  2 | orderMCMC_map | 80 | 80 |\n",
       "| 0.6543210 | 0.6419753 | -3292.844 | 0.60 | 109 | 19.62409 | 2 |  2 | orderMCMC_map | 80 | 80 |\n",
       "| 0.6913580 | 0.8148148 | -3235.868 | 0.50 | 121 | 19.62409 | 2 |  2 | orderMCMC_map | 80 | 80 |\n",
       "| 0.7037037 | 1.0246914 |        NA | 0.40 | 139 | 19.62409 | 2 |  2 | orderMCMC_map | 80 | 80 |\n",
       "| 0.7407407 | 1.1234568 |        NA | 0.30 | 143 | 19.62409 | 2 |  2 | orderMCMC_map | 80 | 80 |\n",
       "| 0.7777778 | 1.2716049 |        NA | 0.20 | 152 | 19.62409 | 2 |  2 | orderMCMC_map | 80 | 80 |\n",
       "| ⋮ | ⋮ | ⋮ | ⋮ | ⋮ | ⋮ | ⋮ | ⋮ | ⋮ | ⋮ | ⋮ |\n",
       "| 0.1375000 | 0.00000000 | -3668.143 | 0.99 |  70 | 20.01914 | 2 | 7 | orderMCMC_sample | 80 | 80 |\n",
       "| 0.3000000 | 0.00000000 | -3499.973 | 0.95 |  61 | 20.01914 | 2 | 7 | orderMCMC_sample | 80 | 80 |\n",
       "| 0.3625000 | 0.03750000 | -3425.353 | 0.90 |  60 | 20.01914 | 2 | 7 | orderMCMC_sample | 80 | 80 |\n",
       "| 0.4500000 | 0.05000000 | -3336.952 | 0.80 |  59 | 20.01914 | 2 | 7 | orderMCMC_sample | 80 | 80 |\n",
       "| 0.5875000 | 0.10000000 | -3202.156 | 0.70 |  59 | 20.01914 | 2 | 7 | orderMCMC_sample | 80 | 80 |\n",
       "| 0.6625000 | 0.13750000 | -3121.188 | 0.60 |  60 | 20.01914 | 2 | 7 | orderMCMC_sample | 80 | 80 |\n",
       "| 0.7625000 | 0.18750000 | -3003.267 | 0.50 |  63 | 20.01914 | 2 | 7 | orderMCMC_sample | 80 | 80 |\n",
       "| 0.7750000 | 0.23750000 |        NA | 0.40 |  63 | 20.01914 | 2 | 7 | orderMCMC_sample | 80 | 80 |\n",
       "| 0.8000000 | 0.30000000 |        NA | 0.30 |  67 | 20.01914 | 2 | 7 | orderMCMC_sample | 80 | 80 |\n",
       "| 0.8250000 | 0.56250000 |        NA | 0.20 |  85 | 20.01914 | 2 | 7 | orderMCMC_sample | 80 | 80 |\n",
       "| 0.0750000 | 0.06250000 | -3789.252 | 0.99 |  81 | 20.49166 | 2 | 8 | orderMCMC_sample | 80 | 80 |\n",
       "| 0.2250000 | 0.07500000 | -3644.768 | 0.95 |  77 | 20.49166 | 2 | 8 | orderMCMC_sample | 80 | 80 |\n",
       "| 0.2750000 | 0.08750000 | -3552.160 | 0.90 |  77 | 20.49166 | 2 | 8 | orderMCMC_sample | 80 | 80 |\n",
       "| 0.3875000 | 0.13750000 | -3417.887 | 0.80 |  76 | 20.49166 | 2 | 8 | orderMCMC_sample | 80 | 80 |\n",
       "| 0.5000000 | 0.18750000 | -3334.140 | 0.70 |  75 | 20.49166 | 2 | 8 | orderMCMC_sample | 80 | 80 |\n",
       "| 0.5750000 | 0.25000000 | -3252.539 | 0.60 |  78 | 20.49166 | 2 | 8 | orderMCMC_sample | 80 | 80 |\n",
       "| 0.6500000 | 0.28750000 | -3157.669 | 0.50 |  81 | 20.49166 | 2 | 8 | orderMCMC_sample | 80 | 80 |\n",
       "| 0.6625000 | 0.32500000 |        NA | 0.40 |  79 | 20.49166 | 2 | 8 | orderMCMC_sample | 80 | 80 |\n",
       "| 0.6875000 | 0.50000000 |        NA | 0.30 |  93 | 20.49166 | 2 | 8 | orderMCMC_sample | 80 | 80 |\n",
       "| 0.7125000 | 0.67500000 |        NA | 0.20 | 106 | 20.49166 | 2 | 8 | orderMCMC_sample | 80 | 80 |\n",
       "| 0.1518987 | 0.00000000 | -3638.864 | 0.99 |  67 | 20.34381 | 2 | 9 | orderMCMC_sample | 80 | 80 |\n",
       "| 0.2405063 | 0.00000000 | -3590.718 | 0.95 |  61 | 20.34381 | 2 | 9 | orderMCMC_sample | 80 | 80 |\n",
       "| 0.3544304 | 0.05063291 | -3501.288 | 0.90 |  59 | 20.34381 | 2 | 9 | orderMCMC_sample | 80 | 80 |\n",
       "| 0.4177215 | 0.10126582 | -3426.163 | 0.80 |  60 | 20.34381 | 2 | 9 | orderMCMC_sample | 80 | 80 |\n",
       "| 0.4556962 | 0.13924051 | -3360.352 | 0.70 |  62 | 20.34381 | 2 | 9 | orderMCMC_sample | 80 | 80 |\n",
       "| 0.5822785 | 0.15189873 | -3144.994 | 0.60 |  60 | 20.34381 | 2 | 9 | orderMCMC_sample | 80 | 80 |\n",
       "| 0.6708861 | 0.18987342 | -3034.888 | 0.50 |  63 | 20.34381 | 2 | 9 | orderMCMC_sample | 80 | 80 |\n",
       "| 0.6962025 | 0.24050633 |        NA | 0.40 |  60 | 20.34381 | 2 | 9 | orderMCMC_sample | 80 | 80 |\n",
       "| 0.7341772 | 0.34177215 |        NA | 0.30 |  63 | 20.34381 | 2 | 9 | orderMCMC_sample | 80 | 80 |\n",
       "| 0.7468354 | 0.64556962 |        NA | 0.20 |  87 | 20.34381 | 2 | 9 | orderMCMC_sample | 80 | 80 |\n",
       "\n"
      ],
      "text/plain": [
       "    TPR       FPRn       logscore  threshold SHD time     avparents replicate\n",
       "1   0.3291139 0.2658228  -3494.228 0.99       85 25.41092 2          1       \n",
       "2   0.4177215 0.3291139  -3352.472 0.95       87 25.41092 2          1       \n",
       "3   0.4936709 0.4556962  -3252.458 0.90       93 25.41092 2          1       \n",
       "4   0.5822785 0.6708861  -3160.120 0.80      110 25.41092 2          1       \n",
       "5   0.6202532 0.8481013  -3107.847 0.70      124 25.41092 2          1       \n",
       "6   0.6455696 0.9746835  -3073.538 0.60      134 25.41092 2          1       \n",
       "7   0.6708861 1.1139241  -3041.878 0.50      145 25.41092 2          1       \n",
       "8   0.6962025 1.2658228         NA 0.40      156 25.41092 2          1       \n",
       "9   0.7088608 1.4050633         NA 0.30      167 25.41092 2          1       \n",
       "10  0.7341772 1.6075949         NA 0.20      180 25.41092 2          1       \n",
       "11  0.4216867 0.1084337  -3536.789 0.99       66 24.75775 2         10       \n",
       "12  0.5301205 0.2289157  -3411.278 0.95       72 24.75775 2         10       \n",
       "13  0.5662651 0.3855422  -3359.394 0.90       84 24.75775 2         10       \n",
       "14  0.6385542 0.5783133  -3275.954 0.80       99 24.75775 2         10       \n",
       "15  0.6987952 0.7228916  -3189.604 0.70      110 24.75775 2         10       \n",
       "16  0.7710843 0.7831325  -3112.907 0.60      112 24.75775 2         10       \n",
       "17  0.8313253 0.8674699  -3023.329 0.50      116 24.75775 2         10       \n",
       "18  0.8554217 1.0120482         NA 0.40      126 24.75775 2         10       \n",
       "19  0.8554217 1.1445783         NA 0.30      139 24.75775 2         10       \n",
       "20  0.8674699 1.3614458         NA 0.20      155 24.75775 2         10       \n",
       "21  0.2098765 0.1234568  -3834.973 0.99       80 19.62409 2          2       \n",
       "22  0.3580247 0.2222222  -3652.687 0.95       81 19.62409 2          2       \n",
       "23  0.4567901 0.2962963  -3530.535 0.90       84 19.62409 2          2       \n",
       "24  0.5308642 0.4320988  -3456.178 0.80       93 19.62409 2          2       \n",
       "25  0.5925926 0.5432099  -3355.194 0.70      101 19.62409 2          2       \n",
       "26  0.6543210 0.6419753  -3292.844 0.60      109 19.62409 2          2       \n",
       "27  0.6913580 0.8148148  -3235.868 0.50      121 19.62409 2          2       \n",
       "28  0.7037037 1.0246914         NA 0.40      139 19.62409 2          2       \n",
       "29  0.7407407 1.1234568         NA 0.30      143 19.62409 2          2       \n",
       "30  0.7777778 1.2716049         NA 0.20      152 19.62409 2          2       \n",
       "⋮   ⋮         ⋮          ⋮         ⋮         ⋮   ⋮        ⋮         ⋮        \n",
       "171 0.1375000 0.00000000 -3668.143 0.99       70 20.01914 2         7        \n",
       "172 0.3000000 0.00000000 -3499.973 0.95       61 20.01914 2         7        \n",
       "173 0.3625000 0.03750000 -3425.353 0.90       60 20.01914 2         7        \n",
       "174 0.4500000 0.05000000 -3336.952 0.80       59 20.01914 2         7        \n",
       "175 0.5875000 0.10000000 -3202.156 0.70       59 20.01914 2         7        \n",
       "176 0.6625000 0.13750000 -3121.188 0.60       60 20.01914 2         7        \n",
       "177 0.7625000 0.18750000 -3003.267 0.50       63 20.01914 2         7        \n",
       "178 0.7750000 0.23750000        NA 0.40       63 20.01914 2         7        \n",
       "179 0.8000000 0.30000000        NA 0.30       67 20.01914 2         7        \n",
       "180 0.8250000 0.56250000        NA 0.20       85 20.01914 2         7        \n",
       "181 0.0750000 0.06250000 -3789.252 0.99       81 20.49166 2         8        \n",
       "182 0.2250000 0.07500000 -3644.768 0.95       77 20.49166 2         8        \n",
       "183 0.2750000 0.08750000 -3552.160 0.90       77 20.49166 2         8        \n",
       "184 0.3875000 0.13750000 -3417.887 0.80       76 20.49166 2         8        \n",
       "185 0.5000000 0.18750000 -3334.140 0.70       75 20.49166 2         8        \n",
       "186 0.5750000 0.25000000 -3252.539 0.60       78 20.49166 2         8        \n",
       "187 0.6500000 0.28750000 -3157.669 0.50       81 20.49166 2         8        \n",
       "188 0.6625000 0.32500000        NA 0.40       79 20.49166 2         8        \n",
       "189 0.6875000 0.50000000        NA 0.30       93 20.49166 2         8        \n",
       "190 0.7125000 0.67500000        NA 0.20      106 20.49166 2         8        \n",
       "191 0.1518987 0.00000000 -3638.864 0.99       67 20.34381 2         9        \n",
       "192 0.2405063 0.00000000 -3590.718 0.95       61 20.34381 2         9        \n",
       "193 0.3544304 0.05063291 -3501.288 0.90       59 20.34381 2         9        \n",
       "194 0.4177215 0.10126582 -3426.163 0.80       60 20.34381 2         9        \n",
       "195 0.4556962 0.13924051 -3360.352 0.70       62 20.34381 2         9        \n",
       "196 0.5822785 0.15189873 -3144.994 0.60       60 20.34381 2         9        \n",
       "197 0.6708861 0.18987342 -3034.888 0.50       63 20.34381 2         9        \n",
       "198 0.6962025 0.24050633        NA 0.40       60 20.34381 2         9        \n",
       "199 0.7341772 0.34177215        NA 0.30       63 20.34381 2         9        \n",
       "200 0.7468354 0.64556962        NA 0.20       87 20.34381 2         9        \n",
       "    algorithm        dim sample_size\n",
       "1   orderMCMC_map    80  80         \n",
       "2   orderMCMC_map    80  80         \n",
       "3   orderMCMC_map    80  80         \n",
       "4   orderMCMC_map    80  80         \n",
       "5   orderMCMC_map    80  80         \n",
       "6   orderMCMC_map    80  80         \n",
       "7   orderMCMC_map    80  80         \n",
       "8   orderMCMC_map    80  80         \n",
       "9   orderMCMC_map    80  80         \n",
       "10  orderMCMC_map    80  80         \n",
       "11  orderMCMC_map    80  80         \n",
       "12  orderMCMC_map    80  80         \n",
       "13  orderMCMC_map    80  80         \n",
       "14  orderMCMC_map    80  80         \n",
       "15  orderMCMC_map    80  80         \n",
       "16  orderMCMC_map    80  80         \n",
       "17  orderMCMC_map    80  80         \n",
       "18  orderMCMC_map    80  80         \n",
       "19  orderMCMC_map    80  80         \n",
       "20  orderMCMC_map    80  80         \n",
       "21  orderMCMC_map    80  80         \n",
       "22  orderMCMC_map    80  80         \n",
       "23  orderMCMC_map    80  80         \n",
       "24  orderMCMC_map    80  80         \n",
       "25  orderMCMC_map    80  80         \n",
       "26  orderMCMC_map    80  80         \n",
       "27  orderMCMC_map    80  80         \n",
       "28  orderMCMC_map    80  80         \n",
       "29  orderMCMC_map    80  80         \n",
       "30  orderMCMC_map    80  80         \n",
       "⋮   ⋮                ⋮   ⋮          \n",
       "171 orderMCMC_sample 80  80         \n",
       "172 orderMCMC_sample 80  80         \n",
       "173 orderMCMC_sample 80  80         \n",
       "174 orderMCMC_sample 80  80         \n",
       "175 orderMCMC_sample 80  80         \n",
       "176 orderMCMC_sample 80  80         \n",
       "177 orderMCMC_sample 80  80         \n",
       "178 orderMCMC_sample 80  80         \n",
       "179 orderMCMC_sample 80  80         \n",
       "180 orderMCMC_sample 80  80         \n",
       "181 orderMCMC_sample 80  80         \n",
       "182 orderMCMC_sample 80  80         \n",
       "183 orderMCMC_sample 80  80         \n",
       "184 orderMCMC_sample 80  80         \n",
       "185 orderMCMC_sample 80  80         \n",
       "186 orderMCMC_sample 80  80         \n",
       "187 orderMCMC_sample 80  80         \n",
       "188 orderMCMC_sample 80  80         \n",
       "189 orderMCMC_sample 80  80         \n",
       "190 orderMCMC_sample 80  80         \n",
       "191 orderMCMC_sample 80  80         \n",
       "192 orderMCMC_sample 80  80         \n",
       "193 orderMCMC_sample 80  80         \n",
       "194 orderMCMC_sample 80  80         \n",
       "195 orderMCMC_sample 80  80         \n",
       "196 orderMCMC_sample 80  80         \n",
       "197 orderMCMC_sample 80  80         \n",
       "198 orderMCMC_sample 80  80         \n",
       "199 orderMCMC_sample 80  80         \n",
       "200 orderMCMC_sample 80  80         "
      ]
     },
     "metadata": {},
     "output_type": "display_data"
    }
   ],
   "source": [
    "ROCdf_order_mcmc"
   ]
  },
  {
   "cell_type": "code",
   "execution_count": 14,
   "metadata": {},
   "outputs": [],
   "source": [
    "sumROC_order_mcmc = ROCdf_order_mcmc %>%\n",
    "                    filter(dim %in% dims) %>%\n",
    "                    filter(sample_size %in% sample_sizes) %>%                    \n",
    "                    filter(avparents %in% avparents) %>%                    \n",
    "                    group_by(algorithm, threshold, sample_size, dim) %>% \n",
    "                    summarise( SHD_mean = mean(SHD),\n",
    "                                TPR_mean = mean(TPR), \n",
    "                              TPR_median = median(TPR), \n",
    "                              FPRn_median = median(FPRn), \n",
    "                              TPR_q1 = quantile(TPR, probs = c(0.05)), \n",
    "                              TPR_q3 = quantile(TPR, probs = c(0.95)),\n",
    "                              time_mean = mean(time),\n",
    "                              logscore_mean = mean(logscore),\n",
    "                              N = n())%>%\n",
    "                    filter(N %in% replicates)"
   ]
  },
  {
   "cell_type": "code",
   "execution_count": 15,
   "metadata": {},
   "outputs": [
    {
     "data": {
      "text/html": [
       "<table>\n",
       "<caption>A grouped_df: 20 × 13</caption>\n",
       "<thead>\n",
       "\t<tr><th scope=col>algorithm</th><th scope=col>threshold</th><th scope=col>sample_size</th><th scope=col>dim</th><th scope=col>SHD_mean</th><th scope=col>TPR_mean</th><th scope=col>TPR_median</th><th scope=col>FPRn_median</th><th scope=col>TPR_q1</th><th scope=col>TPR_q3</th><th scope=col>time_mean</th><th scope=col>logscore_mean</th><th scope=col>N</th></tr>\n",
       "\t<tr><th scope=col>&lt;chr&gt;</th><th scope=col>&lt;dbl&gt;</th><th scope=col>&lt;int&gt;</th><th scope=col>&lt;int&gt;</th><th scope=col>&lt;dbl&gt;</th><th scope=col>&lt;dbl&gt;</th><th scope=col>&lt;dbl&gt;</th><th scope=col>&lt;dbl&gt;</th><th scope=col>&lt;dbl&gt;</th><th scope=col>&lt;dbl&gt;</th><th scope=col>&lt;dbl&gt;</th><th scope=col>&lt;dbl&gt;</th><th scope=col>&lt;int&gt;</th></tr>\n",
       "</thead>\n",
       "<tbody>\n",
       "\t<tr><td>orderMCMC_map   </td><td>0.20</td><td>80</td><td>80</td><td>169.0</td><td>0.7854069</td><td>0.7701389</td><td>1.50655488</td><td>0.73417722</td><td>0.8612548</td><td>22.85139</td><td>       NA</td><td>10</td></tr>\n",
       "\t<tr><td>orderMCMC_map   </td><td>0.30</td><td>80</td><td>80</td><td>152.6</td><td>0.7742009</td><td>0.7484177</td><td>1.28314873</td><td>0.72025316</td><td>0.8546283</td><td>22.85139</td><td>       NA</td><td>10</td></tr>\n",
       "\t<tr><td>orderMCMC_map   </td><td>0.40</td><td>80</td><td>80</td><td>139.1</td><td>0.7592310</td><td>0.7358386</td><td>1.09375000</td><td>0.69791139</td><td>0.8546283</td><td>22.85139</td><td>       NA</td><td>10</td></tr>\n",
       "\t<tr><td>orderMCMC_map   </td><td>0.50</td><td>80</td><td>80</td><td>127.1</td><td>0.7430073</td><td>0.7295095</td><td>0.90662604</td><td>0.67273734</td><td>0.8436086</td><td>22.85139</td><td>-3058.183</td><td>10</td></tr>\n",
       "\t<tr><td>orderMCMC_map   </td><td>0.60</td><td>80</td><td>80</td><td>114.8</td><td>0.7069951</td><td>0.6981013</td><td>0.77131310</td><td>0.64556962</td><td>0.8097928</td><td>22.85139</td><td>-3111.937</td><td>10</td></tr>\n",
       "\t<tr><td>orderMCMC_map   </td><td>0.70</td><td>80</td><td>80</td><td>103.8</td><td>0.6399418</td><td>0.6351266</td><td>0.62246835</td><td>0.57299578</td><td>0.7168969</td><td>22.85139</td><td>-3194.479</td><td>10</td></tr>\n",
       "\t<tr><td>orderMCMC_map   </td><td>0.80</td><td>80</td><td>80</td><td> 93.3</td><td>0.5840662</td><td>0.5822785</td><td>0.44104938</td><td>0.51736990</td><td>0.6566396</td><td>22.85139</td><td>-3273.203</td><td>10</td></tr>\n",
       "\t<tr><td>orderMCMC_map   </td><td>0.90</td><td>80</td><td>80</td><td> 84.1</td><td>0.4834291</td><td>0.4843354</td><td>0.28839205</td><td>0.40439873</td><td>0.5563825</td><td>22.85139</td><td>-3372.354</td><td>10</td></tr>\n",
       "\t<tr><td>orderMCMC_map   </td><td>0.95</td><td>80</td><td>80</td><td> 80.2</td><td>0.3976156</td><td>0.3812500</td><td>0.21736111</td><td>0.33520833</td><td>0.5023258</td><td>22.85139</td><td>-3467.590</td><td>10</td></tr>\n",
       "\t<tr><td>orderMCMC_map   </td><td>0.99</td><td>80</td><td>80</td><td> 75.7</td><td>0.2884420</td><td>0.2607286</td><td>0.11250000</td><td>0.21543210</td><td>0.4142062</td><td>22.85139</td><td>-3590.108</td><td>10</td></tr>\n",
       "\t<tr><td>orderMCMC_sample</td><td>0.20</td><td>80</td><td>80</td><td> 95.8</td><td>0.7578692</td><td>0.7296677</td><td>0.65189873</td><td>0.67088608</td><td>0.8607046</td><td>19.22253</td><td>       NA</td><td>10</td></tr>\n",
       "\t<tr><td>orderMCMC_sample</td><td>0.30</td><td>80</td><td>80</td><td> 80.5</td><td>0.7304553</td><td>0.7189405</td><td>0.43447052</td><td>0.62468354</td><td>0.8294715</td><td>19.22253</td><td>       NA</td><td>10</td></tr>\n",
       "\t<tr><td>orderMCMC_sample</td><td>0.40</td><td>80</td><td>80</td><td> 75.3</td><td>0.7043998</td><td>0.6814346</td><td>0.29541139</td><td>0.60506329</td><td>0.7915312</td><td>19.22253</td><td>       NA</td><td>10</td></tr>\n",
       "\t<tr><td>orderMCMC_sample</td><td>0.50</td><td>80</td><td>80</td><td> 73.0</td><td>0.6844889</td><td>0.6604430</td><td>0.22519144</td><td>0.58417722</td><td>0.7762562</td><td>19.22253</td><td>-3177.409</td><td>10</td></tr>\n",
       "\t<tr><td>orderMCMC_sample</td><td>0.60</td><td>80</td><td>80</td><td> 69.9</td><td>0.6183498</td><td>0.5974684</td><td>0.16885451</td><td>0.49545886</td><td>0.7279974</td><td>19.22253</td><td>-3250.295</td><td>10</td></tr>\n",
       "\t<tr><td>orderMCMC_sample</td><td>0.70</td><td>80</td><td>80</td><td> 68.9</td><td>0.5435046</td><td>0.5219937</td><td>0.13752149</td><td>0.40000000</td><td>0.6740523</td><td>19.22253</td><td>-3338.169</td><td>10</td></tr>\n",
       "\t<tr><td>orderMCMC_sample</td><td>0.80</td><td>80</td><td>80</td><td> 67.7</td><td>0.4527019</td><td>0.4285494</td><td>0.10618847</td><td>0.34146361</td><td>0.5915295</td><td>19.22253</td><td>-3432.727</td><td>10</td></tr>\n",
       "\t<tr><td>orderMCMC_sample</td><td>0.90</td><td>80</td><td>80</td><td> 68.1</td><td>0.3377019</td><td>0.3500547</td><td>0.05031646</td><td>0.22818038</td><td>0.4396252</td><td>19.22253</td><td>-3554.340</td><td>10</td></tr>\n",
       "\t<tr><td>orderMCMC_sample</td><td>0.95</td><td>80</td><td>80</td><td> 69.9</td><td>0.2496390</td><td>0.2484568</td><td>0.04284639</td><td>0.12703767</td><td>0.3419307</td><td>19.22253</td><td>-3648.906</td><td>10</td></tr>\n",
       "\t<tr><td>orderMCMC_sample</td><td>0.99</td><td>80</td><td>80</td><td> 73.2</td><td>0.1441410</td><td>0.1428241</td><td>0.01822103</td><td>0.06856013</td><td>0.2244472</td><td>19.22253</td><td>-3761.079</td><td>10</td></tr>\n",
       "</tbody>\n",
       "</table>\n"
      ],
      "text/latex": [
       "A grouped\\_df: 20 × 13\n",
       "\\begin{tabular}{lllllllllllll}\n",
       " algorithm & threshold & sample\\_size & dim & SHD\\_mean & TPR\\_mean & TPR\\_median & FPRn\\_median & TPR\\_q1 & TPR\\_q3 & time\\_mean & logscore\\_mean & N\\\\\n",
       " <chr> & <dbl> & <int> & <int> & <dbl> & <dbl> & <dbl> & <dbl> & <dbl> & <dbl> & <dbl> & <dbl> & <int>\\\\\n",
       "\\hline\n",
       "\t orderMCMC\\_map    & 0.20 & 80 & 80 & 169.0 & 0.7854069 & 0.7701389 & 1.50655488 & 0.73417722 & 0.8612548 & 22.85139 &        NA & 10\\\\\n",
       "\t orderMCMC\\_map    & 0.30 & 80 & 80 & 152.6 & 0.7742009 & 0.7484177 & 1.28314873 & 0.72025316 & 0.8546283 & 22.85139 &        NA & 10\\\\\n",
       "\t orderMCMC\\_map    & 0.40 & 80 & 80 & 139.1 & 0.7592310 & 0.7358386 & 1.09375000 & 0.69791139 & 0.8546283 & 22.85139 &        NA & 10\\\\\n",
       "\t orderMCMC\\_map    & 0.50 & 80 & 80 & 127.1 & 0.7430073 & 0.7295095 & 0.90662604 & 0.67273734 & 0.8436086 & 22.85139 & -3058.183 & 10\\\\\n",
       "\t orderMCMC\\_map    & 0.60 & 80 & 80 & 114.8 & 0.7069951 & 0.6981013 & 0.77131310 & 0.64556962 & 0.8097928 & 22.85139 & -3111.937 & 10\\\\\n",
       "\t orderMCMC\\_map    & 0.70 & 80 & 80 & 103.8 & 0.6399418 & 0.6351266 & 0.62246835 & 0.57299578 & 0.7168969 & 22.85139 & -3194.479 & 10\\\\\n",
       "\t orderMCMC\\_map    & 0.80 & 80 & 80 &  93.3 & 0.5840662 & 0.5822785 & 0.44104938 & 0.51736990 & 0.6566396 & 22.85139 & -3273.203 & 10\\\\\n",
       "\t orderMCMC\\_map    & 0.90 & 80 & 80 &  84.1 & 0.4834291 & 0.4843354 & 0.28839205 & 0.40439873 & 0.5563825 & 22.85139 & -3372.354 & 10\\\\\n",
       "\t orderMCMC\\_map    & 0.95 & 80 & 80 &  80.2 & 0.3976156 & 0.3812500 & 0.21736111 & 0.33520833 & 0.5023258 & 22.85139 & -3467.590 & 10\\\\\n",
       "\t orderMCMC\\_map    & 0.99 & 80 & 80 &  75.7 & 0.2884420 & 0.2607286 & 0.11250000 & 0.21543210 & 0.4142062 & 22.85139 & -3590.108 & 10\\\\\n",
       "\t orderMCMC\\_sample & 0.20 & 80 & 80 &  95.8 & 0.7578692 & 0.7296677 & 0.65189873 & 0.67088608 & 0.8607046 & 19.22253 &        NA & 10\\\\\n",
       "\t orderMCMC\\_sample & 0.30 & 80 & 80 &  80.5 & 0.7304553 & 0.7189405 & 0.43447052 & 0.62468354 & 0.8294715 & 19.22253 &        NA & 10\\\\\n",
       "\t orderMCMC\\_sample & 0.40 & 80 & 80 &  75.3 & 0.7043998 & 0.6814346 & 0.29541139 & 0.60506329 & 0.7915312 & 19.22253 &        NA & 10\\\\\n",
       "\t orderMCMC\\_sample & 0.50 & 80 & 80 &  73.0 & 0.6844889 & 0.6604430 & 0.22519144 & 0.58417722 & 0.7762562 & 19.22253 & -3177.409 & 10\\\\\n",
       "\t orderMCMC\\_sample & 0.60 & 80 & 80 &  69.9 & 0.6183498 & 0.5974684 & 0.16885451 & 0.49545886 & 0.7279974 & 19.22253 & -3250.295 & 10\\\\\n",
       "\t orderMCMC\\_sample & 0.70 & 80 & 80 &  68.9 & 0.5435046 & 0.5219937 & 0.13752149 & 0.40000000 & 0.6740523 & 19.22253 & -3338.169 & 10\\\\\n",
       "\t orderMCMC\\_sample & 0.80 & 80 & 80 &  67.7 & 0.4527019 & 0.4285494 & 0.10618847 & 0.34146361 & 0.5915295 & 19.22253 & -3432.727 & 10\\\\\n",
       "\t orderMCMC\\_sample & 0.90 & 80 & 80 &  68.1 & 0.3377019 & 0.3500547 & 0.05031646 & 0.22818038 & 0.4396252 & 19.22253 & -3554.340 & 10\\\\\n",
       "\t orderMCMC\\_sample & 0.95 & 80 & 80 &  69.9 & 0.2496390 & 0.2484568 & 0.04284639 & 0.12703767 & 0.3419307 & 19.22253 & -3648.906 & 10\\\\\n",
       "\t orderMCMC\\_sample & 0.99 & 80 & 80 &  73.2 & 0.1441410 & 0.1428241 & 0.01822103 & 0.06856013 & 0.2244472 & 19.22253 & -3761.079 & 10\\\\\n",
       "\\end{tabular}\n"
      ],
      "text/markdown": [
       "\n",
       "A grouped_df: 20 × 13\n",
       "\n",
       "| algorithm &lt;chr&gt; | threshold &lt;dbl&gt; | sample_size &lt;int&gt; | dim &lt;int&gt; | SHD_mean &lt;dbl&gt; | TPR_mean &lt;dbl&gt; | TPR_median &lt;dbl&gt; | FPRn_median &lt;dbl&gt; | TPR_q1 &lt;dbl&gt; | TPR_q3 &lt;dbl&gt; | time_mean &lt;dbl&gt; | logscore_mean &lt;dbl&gt; | N &lt;int&gt; |\n",
       "|---|---|---|---|---|---|---|---|---|---|---|---|---|\n",
       "| orderMCMC_map    | 0.20 | 80 | 80 | 169.0 | 0.7854069 | 0.7701389 | 1.50655488 | 0.73417722 | 0.8612548 | 22.85139 |        NA | 10 |\n",
       "| orderMCMC_map    | 0.30 | 80 | 80 | 152.6 | 0.7742009 | 0.7484177 | 1.28314873 | 0.72025316 | 0.8546283 | 22.85139 |        NA | 10 |\n",
       "| orderMCMC_map    | 0.40 | 80 | 80 | 139.1 | 0.7592310 | 0.7358386 | 1.09375000 | 0.69791139 | 0.8546283 | 22.85139 |        NA | 10 |\n",
       "| orderMCMC_map    | 0.50 | 80 | 80 | 127.1 | 0.7430073 | 0.7295095 | 0.90662604 | 0.67273734 | 0.8436086 | 22.85139 | -3058.183 | 10 |\n",
       "| orderMCMC_map    | 0.60 | 80 | 80 | 114.8 | 0.7069951 | 0.6981013 | 0.77131310 | 0.64556962 | 0.8097928 | 22.85139 | -3111.937 | 10 |\n",
       "| orderMCMC_map    | 0.70 | 80 | 80 | 103.8 | 0.6399418 | 0.6351266 | 0.62246835 | 0.57299578 | 0.7168969 | 22.85139 | -3194.479 | 10 |\n",
       "| orderMCMC_map    | 0.80 | 80 | 80 |  93.3 | 0.5840662 | 0.5822785 | 0.44104938 | 0.51736990 | 0.6566396 | 22.85139 | -3273.203 | 10 |\n",
       "| orderMCMC_map    | 0.90 | 80 | 80 |  84.1 | 0.4834291 | 0.4843354 | 0.28839205 | 0.40439873 | 0.5563825 | 22.85139 | -3372.354 | 10 |\n",
       "| orderMCMC_map    | 0.95 | 80 | 80 |  80.2 | 0.3976156 | 0.3812500 | 0.21736111 | 0.33520833 | 0.5023258 | 22.85139 | -3467.590 | 10 |\n",
       "| orderMCMC_map    | 0.99 | 80 | 80 |  75.7 | 0.2884420 | 0.2607286 | 0.11250000 | 0.21543210 | 0.4142062 | 22.85139 | -3590.108 | 10 |\n",
       "| orderMCMC_sample | 0.20 | 80 | 80 |  95.8 | 0.7578692 | 0.7296677 | 0.65189873 | 0.67088608 | 0.8607046 | 19.22253 |        NA | 10 |\n",
       "| orderMCMC_sample | 0.30 | 80 | 80 |  80.5 | 0.7304553 | 0.7189405 | 0.43447052 | 0.62468354 | 0.8294715 | 19.22253 |        NA | 10 |\n",
       "| orderMCMC_sample | 0.40 | 80 | 80 |  75.3 | 0.7043998 | 0.6814346 | 0.29541139 | 0.60506329 | 0.7915312 | 19.22253 |        NA | 10 |\n",
       "| orderMCMC_sample | 0.50 | 80 | 80 |  73.0 | 0.6844889 | 0.6604430 | 0.22519144 | 0.58417722 | 0.7762562 | 19.22253 | -3177.409 | 10 |\n",
       "| orderMCMC_sample | 0.60 | 80 | 80 |  69.9 | 0.6183498 | 0.5974684 | 0.16885451 | 0.49545886 | 0.7279974 | 19.22253 | -3250.295 | 10 |\n",
       "| orderMCMC_sample | 0.70 | 80 | 80 |  68.9 | 0.5435046 | 0.5219937 | 0.13752149 | 0.40000000 | 0.6740523 | 19.22253 | -3338.169 | 10 |\n",
       "| orderMCMC_sample | 0.80 | 80 | 80 |  67.7 | 0.4527019 | 0.4285494 | 0.10618847 | 0.34146361 | 0.5915295 | 19.22253 | -3432.727 | 10 |\n",
       "| orderMCMC_sample | 0.90 | 80 | 80 |  68.1 | 0.3377019 | 0.3500547 | 0.05031646 | 0.22818038 | 0.4396252 | 19.22253 | -3554.340 | 10 |\n",
       "| orderMCMC_sample | 0.95 | 80 | 80 |  69.9 | 0.2496390 | 0.2484568 | 0.04284639 | 0.12703767 | 0.3419307 | 19.22253 | -3648.906 | 10 |\n",
       "| orderMCMC_sample | 0.99 | 80 | 80 |  73.2 | 0.1441410 | 0.1428241 | 0.01822103 | 0.06856013 | 0.2244472 | 19.22253 | -3761.079 | 10 |\n",
       "\n"
      ],
      "text/plain": [
       "   algorithm        threshold sample_size dim SHD_mean TPR_mean  TPR_median\n",
       "1  orderMCMC_map    0.20      80          80  169.0    0.7854069 0.7701389 \n",
       "2  orderMCMC_map    0.30      80          80  152.6    0.7742009 0.7484177 \n",
       "3  orderMCMC_map    0.40      80          80  139.1    0.7592310 0.7358386 \n",
       "4  orderMCMC_map    0.50      80          80  127.1    0.7430073 0.7295095 \n",
       "5  orderMCMC_map    0.60      80          80  114.8    0.7069951 0.6981013 \n",
       "6  orderMCMC_map    0.70      80          80  103.8    0.6399418 0.6351266 \n",
       "7  orderMCMC_map    0.80      80          80   93.3    0.5840662 0.5822785 \n",
       "8  orderMCMC_map    0.90      80          80   84.1    0.4834291 0.4843354 \n",
       "9  orderMCMC_map    0.95      80          80   80.2    0.3976156 0.3812500 \n",
       "10 orderMCMC_map    0.99      80          80   75.7    0.2884420 0.2607286 \n",
       "11 orderMCMC_sample 0.20      80          80   95.8    0.7578692 0.7296677 \n",
       "12 orderMCMC_sample 0.30      80          80   80.5    0.7304553 0.7189405 \n",
       "13 orderMCMC_sample 0.40      80          80   75.3    0.7043998 0.6814346 \n",
       "14 orderMCMC_sample 0.50      80          80   73.0    0.6844889 0.6604430 \n",
       "15 orderMCMC_sample 0.60      80          80   69.9    0.6183498 0.5974684 \n",
       "16 orderMCMC_sample 0.70      80          80   68.9    0.5435046 0.5219937 \n",
       "17 orderMCMC_sample 0.80      80          80   67.7    0.4527019 0.4285494 \n",
       "18 orderMCMC_sample 0.90      80          80   68.1    0.3377019 0.3500547 \n",
       "19 orderMCMC_sample 0.95      80          80   69.9    0.2496390 0.2484568 \n",
       "20 orderMCMC_sample 0.99      80          80   73.2    0.1441410 0.1428241 \n",
       "   FPRn_median TPR_q1     TPR_q3    time_mean logscore_mean N \n",
       "1  1.50655488  0.73417722 0.8612548 22.85139         NA     10\n",
       "2  1.28314873  0.72025316 0.8546283 22.85139         NA     10\n",
       "3  1.09375000  0.69791139 0.8546283 22.85139         NA     10\n",
       "4  0.90662604  0.67273734 0.8436086 22.85139  -3058.183     10\n",
       "5  0.77131310  0.64556962 0.8097928 22.85139  -3111.937     10\n",
       "6  0.62246835  0.57299578 0.7168969 22.85139  -3194.479     10\n",
       "7  0.44104938  0.51736990 0.6566396 22.85139  -3273.203     10\n",
       "8  0.28839205  0.40439873 0.5563825 22.85139  -3372.354     10\n",
       "9  0.21736111  0.33520833 0.5023258 22.85139  -3467.590     10\n",
       "10 0.11250000  0.21543210 0.4142062 22.85139  -3590.108     10\n",
       "11 0.65189873  0.67088608 0.8607046 19.22253         NA     10\n",
       "12 0.43447052  0.62468354 0.8294715 19.22253         NA     10\n",
       "13 0.29541139  0.60506329 0.7915312 19.22253         NA     10\n",
       "14 0.22519144  0.58417722 0.7762562 19.22253  -3177.409     10\n",
       "15 0.16885451  0.49545886 0.7279974 19.22253  -3250.295     10\n",
       "16 0.13752149  0.40000000 0.6740523 19.22253  -3338.169     10\n",
       "17 0.10618847  0.34146361 0.5915295 19.22253  -3432.727     10\n",
       "18 0.05031646  0.22818038 0.4396252 19.22253  -3554.340     10\n",
       "19 0.04284639  0.12703767 0.3419307 19.22253  -3648.906     10\n",
       "20 0.01822103  0.06856013 0.2244472 19.22253  -3761.079     10"
      ]
     },
     "metadata": {},
     "output_type": "display_data"
    }
   ],
   "source": [
    "sumROC_order_mcmc"
   ]
  },
  {
   "cell_type": "markdown",
   "metadata": {},
   "source": [
    "### PC algorithm"
   ]
  },
  {
   "cell_type": "code",
   "execution_count": null,
   "metadata": {},
   "outputs": [],
   "source": [
    "filenames <- list.files(pattern = \"^(res_pcalg)\", path = directory)\n",
    "roc_pcalg <- data.frame()\n",
    "for (filename in filenames) {\n",
    "  tmpdf <- read.csv(file.path(directory, filename))\n",
    "  roc_pcalg <- dplyr::bind_rows(roc_pcalg, tmpdf)\n",
    "}"
   ]
  },
  {
   "cell_type": "code",
   "execution_count": null,
   "metadata": {},
   "outputs": [],
   "source": [
    "sum_roc_pcalg <- roc_pcalg %>% \n",
    "                 filter(dim %in% dims) %>%\n",
    "                 filter(sample_size %in% sample_sizes) %>%         \n",
    "                 filter(avparents %in% avparents) %>%                    \n",
    "                 group_by(algorithm, alpha, sample_size, dim) %>% \n",
    "                 summarise(\n",
    "                          SHD_mean = mean(SHD),\n",
    "                          TPR_mean = mean(TPR), \n",
    "                          TPR_median = median(TPR), \n",
    "                          FPRn_median = median(FPRn), \n",
    "                          TPR_q1 = quantile(TPR, probs = c(0.05)), \n",
    "                          TPR_q3 = quantile(TPR, probs = c(0.95)),\n",
    "                          time_mean = mean(time),\n",
    "                          N = n()) %>% ungroup() %>%\n",
    "                 filter(N %in% replicates)"
   ]
  },
  {
   "cell_type": "code",
   "execution_count": null,
   "metadata": {},
   "outputs": [],
   "source": [
    "sum_roc_pcalg"
   ]
  },
  {
   "cell_type": "markdown",
   "metadata": {},
   "source": [
    "### Max-Min hill climbing"
   ]
  },
  {
   "cell_type": "code",
   "execution_count": null,
   "metadata": {},
   "outputs": [],
   "source": [
    "filenames <- list.files(pattern = \"^(res_mmhc)\", path = directory)\n",
    "roc_mmhc <- data.frame()\n",
    "for (filename in filenames) {\n",
    "  tmpdf <- read.csv(file.path(directory, filename))\n",
    "  roc_mmhc <- dplyr::bind_rows(roc_mmhc, tmpdf)\n",
    "}"
   ]
  },
  {
   "cell_type": "code",
   "execution_count": null,
   "metadata": {},
   "outputs": [],
   "source": [
    "sum_roc_mmhc <- roc_mmhc %>% \n",
    "                filter(dim %in% dims) %>%\n",
    "                filter(sample_size %in% sample_sizes) %>%\n",
    "                    filter(avparents %in% avparents) %>%                    \n",
    "                 group_by(algorithm, alpha, sample_size, dim) %>% \n",
    "                 summarise( SHD_mean = mean(SHD),\n",
    "                           TPR_mean = mean(TPR), \n",
    "                          TPR_median = median(TPR), \n",
    "                          FPRn_median = median(FPRn), \n",
    "                          TPR_q1 = quantile(TPR, probs = c(0.05)), \n",
    "                          TPR_q3 = quantile(TPR, probs = c(0.95)),\n",
    "                           time_mean = mean(time),\n",
    "                          N = n()) %>% ungroup()%>%\n",
    "                    filter(N %in% replicates)"
   ]
  },
  {
   "cell_type": "markdown",
   "metadata": {},
   "source": [
    "### Iterative MCMC"
   ]
  },
  {
   "cell_type": "code",
   "execution_count": 90,
   "metadata": {},
   "outputs": [
    {
     "name": "stdout",
     "output_type": "stream",
     "text": [
      "        TPR      FPRn SHD  logscore     time it avparents replicate\n",
      "1 0.8571429 0.1428571   4 -287.9607 2.128992  1         2        13\n",
      "     algorithm dim sample_size  MAP plus1it posterior score_type bdepar_chi\n",
      "1 itsearch_map   8          80 True      NA        NA        bde          1\n",
      "  bdepar_edgepf\n",
      "1             1\n",
      "        TPR    FPRn SHD  logscore     time it avparents replicate    algorithm\n",
      "1 0.7721519 1.21519 147 -3158.251 120.5187 14         2         1 itsearch_map\n",
      "  dim sample_size  MAP plus1it posterior score_type bdepar_chi bdepar_edgepf\n",
      "1  80          80 True      NA        NA        bde          1             1\n",
      "     TPR FPRn SHD  logscore     time it avparents replicate    algorithm dim\n",
      "1 0.7875 1.35 159 -2842.935 77.33303  9         2        13 itsearch_map  80\n",
      "  sample_size  MAP plus1it posterior score_type bdepar_chi bdepar_edgepf\n",
      "1          80 True      NA        NA        bde          1             1\n",
      "        TPR    FPRn SHD  logscore     time it avparents replicate    algorithm\n",
      "1 0.8101266 1.21519 144 -3021.023 62.65855  7         2        14 itsearch_map\n",
      "  dim sample_size  MAP plus1it posterior score_type bdepar_chi bdepar_edgepf\n",
      "1  80          80 True      NA        NA        bde          1             1\n",
      "        TPR     FPRn SHD  logscore     time it avparents replicate    algorithm\n",
      "1 0.7341772 1.594937 179 -3113.172 72.60109  7         2         2 itsearch_map\n",
      "  dim sample_size  MAP plus1it posterior score_type bdepar_chi bdepar_edgepf\n",
      "1  80          80 True      NA        NA        bde          1             1\n"
     ]
    }
   ],
   "source": [
    "filenames <- list.files(pattern = \"^(res_itsearch)\", path = directory)\n",
    "ROCdf_itsearch <- data.frame()\n",
    "for (filename in filenames) {\n",
    "  tmpdf <- read.csv(file.path(directory, filename))\n",
    "  print(tmpdf)\n",
    "  ROCdf_itsearch <- dplyr::bind_rows(ROCdf_itsearch, tmpdf)\n",
    "}"
   ]
  },
  {
   "cell_type": "code",
   "execution_count": 91,
   "metadata": {},
   "outputs": [
    {
     "data": {
      "text/html": [
       "80"
      ],
      "text/latex": [
       "80"
      ],
      "text/markdown": [
       "80"
      ],
      "text/plain": [
       "[1] 80"
      ]
     },
     "metadata": {},
     "output_type": "display_data"
    }
   ],
   "source": [
    "dims"
   ]
  },
  {
   "cell_type": "code",
   "execution_count": 92,
   "metadata": {},
   "outputs": [
    {
     "data": {
      "text/html": [
       "80"
      ],
      "text/latex": [
       "80"
      ],
      "text/markdown": [
       "80"
      ],
      "text/plain": [
       "[1] 80"
      ]
     },
     "metadata": {},
     "output_type": "display_data"
    }
   ],
   "source": [
    "sample_sizes"
   ]
  },
  {
   "cell_type": "code",
   "execution_count": 93,
   "metadata": {},
   "outputs": [
    {
     "data": {
      "text/html": [
       "2"
      ],
      "text/latex": [
       "2"
      ],
      "text/markdown": [
       "2"
      ],
      "text/plain": [
       "[1] 2"
      ]
     },
     "metadata": {},
     "output_type": "display_data"
    }
   ],
   "source": [
    "avparents"
   ]
  },
  {
   "cell_type": "code",
   "execution_count": 94,
   "metadata": {},
   "outputs": [
    {
     "data": {
      "text/html": [
       "<style>\n",
       ".list-inline {list-style: none; margin:0; padding: 0}\n",
       ".list-inline>li {display: inline-block}\n",
       ".list-inline>li:not(:last-child)::after {content: \"\\00b7\"; padding: 0 .5ex}\n",
       "</style>\n",
       "<ol class=list-inline><li>1</li><li>2</li></ol>\n"
      ],
      "text/latex": [
       "\\begin{enumerate*}\n",
       "\\item 1\n",
       "\\item 2\n",
       "\\end{enumerate*}\n"
      ],
      "text/markdown": [
       "1. 1\n",
       "2. 2\n",
       "\n",
       "\n"
      ],
      "text/plain": [
       "[1] 1 2"
      ]
     },
     "metadata": {},
     "output_type": "display_data"
    }
   ],
   "source": [
    "replicates"
   ]
  },
  {
   "cell_type": "code",
   "execution_count": 99,
   "metadata": {},
   "outputs": [
    {
     "name": "stderr",
     "output_type": "stream",
     "text": [
      "Warning message in eval(expr, envir, enclos):\n",
      "“NAs introduced by coercion”\n"
     ]
    },
    {
     "data": {
      "text/html": [
       "&lt;NA&gt;"
      ],
      "text/latex": [
       "<NA>"
      ],
      "text/markdown": [
       "&lt;NA&gt;"
      ],
      "text/plain": [
       "[1] NA"
      ]
     },
     "metadata": {},
     "output_type": "display_data"
    }
   ],
   "source": [
    "as.numeric(\"None\")"
   ]
  },
  {
   "cell_type": "code",
   "execution_count": 100,
   "metadata": {},
   "outputs": [
    {
     "data": {
      "text/plain": [
       "NULL"
      ]
     },
     "metadata": {},
     "output_type": "display_data"
    }
   ],
   "source": [
    "NULL"
   ]
  },
  {
   "cell_type": "code",
   "execution_count": 95,
   "metadata": {},
   "outputs": [],
   "source": [
    "sum_roc_itsearch <- ROCdf_itsearch %>% \n",
    "                filter(dim %in% dims) %>%\n",
    "                filter(sample_size %in% sample_sizes) %>%\n",
    "                filter(avparents %in% avparents) %>%\n",
    "                filter(replicate %in% replicates) %>%\n",
    "                 group_by(algorithm, sample_size, dim) %>% \n",
    "                 summarise( SHD_mean = mean(SHD),\n",
    "                           TPR_mean = mean(TPR), \n",
    "                          TPR_median = median(TPR), \n",
    "                          FPRn_median = median(FPRn), \n",
    "                          TPR_q1 = quantile(TPR, probs = c(0.05)), \n",
    "                          TPR_q3 = quantile(TPR, probs = c(0.95)),\n",
    "                          logscore_mean =  mean(logscore),\n",
    "                           time_mean = mean(time),\n",
    "                           it_mean = mean(it),\n",
    "                          N = n())#%>%\n",
    "                    #filter(N %in% replicates\n",
    "                          #)"
   ]
  },
  {
   "cell_type": "code",
   "execution_count": 96,
   "metadata": {},
   "outputs": [
    {
     "data": {
      "text/html": [
       "<table>\n",
       "<caption>A grouped_df: 1 × 13</caption>\n",
       "<thead>\n",
       "\t<tr><th scope=col>algorithm</th><th scope=col>sample_size</th><th scope=col>dim</th><th scope=col>SHD_mean</th><th scope=col>TPR_mean</th><th scope=col>TPR_median</th><th scope=col>FPRn_median</th><th scope=col>TPR_q1</th><th scope=col>TPR_q3</th><th scope=col>logscore_mean</th><th scope=col>time_mean</th><th scope=col>it_mean</th><th scope=col>N</th></tr>\n",
       "\t<tr><th scope=col>&lt;fct&gt;</th><th scope=col>&lt;int&gt;</th><th scope=col>&lt;int&gt;</th><th scope=col>&lt;dbl&gt;</th><th scope=col>&lt;dbl&gt;</th><th scope=col>&lt;dbl&gt;</th><th scope=col>&lt;dbl&gt;</th><th scope=col>&lt;dbl&gt;</th><th scope=col>&lt;dbl&gt;</th><th scope=col>&lt;dbl&gt;</th><th scope=col>&lt;dbl&gt;</th><th scope=col>&lt;dbl&gt;</th><th scope=col>&lt;int&gt;</th></tr>\n",
       "</thead>\n",
       "<tbody>\n",
       "\t<tr><td>itsearch_map</td><td>80</td><td>80</td><td>163</td><td>0.7531646</td><td>0.7531646</td><td>1.405063</td><td>0.7360759</td><td>0.7702532</td><td>-3135.712</td><td>96.55987</td><td>10.5</td><td>2</td></tr>\n",
       "</tbody>\n",
       "</table>\n"
      ],
      "text/latex": [
       "A grouped\\_df: 1 × 13\n",
       "\\begin{tabular}{lllllllllllll}\n",
       " algorithm & sample\\_size & dim & SHD\\_mean & TPR\\_mean & TPR\\_median & FPRn\\_median & TPR\\_q1 & TPR\\_q3 & logscore\\_mean & time\\_mean & it\\_mean & N\\\\\n",
       " <fct> & <int> & <int> & <dbl> & <dbl> & <dbl> & <dbl> & <dbl> & <dbl> & <dbl> & <dbl> & <dbl> & <int>\\\\\n",
       "\\hline\n",
       "\t itsearch\\_map & 80 & 80 & 163 & 0.7531646 & 0.7531646 & 1.405063 & 0.7360759 & 0.7702532 & -3135.712 & 96.55987 & 10.5 & 2\\\\\n",
       "\\end{tabular}\n"
      ],
      "text/markdown": [
       "\n",
       "A grouped_df: 1 × 13\n",
       "\n",
       "| algorithm &lt;fct&gt; | sample_size &lt;int&gt; | dim &lt;int&gt; | SHD_mean &lt;dbl&gt; | TPR_mean &lt;dbl&gt; | TPR_median &lt;dbl&gt; | FPRn_median &lt;dbl&gt; | TPR_q1 &lt;dbl&gt; | TPR_q3 &lt;dbl&gt; | logscore_mean &lt;dbl&gt; | time_mean &lt;dbl&gt; | it_mean &lt;dbl&gt; | N &lt;int&gt; |\n",
       "|---|---|---|---|---|---|---|---|---|---|---|---|---|\n",
       "| itsearch_map | 80 | 80 | 163 | 0.7531646 | 0.7531646 | 1.405063 | 0.7360759 | 0.7702532 | -3135.712 | 96.55987 | 10.5 | 2 |\n",
       "\n"
      ],
      "text/plain": [
       "  algorithm    sample_size dim SHD_mean TPR_mean  TPR_median FPRn_median\n",
       "1 itsearch_map 80          80  163      0.7531646 0.7531646  1.405063   \n",
       "  TPR_q1    TPR_q3    logscore_mean time_mean it_mean N\n",
       "1 0.7360759 0.7702532 -3135.712     96.55987  10.5    2"
      ]
     },
     "metadata": {},
     "output_type": "display_data"
    }
   ],
   "source": [
    "sum_roc_itsearch"
   ]
  },
  {
   "cell_type": "markdown",
   "metadata": {},
   "source": [
    "### Blip"
   ]
  },
  {
   "cell_type": "code",
   "execution_count": null,
   "metadata": {},
   "outputs": [],
   "source": [
    "filenames <- list.files(pattern = \"^(res_blip)\", path = directory)\n",
    "ROCdf_blip <- data.frame()\n",
    "for (filename in filenames) {\n",
    "  tmpdf <- read.csv(file.path(directory, filename))\n",
    "  ROCdf_blip <- dplyr::bind_rows(ROCdf_blip, tmpdf)\n",
    "}"
   ]
  },
  {
   "cell_type": "code",
   "execution_count": null,
   "metadata": {},
   "outputs": [],
   "source": [
    "sum_roc_blip <- ROCdf_blip %>% \n",
    "                filter(dim %in% dims) %>%\n",
    "                filter(sample_size %in% sample_sizes) %>%\n",
    "                filter(avparents %in% avparents) %>%                    \n",
    "                 group_by(algorithm, sample_size, dim) %>% \n",
    "                 summarise( SHD_mean = mean(SHD),\n",
    "                           TPR_mean = mean(TPR),\n",
    "                          time_mean=mean(time),\n",
    "                          TPR_median = median(TPR), \n",
    "                          FPRn_median = median(FPRn), \n",
    "                          TPR_q1 = quantile(TPR, probs = c(0.05)),\n",
    "                          TPR_q3 = quantile(TPR, probs = c(0.95)),\n",
    "                           logscore_mean = mean(logscore),\n",
    "                          N = n())%>%\n",
    "                    filter(N %in% replicates)"
   ]
  },
  {
   "cell_type": "markdown",
   "metadata": {},
   "source": [
    "### GoBNiLP"
   ]
  },
  {
   "cell_type": "code",
   "execution_count": null,
   "metadata": {},
   "outputs": [],
   "source": [
    "#filenames <- list.files(pattern = \"^(res_gobnilp)\", path = directory)\n",
    "#ROCdf_gobnilp <- data.frame()\n",
    "#for (filename in filenames) {\n",
    "#  tmpdf <- read.csv(file.path(directory, filename))\n",
    "#  ROCdf_gobnilp <- dplyr::bind_rows(ROCdf_gobnilp, tmpdf)\n",
    "#}"
   ]
  },
  {
   "cell_type": "code",
   "execution_count": null,
   "metadata": {},
   "outputs": [],
   "source": [
    "#sum_roc_gobnilp <- ROCdf_gobnilp %>% \n",
    "#                filter(dim %in% dims) %>%\n",
    "#                    filter(sample_size %in% sample_sizes) %>%\n",
    "#                    filter(avparents %in% avparents) %>%                    \n",
    "#                   group_by(algorithm, sample_size, dim) %>% \n",
    "#                 summarise( SHD_mean = mean(SHD),\n",
    "#                     TPR_mean = mean(TPR), \n",
    "#                          TPR_median = median(TPR), \n",
    "#                          FPRn_median = median(FPRn), \n",
    "#                          TPR_q1 = quantile(TPR, probs = c(0.05)),\n",
    "#                          TPR_q3 = quantile(TPR, probs = c(0.95)),\n",
    "#                           time_mean = mean(time),\n",
    "#                          N = n())%>%\n",
    "#                    filter(N %in% replicates)"
   ]
  },
  {
   "cell_type": "markdown",
   "metadata": {},
   "source": [
    "## Plot ROC curves"
   ]
  },
  {
   "cell_type": "code",
   "execution_count": null,
   "metadata": {},
   "outputs": [],
   "source": [
    "ggplot() +\n",
    "# PC algorithm\n",
    "geom_errorbar(data = sum_roc_pcalg,\n",
    "              aes(x = FPRn_median,\n",
    "                  ymin = TPR_q1, \n",
    "                  ymax = TPR_q3, \n",
    "                  col = algorithm), \n",
    "              width = 0.01) +\n",
    "geom_path(data = sum_roc_pcalg,\n",
    "          aes(x = FPRn_median, \n",
    "              y = TPR_median,\n",
    "              col = algorithm)) +\n",
    "geom_point(data = sum_roc_pcalg,\n",
    "           aes(x = FPRn_median, \n",
    "               y = TPR_median,               \n",
    "               col = algorithm, \n",
    "               shape = algorithm), \n",
    "               size = 1) + \n",
    "# geom_text(data = sum_roc_pcalg,\n",
    "#            aes(x = FPRn_median, \n",
    "#                y = TPR_q3,               \n",
    "#                label=alpha, col=algorithm),\n",
    "#          check_overlap = TRUE,\n",
    "#           nudge_x=-0.02,\n",
    "#          nudge_y=0.02\n",
    "#          ) +\n",
    "\n",
    "# Max-min hill- climbing \n",
    "geom_errorbar(data = sum_roc_mmhc,\n",
    "              aes(x = FPRn_median,\n",
    "                  ymin = TPR_q1, \n",
    "                  ymax = TPR_q3, \n",
    "                  col = algorithm), \n",
    "              width = 0.01) +\n",
    "geom_path(data = sum_roc_mmhc,\n",
    "          aes(x = FPRn_median, \n",
    "              y = TPR_median,\n",
    "              col = algorithm)) +\n",
    "geom_point(data = sum_roc_mmhc,\n",
    "           aes(x = FPRn_median, \n",
    "               y = TPR_median,               \n",
    "               col = algorithm, \n",
    "               shape = algorithm), \n",
    "               size = 1) + \n",
    "# geom_text(data = sum_roc_mmhc,\n",
    "#            aes(x = FPRn_median, \n",
    "#                y = TPR_q3,               \n",
    "#                label=alpha, col=algorithm),\n",
    "#          check_overlap = TRUE,\n",
    "#           nudge_x=-0.02,\n",
    "#          nudge_y=0.02\n",
    "#          ) +\n",
    "\n",
    "# Order mcmc\n",
    "geom_errorbar(data = sumROC_order_mcmc,\n",
    "              aes(x = FPRn_median,\n",
    "                  ymin = TPR_q1, \n",
    "                  ymax = TPR_q3, \n",
    "                  col = algorithm), \n",
    "              width = 0.01) +\n",
    "geom_path(data = sumROC_order_mcmc,\n",
    "          aes(x = FPRn_median, \n",
    "              y = TPR_median,\n",
    "              col = algorithm)) +\n",
    "geom_point(data = sumROC_order_mcmc,\n",
    "           aes(x = FPRn_median, \n",
    "               y = TPR_median,               \n",
    "               col = algorithm, \n",
    "               shape = algorithm), \n",
    "               size = 2) +\n",
    "# geom_text(data = sumROC_order_mcmc,\n",
    "#            aes(x = FPRn_median, \n",
    "#                y = TPR_q3,               \n",
    "#                col = algorithm, label=threshold),\n",
    "#            check_overlap = TRUE,\n",
    "#           nudge_x=-0.02,\n",
    "#          nudge_y=0.02) +\n",
    "\n",
    "# Iterative search\n",
    "geom_errorbar(data = sum_roc_itsearch,\n",
    "              aes(x = FPRn_median,\n",
    "                  ymin = TPR_q1, \n",
    "                  ymax = TPR_q3, \n",
    "                  col = algorithm), \n",
    "              width = 0.01) +\n",
    "geom_path(data = sum_roc_itsearch,\n",
    "          aes(x = FPRn_median, \n",
    "              y = TPR_median,\n",
    "              col = algorithm)) +\n",
    "geom_point(data = sum_roc_itsearch,\n",
    "           aes(x = FPRn_median, \n",
    "               y = TPR_median,               \n",
    "               col = algorithm, \n",
    "               shape = algorithm), \n",
    "               size = 1) +\n",
    "# Blip\n",
    "geom_errorbar(data = sum_roc_blip,\n",
    "              aes(x = FPRn_median,\n",
    "                  ymin = TPR_q1, \n",
    "                  ymax = TPR_q3, \n",
    "                  col = algorithm), \n",
    "              width = 0.01) +\n",
    "geom_path(data = sum_roc_blip,\n",
    "          aes(x = FPRn_median, \n",
    "              y = TPR_median,\n",
    "              col = algorithm)) +\n",
    "geom_point(data = sum_roc_blip,\n",
    "           aes(x = FPRn_median, \n",
    "               y = TPR_median,               \n",
    "               col = algorithm, \n",
    "               shape = algorithm), \n",
    "               size = 1) +\n",
    "# # Gobnilp\n",
    "#geom_errorbar(data = sum_roc_gobnilp,\n",
    "#               aes(x = FPRn_median,\n",
    "#                   ymin = TPR_q1, \n",
    "#                   ymax = TPR_q3, \n",
    "#                   col = algorithm), \n",
    "#               width = 0.01) +\n",
    "# geom_path(data = sum_roc_gobnilp,\n",
    "#           aes(x = FPRn_median, \n",
    "#               y = TPR_median,\n",
    "#               col = algorithm)) +\n",
    "# geom_point(data = sum_roc_gobnilp,\n",
    "#            aes(x = FPRn_median, \n",
    "#                y = TPR_median,               \n",
    "##                col = algorithm, \n",
    "#3                shape = algorithm), \n",
    "#                size = 1) +\n",
    "## Subplot\n",
    "facet_wrap(dim ~ sample_size + N , scales=\"free_x\") +\n",
    "# Titles etc\n",
    "xlab(\"FPRn\") +\n",
    "ylab(\"TPR\") +\n",
    "ggtitle(\"ROC\") +\n",
    "theme(plot.title = element_text(hjust = 0.5))\n",
    "ggsave(file=file.path(\"ROC.eps\"))"
   ]
  },
  {
   "cell_type": "code",
   "execution_count": null,
   "metadata": {},
   "outputs": [],
   "source": [
    "ggplot() + \n",
    "geom_point(data = sumROC_order_mcmc,\n",
    "          aes(x = algorithm,\n",
    "              y = SHD_mean,\n",
    "              col = algorithm)) +\n",
    "geom_text(data = sumROC_order_mcmc,\n",
    "          aes(x = algorithm, \n",
    "               y = SHD_mean,               \n",
    "                col = algorithm, label=threshold),\n",
    "            check_overlap = TRUE,\n",
    "           nudge_x=0.2,\n",
    "          nudge_y=0.9) +\n",
    "\n",
    "geom_point(data = sum_roc_pcalg,\n",
    "          aes(x = algorithm,\n",
    "              y = SHD_mean,\n",
    "              col = algorithm)) +\n",
    "geom_text(data = sum_roc_pcalg,\n",
    "          aes(x = algorithm, \n",
    "               y = SHD_mean,               \n",
    "                col = algorithm, label=alpha),\n",
    "            check_overlap = TRUE,\n",
    "           nudge_x=0.2,\n",
    "          nudge_y=0.9) +\n",
    "\n",
    "geom_point(data = sum_roc_mmhc,\n",
    "          aes(x = algorithm,\n",
    "              y = SHD_mean,\n",
    "              col = algorithm)) +\n",
    "geom_text(data = sum_roc_mmhc,\n",
    "          aes(x = algorithm, \n",
    "               y = SHD_mean,               \n",
    "                col = algorithm, label=alpha),\n",
    "            check_overlap = TRUE,\n",
    "           nudge_x=0.2,\n",
    "          nudge_y=0.9) +\n",
    "\n",
    "geom_point(data = sum_roc_blip,\n",
    "          aes(x = algorithm,\n",
    "              y = SHD_mean,\n",
    "              col = algorithm)) +\n",
    "geom_point(data = sum_roc_itsearch,\n",
    "          aes(x = algorithm,\n",
    "              y = SHD_mean,\n",
    "              col = algorithm)) +\n",
    "theme(axis.text.x = element_text(angle = 10), legend.position = \"none\") +\n",
    "facet_wrap(dim ~ sample_size + N , scales=\"free_x\") +\n",
    "ylab(\"Mean SHD\") +\n",
    "xlab(\"Algorithm\") \n",
    "ggsave(file=file.path(\"SHD.eps\"))"
   ]
  },
  {
   "cell_type": "markdown",
   "metadata": {},
   "source": [
    "## Logscores"
   ]
  },
  {
   "cell_type": "code",
   "execution_count": null,
   "metadata": {},
   "outputs": [],
   "source": [
    "ggplot() + \n",
    "geom_point(data = sumROC_order_mcmc,\n",
    "          aes(x = algorithm,\n",
    "              y = logscore_mean,\n",
    "              col = algorithm)) +\n",
    "geom_text(data = sumROC_order_mcmc,\n",
    "          aes(x = algorithm, \n",
    "               y = logscore_mean,               \n",
    "                col = algorithm, label=threshold),\n",
    "            check_overlap = TRUE,\n",
    "           nudge_x=0.2,\n",
    "          nudge_y=0.9) +\n",
    "\n",
    "#geom_point(data = sum_roc_pcalg,\n",
    "#          aes(x = algorithm,\n",
    "#              y = logscore_mean,\n",
    "#              col = algorithm)) +\n",
    "#geom_point(data = sum_roc_mmhc,\n",
    "#          aes(x = algorithm,\n",
    "#              y = logscore_mean,\n",
    "#              col = algorithm)) +\n",
    "geom_point(data = sum_roc_blip,\n",
    "          aes(x = algorithm,\n",
    "              y = logscore_mean,\n",
    "              col = algorithm)) +\n",
    "geom_point(data = sum_roc_itsearch,\n",
    "          aes(x = algorithm,\n",
    "              y = logscore_mean,\n",
    "              col = algorithm)) +\n",
    "theme(axis.text.x = element_text(angle = 90),\n",
    "      legend.position = \"none\") +\n",
    "#facet_wrap(dim ~ sample_size + N , scales=\"free_x\") +\n",
    "ylab(\"Mean log-score\") +\n",
    "xlab(\"Algorithm\") \n",
    "ggsave(file=file.path(\"logscore.eps\"))\n"
   ]
  },
  {
   "cell_type": "markdown",
   "metadata": {},
   "source": [
    "## Times"
   ]
  },
  {
   "cell_type": "code",
   "execution_count": null,
   "metadata": {},
   "outputs": [],
   "source": [
    "ggplot() + \n",
    "geom_point(data = sumROC_order_mcmc,\n",
    "          aes(x = algorithm,\n",
    "              y = time_mean,\n",
    "              col = algorithm)) +\n",
    "geom_point(data = sum_roc_pcalg,\n",
    "          aes(x = algorithm,\n",
    "              y = time_mean,\n",
    "              col = algorithm)) +\n",
    "geom_text(data = sum_roc_pcalg,\n",
    "          aes(x = algorithm, \n",
    "               y = time_mean,               \n",
    "                col = algorithm, label=alpha),\n",
    "            check_overlap = TRUE,\n",
    "           nudge_x=0.2,\n",
    "          nudge_y=0.9) +\n",
    "\n",
    "geom_point(data = sum_roc_mmhc,\n",
    "          aes(x = algorithm,\n",
    "              y = time_mean,\n",
    "              col = algorithm)) +\n",
    "geom_point(data = sum_roc_blip,\n",
    "          aes(x = algorithm,\n",
    "              y = time_mean,\n",
    "              col = algorithm)) +\n",
    "geom_point(data = sum_roc_itsearch,\n",
    "          aes(x = algorithm,\n",
    "              y = time_mean,\n",
    "             col = algorithm)) +\n",
    "theme(axis.text.x = element_text(angle = 10), legend.position = \"none\") +\n",
    "facet_wrap(dim ~ sample_size + N , scales=\"free_x\") +\n",
    "ylab(\"Mean run time (s)\") +\n",
    "xlab(\"Algorithm\") \n",
    "ggsave(file=file.path(\"runtimes.eps\"))"
   ]
  },
  {
   "cell_type": "code",
   "execution_count": null,
   "metadata": {},
   "outputs": [],
   "source": [
    "sum_roc_pcalg"
   ]
  },
  {
   "cell_type": "code",
   "execution_count": null,
   "metadata": {},
   "outputs": [],
   "source": []
  }
 ],
 "metadata": {
  "kernelspec": {
   "display_name": "R",
   "language": "R",
   "name": "ir"
  },
  "language_info": {
   "codemirror_mode": "r",
   "file_extension": ".r",
   "mimetype": "text/x-r-source",
   "name": "R",
   "pygments_lexer": "r",
   "version": "3.6.3"
  }
 },
 "nbformat": 4,
 "nbformat_minor": 4
}
