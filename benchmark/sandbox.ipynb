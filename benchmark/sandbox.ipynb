{
 "cells": [
  {
   "cell_type": "code",
   "execution_count": null,
   "metadata": {},
   "outputs": [],
   "source": [
    "library(reticulate)\n",
    "#library(dplyr)\n",
    "library(bnlearn)\n",
    "library(BiDAG)\n",
    "library(RBGL)\n",
    "library(gRbase)\n",
    "library(\"rjson\")\n",
    "\n",
    "source(\"lib/code_for_binary_simulations/make_var_names.R\")\n",
    "source(\"lib/code_for_binary_simulations/bnlearn_help_fns.R\")\n",
    "source(\"lib/code_for_binary_simulations/make_name.R\")\n",
    "\n",
    "source(\"lib/binarydatagen/generate_DAG.R\")\n",
    "source(\"lib/code_for_binary_simulations/make_name.R\")\n",
    "\n",
    "source(\"lib/binarydatagen/generatebinaryBNf.r\")\n"
   ]
  },
  {
   "cell_type": "code",
   "execution_count": null,
   "metadata": {},
   "outputs": [],
   "source": []
  },
  {
   "cell_type": "code",
   "execution_count": null,
   "metadata": {},
   "outputs": [],
   "source": [
    "fges_result_to_matrix <- function(graph) {\n",
    "nodes <- c()\n",
    "for (node in graph$nodes) {\n",
    "    #print(node$name)\n",
    "    nodes <- c(nodes, node$name)\n",
    "}\n",
    "p <- length(nodes)\n",
    "m = matrix(0, p, p)\n",
    "\n",
    "for (e in graph$edgesSet){\n",
    "    node1 <- e$node1$name \n",
    "    node2 <- e$node2$name\n",
    "    node1_ind <- match(node1, nodes) # TODO: This might not always work..\n",
    "    node2_ind <- match(node2, nodes)\n",
    "\n",
    "    isdirected <- e$endpoint2$ordinal && TRUE\n",
    "    \n",
    "    if (isdirected){\n",
    "        m[node1_ind, node2_ind] <- 1\n",
    "    } else {\n",
    "        m[node1_ind, node2_ind] <- 1\n",
    "        m[node2_ind, node1_ind] <- 1\n",
    "    }\n",
    "    \n",
    "}\n",
    "    colnames(m) <- nodes #seq(p)\n",
    "    \n",
    "    graph$\n",
    "    \n",
    "    return(m)\n",
    "    }\n",
    "graph <- fromJSON(file = \"testing_graph.json\")\n",
    "#m <- fges_result_to_matrix(graph)\n",
    "\n",
    "#m"
   ]
  },
  {
   "cell_type": "code",
   "execution_count": null,
   "metadata": {},
   "outputs": [],
   "source": [
    "#graph$nodes"
   ]
  },
  {
   "cell_type": "code",
   "execution_count": null,
   "metadata": {},
   "outputs": [],
   "source": [
    "graph$edgesSet[[1]]$node1$name\n",
    "graph$edgesSet[[1]]$node2$name\n",
    "graph$edgesSet[[1]]$endpoint2$ordinal"
   ]
  },
  {
   "cell_type": "code",
   "execution_count": null,
   "metadata": {},
   "outputs": [],
   "source": [
    "nodes"
   ]
  },
  {
   "cell_type": "code",
   "execution_count": null,
   "metadata": {},
   "outputs": [],
   "source": [
    "#graph$edgesSet"
   ]
  },
  {
   "cell_type": "code",
   "execution_count": null,
   "metadata": {},
   "outputs": [],
   "source": [
    "n=5\n",
    "avParents = 2\n",
    "DAG <- generateDAGMaxParents(n = n, d = avParents)\n",
    "adjmat <- graphNEL2adjMAT(DAG)\n"
   ]
  },
  {
   "cell_type": "code",
   "execution_count": null,
   "metadata": {},
   "outputs": [],
   "source": [
    "print(adjmat)"
   ]
  },
  {
   "cell_type": "code",
   "execution_count": null,
   "metadata": {},
   "outputs": [],
   "source": [
    "write.csv(adjmat, file = \"adjmat.csv\", quote = FALSE, row.names = FALSE)\n"
   ]
  },
  {
   "cell_type": "code",
   "execution_count": null,
   "metadata": {},
   "outputs": [],
   "source": [
    "adjmat <- read.csv(\"adjmat.csv\")\n",
    "names(adjmat) = seq(5)\n",
    "rownames(adjmat) = seq(5)\n",
    "\n",
    "print(as.matrix(adjmat))\n",
    "DAG <- adjacency2dag(adjmat)\n"
   ]
  },
  {
   "cell_type": "code",
   "execution_count": null,
   "metadata": {},
   "outputs": [],
   "source": []
  },
  {
   "cell_type": "code",
   "execution_count": null,
   "metadata": {},
   "outputs": [],
   "source": [
    "edges(DAG)"
   ]
  },
  {
   "cell_type": "code",
   "execution_count": null,
   "metadata": {},
   "outputs": [],
   "source": [
    "#DAG <- readRDS(\"simresults/dag_p_5_avpar_3_1.rds\")\n",
    "\n",
    "print(edges(DAG))\n",
    "\n",
    "binBN <- generateBinaryBN(DAG, c(0.1, 0.9))\n",
    "binBN"
   ]
  },
  {
   "cell_type": "code",
   "execution_count": null,
   "metadata": {},
   "outputs": [],
   "source": [
    "readRDS(\"simresults/dag_p_5_avpar_3_1.rds\")\n",
    "#readRDS(\"simresults/bn_p_5_avpar_3_1.rds\")"
   ]
  },
  {
   "cell_type": "code",
   "execution_count": null,
   "metadata": {},
   "outputs": [],
   "source": [
    "library(rcausal)\n"
   ]
  },
  {
   "cell_type": "code",
   "execution_count": null,
   "metadata": {},
   "outputs": [],
   "source": [
    "data(\"audiology\")    #Load the charity dataset\n",
    "\n",
    "#Compute FGES search\n",
    "#tetradrunner <- tetradrunner(algoId = 'fges',df = audiology,scoreId = 'cg-bic-score',dataType = 'discrete', faithfulnessAssumed=TRUE,maxDegree=-1,verbose=TRUE) ## bdeu-score\n",
    "tetradrunner <- tetradrunner(algoId = 'fges',df = data,scoreId = 'bdeu-score-score',dataType = 'discrete',\n",
    "faithfulnessAssumed=TRUE,maxDegree=-1,verbose=FALSE) ## bdeu-score\n",
    "\n",
    "#tetradrunner$nodes #Show the result's nodes\n",
    "#tetradrunner$edges #Show the result's edges\n",
    "\n",
    "#tetradrunner$\n",
    "#is(edges)\n",
    "graph <- tetradrunner$graph\n",
    "graph$getEdges()\n",
    "#graph$getAttribute('bdeu')\n",
    "\n",
    "#nodes <- graph$getNodes()\n",
    "#for(i in 0:as.integer(nodes$size()-1)){\n",
    "#    node <- nodes$get(i)\n",
    "#    cat(node$getName(),\": \",node$getAttribute('BIC'),\"\\n\")\n",
    "#}"
   ]
  },
  {
   "cell_type": "code",
   "execution_count": null,
   "metadata": {},
   "outputs": [],
   "source": [
    "is(audiology)"
   ]
  },
  {
   "cell_type": "code",
   "execution_count": null,
   "metadata": {},
   "outputs": [],
   "source": [
    "getwd()"
   ]
  },
  {
   "cell_type": "code",
   "execution_count": null,
   "metadata": {},
   "outputs": [],
   "source": [
    "gob <- import(\"pygobnilp.gobnilp\")"
   ]
  },
  {
   "cell_type": "code",
   "execution_count": null,
   "metadata": {},
   "outputs": [],
   "source": [
    "m <- gob$Gobnilp()"
   ]
  },
  {
   "cell_type": "code",
   "execution_count": null,
   "metadata": {},
   "outputs": [],
   "source": [
    "dag <- readRDS(\"simresults/dag_p_80_1.rds\")"
   ]
  },
  {
   "cell_type": "code",
   "execution_count": null,
   "metadata": {},
   "outputs": [],
   "source": [
    "data = read.csv(\"simresults/data_n_100_p_80_avpar_2_1.csv\")"
   ]
  },
  {
   "cell_type": "code",
   "execution_count": null,
   "metadata": {},
   "outputs": [],
   "source": [
    "data"
   ]
  },
  {
   "cell_type": "code",
   "execution_count": null,
   "metadata": {},
   "outputs": [],
   "source": [
    "datanew <- matrixToDataframe(data, names(data))"
   ]
  },
  {
   "cell_type": "code",
   "execution_count": null,
   "metadata": {},
   "outputs": [],
   "source": [
    "mmoutput <- mmhc(datanew)#, restrict.args = list(alpha=0.6))"
   ]
  },
  {
   "cell_type": "code",
   "execution_count": null,
   "metadata": {},
   "outputs": [],
   "source": [
    "datan = read.csv(\"simresults/range_header_data_n_200_p_20_1.csv\", sep=\" \")"
   ]
  },
  {
   "cell_type": "code",
   "execution_count": null,
   "metadata": {},
   "outputs": [],
   "source": [
    "m$learn(\"simresults/range_header_data_n_200_p_20_1.csv\",plot=FALSE)"
   ]
  },
  {
   "cell_type": "code",
   "execution_count": null,
   "metadata": {},
   "outputs": [],
   "source": [
    "estgraph <- m$learned_bn"
   ]
  },
  {
   "cell_type": "code",
   "execution_count": null,
   "metadata": {},
   "outputs": [],
   "source": [
    "mingraphs = estgraph$bnlearn_modelstring()"
   ]
  },
  {
   "cell_type": "code",
   "execution_count": null,
   "metadata": {},
   "outputs": [],
   "source": [
    "nygraph = model2network(mingraphs)"
   ]
  },
  {
   "cell_type": "code",
   "execution_count": null,
   "metadata": {},
   "outputs": [],
   "source": [
    "gnel_dag <- as.graphNEL(nygraph)"
   ]
  },
  {
   "cell_type": "code",
   "execution_count": null,
   "metadata": {},
   "outputs": [],
   "source": [
    "gR <- numeric_labels(gnel_dag)"
   ]
  },
  {
   "cell_type": "code",
   "execution_count": null,
   "metadata": {},
   "outputs": [],
   "source": [
    "compareDAGs(gR, dag)"
   ]
  },
  {
   "cell_type": "code",
   "execution_count": null,
   "metadata": {},
   "outputs": [],
   "source": [
    "plot(dag)"
   ]
  },
  {
   "cell_type": "code",
   "execution_count": null,
   "metadata": {},
   "outputs": [],
   "source": [
    "plot(gR)"
   ]
  },
  {
   "cell_type": "code",
   "execution_count": null,
   "metadata": {},
   "outputs": [],
   "source": [
    "mydata <- read.csv(\"simresults/data_n_40_p_20_1.csv\", sep = \" \")\n",
    "head(mydata)\n",
    "summary(mydata)"
   ]
  },
  {
   "cell_type": "code",
   "execution_count": null,
   "metadata": {},
   "outputs": [],
   "source": []
  },
  {
   "cell_type": "code",
   "execution_count": null,
   "metadata": {},
   "outputs": [],
   "source": [
    "data(learning.test)"
   ]
  },
  {
   "cell_type": "code",
   "execution_count": null,
   "metadata": {},
   "outputs": [],
   "source": [
    "head(learning.test)"
   ]
  },
  {
   "cell_type": "code",
   "execution_count": null,
   "metadata": {},
   "outputs": [],
   "source": [
    "summary(learning.test)"
   ]
  },
  {
   "cell_type": "code",
   "execution_count": null,
   "metadata": {},
   "outputs": [],
   "source": [
    "m2 <- gob$Gobnilp()\n",
    "m2$learn(learning.test, plot=TRUE)"
   ]
  },
  {
   "cell_type": "markdown",
   "metadata": {},
   "source": [
    "# Rcausal example"
   ]
  },
  {
   "cell_type": "code",
   "execution_count": null,
   "metadata": {},
   "outputs": [],
   "source": [
    "library(rcausal)\n",
    "data(\"audiology\")    #Load the charity dataset\n",
    "\n",
    "#Compute FGES search\n",
    "tetradrunner <- tetradrunner(algoId = 'fges', df = mydata, scoreId = 'bdeu-score',dataType = 'discrete', faithfulnessAssumed=TRUE,maxDegree=-1,verbose=FALSE)\n",
    "edges <- tetradrunner$edges\n",
    "#tetradrunner$nodes #Show the result's nodes\n",
    "#tetradrunner$edges #Show the result's edges\n",
    "\n",
    "graph <- tetradrunner$graph\n",
    "#graph$getAttribute('BIC')\n",
    "\n",
    "#graph$getEdges()\n",
    "nodes <- graph$getNodes()\n",
    "for(i in 0:as.integer(nodes$size()-1)){\n",
    "    node <- nodes$get(i)\n",
    "    #cat(node$getName(),\": \",node$getAttribute('BIC'),\"\\n\")\n",
    "}"
   ]
  },
  {
   "cell_type": "code",
   "execution_count": null,
   "metadata": {},
   "outputs": [],
   "source": [
    "edges"
   ]
  },
  {
   "cell_type": "code",
   "execution_count": null,
   "metadata": {},
   "outputs": [],
   "source": [
    "for(e in edges){\n",
    "    \n",
    "    print(e)\n",
    "}"
   ]
  },
  {
   "cell_type": "code",
   "execution_count": null,
   "metadata": {},
   "outputs": [],
   "source": [
    "p <- length(tetradrunner$nodes)\n",
    "adjmat <- matrix(0, p, p)\n",
    "for (e in edges) { \n",
    "    edgevec <- unlist(strsplit(e, \" \"))\n",
    "    i <- match(edgevec[1], tetradrunner$nodes)\n",
    "    j <- match(edgevec[3], tetradrunner$nodes)\n",
    "    if(edgevec[2] == '---'){\n",
    "        edge <- c(edgevec[1], edgevec[3])\n",
    "        adjmat[i, j] <- 1\n",
    "        adjmat[j, i] <- 1\n",
    "    } else if (edgevec[2]==\"-->\"){\n",
    "        adjmat[i, j] <- 1\n",
    "    } \n",
    "}"
   ]
  },
  {
   "cell_type": "code",
   "execution_count": null,
   "metadata": {},
   "outputs": [],
   "source": [
    "write.csv(adjmat, file = \"matrix.csv\", row.names = FALSE, quote = FALSE)"
   ]
  },
  {
   "cell_type": "code",
   "execution_count": null,
   "metadata": {},
   "outputs": [],
   "source": [
    "sum(adjmat)"
   ]
  },
  {
   "cell_type": "code",
   "execution_count": null,
   "metadata": {},
   "outputs": [],
   "source": [
    "adjmat"
   ]
  },
  {
   "cell_type": "code",
   "execution_count": null,
   "metadata": {},
   "outputs": [],
   "source": [
    "length(tetradrunner$nodes)"
   ]
  },
  {
   "cell_type": "code",
   "execution_count": null,
   "metadata": {},
   "outputs": [],
   "source": [
    "tetradrunner$nodes[12]"
   ]
  },
  {
   "cell_type": "code",
   "execution_count": null,
   "metadata": {},
   "outputs": [],
   "source": [
    "match(\"V7\", tetradrunner$nodes)"
   ]
  },
  {
   "cell_type": "code",
   "execution_count": null,
   "metadata": {},
   "outputs": [],
   "source": [
    "mydata <- read.csv(\"simresults/data_n_100_p_50_avpar_2_1.csv\")"
   ]
  },
  {
   "cell_type": "code",
   "execution_count": null,
   "metadata": {},
   "outputs": [],
   "source": [
    "mydata"
   ]
  },
  {
   "cell_type": "code",
   "execution_count": null,
   "metadata": {},
   "outputs": [],
   "source": []
  }
 ],
 "metadata": {
  "kernelspec": {
   "display_name": "R",
   "language": "R",
   "name": "ir"
  },
  "language_info": {
   "codemirror_mode": "r",
   "file_extension": ".r",
   "mimetype": "text/x-r-source",
   "name": "R",
   "pygments_lexer": "r",
   "version": "3.6.3"
  }
 },
 "nbformat": 4,
 "nbformat_minor": 4
}
